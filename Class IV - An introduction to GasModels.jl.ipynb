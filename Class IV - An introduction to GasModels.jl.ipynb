{
 "cells": [
  {
   "cell_type": "markdown",
   "metadata": {},
   "source": [
    "# Class IV - An introduction to GasModels.jl\n",
    "\n",
    "*Los Alamos National Laboratory Grid Science Winter School, 2019*\n",
    "\n",
    "Welcome! This tutorial will introduce you to the basics of the [GasModels.jl](https://github.com/lanl-ansi/GasModels.jl) package. If you haven't yet, work through [Class I - An introduction  to Julia](Class%20I%20-%20An%20introduction%20to%20Julia.ipynb) and [Class II - An introduction  to JuMP](Class%20II%20-%20An%20introduction%20to%20JuMP.ipynb) first.\n",
    "\n",
    "As in Class II, run the following magic sauce to check we're good to go."
   ]
  },
  {
   "cell_type": "code",
   "execution_count": 1,
   "metadata": {},
   "outputs": [
    {
     "name": "stdout",
     "output_type": "stream",
     "text": [
      "\u001b[32m\u001b[1m  Updating\u001b[22m\u001b[39m registry at `~/.julia/registries/General`\n",
      "\u001b[32m\u001b[1m  Updating\u001b[22m\u001b[39m git-repo `https://github.com/JuliaRegistries/General.git`\n",
      "\u001b[?25l\u001b[2K\u001b[?25hExcellent! Everything is good to go!\n"
     ]
    }
   ],
   "source": [
    "import Pkg\n",
    "Pkg.activate(@__DIR__)\n",
    "Pkg.instantiate()\n",
    "println(\"Excellent! Everything is good to go!\")"
   ]
  },
  {
   "cell_type": "markdown",
   "metadata": {},
   "source": [
    "### Background \n",
    "\n",
    "This [presentation](https://github.com/lanl-ansi/tutorial-grid-science-2019/blob/master/assets/infrastructure_optimization_in_julia.pdf) provides motivation and context for this notebook.\n",
    "\n",
    "Some additional informaiton is also available at,\n",
    "* [GasModels Documentation](https://lanl-ansi.github.io/GasModels.jl/stable/)\n"
   ]
  },
  {
   "cell_type": "markdown",
   "metadata": {},
   "source": [
    "### Working with the Network Model\n",
    "\n",
    "A 40-node gas network models is provided with this tutorial.  The MATLAB-like input data files can be viewed [here](../edit/data/gaslib40.m).\n",
    "\n",
    "Similar to PowerModels, the `parse_file` function from GasModels is used to load a text files into the GasModels data model, "
   ]
  },
  {
   "cell_type": "code",
   "execution_count": 2,
   "metadata": {},
   "outputs": [
    {
     "name": "stdout",
     "output_type": "stream",
     "text": [
      "\u001b[35m[warn | InfrastructureModels]: Matlab parser skipping the following line:\u001b[39m\n",
      "\u001b[35m  end\u001b[39m\n",
      "\u001b[35m[warn | GasModels]: no case version found in .m file.  The file seems to be missing \"mgc.version = ...\"\u001b[39m\n"
     ]
    },
    {
     "data": {
      "text/plain": [
       "Dict{String,Any} with 21 entries:\n",
       "  \"gas_specific_gravity\"         => 0.6\n",
       "  \"temperature\"                  => 273.15\n",
       "  \"source_type\"                  => \".m\"\n",
       "  \"name\"                         => \"gaslib40\"\n",
       "  \"source_version\"               => \"0.0.0+\"\n",
       "  \"multinetwork\"                 => false\n",
       "  \"gas_molar_mass\"               => 0.0185674\n",
       "  \"compressor\"                   => Dict{String,Any}(\"41\"=>Dict{String,Any}(\"t_…\n",
       "  \"consumer\"                     => Dict{String,Any}(\"24\"=>Dict{String,Any}(\"ql…\n",
       "  \"standard_density\"             => 1.0\n",
       "  \"baseQ\"                        => 604.167\n",
       "  \"compressibility_factor\"       => 0.8\n",
       "  \"specific_heat_capacity_ratio\" => 1.4\n",
       "  \"producer\"                     => Dict{String,Any}(\"1\"=>Dict{String,Any}(\"qgm…\n",
       "  \"per_unit\"                     => true\n",
       "  \"junction\"                     => Dict{String,Any}(\"32\"=>Dict{String,Any}(\"ju…\n",
       "  \"pipe\"                         => Dict{String,Any}(\"32\"=>Dict{String,Any}(\"le…\n",
       "  \"baseP\"                        => 8101325\n",
       "  \"sound_speed\"                  => 312.805\n",
       "  \"R\"                            => 8.314\n",
       "  \"connection\"                   => Any[]"
      ]
     },
     "execution_count": 2,
     "metadata": {},
     "output_type": "execute_result"
    }
   ],
   "source": [
    "using GasModels\n",
    "\n",
    "data = GasModels.parse_file(\"data/gaslib40.m\")"
   ]
  },
  {
   "cell_type": "markdown",
   "metadata": {},
   "source": [
    "In this case the file parser generated warning messages.  \n",
    "\n",
    "The second warning block message indicates that the data file did not have any version information. Still the parser will load this data.\n",
    "\n",
    "Now, lets look at some of the network data.  The data for the first pipe and compressor can be viewed as follows,"
   ]
  },
  {
   "cell_type": "code",
   "execution_count": 3,
   "metadata": {},
   "outputs": [
    {
     "ename": "ArgumentError",
     "evalue": "ArgumentError: invalid index: 1 of type String",
     "output_type": "error",
     "traceback": [
      "ArgumentError: invalid index: 1 of type String",
      "",
      "Stacktrace:",
      " [1] to_index(::String) at ./indices.jl:270",
      " [2] to_index(::Array{Any,1}, ::String) at ./indices.jl:247",
      " [3] to_indices at ./indices.jl:298 [inlined]",
      " [4] to_indices at ./indices.jl:295 [inlined]",
      " [5] getindex(::Array{Any,1}, ::String) at ./abstractarray.jl:927",
      " [6] top-level scope at In[3]:1"
     ]
    }
   ],
   "source": [
    "data[\"connection\"][\"1\"]"
   ]
  },
  {
   "cell_type": "code",
   "execution_count": 4,
   "metadata": {},
   "outputs": [
    {
     "ename": "ArgumentError",
     "evalue": "ArgumentError: invalid index: 100000 of type String",
     "output_type": "error",
     "traceback": [
      "ArgumentError: invalid index: 100000 of type String",
      "",
      "Stacktrace:",
      " [1] to_index(::String) at ./indices.jl:270",
      " [2] to_index(::Array{Any,1}, ::String) at ./indices.jl:247",
      " [3] to_indices at ./indices.jl:298 [inlined]",
      " [4] to_indices at ./indices.jl:295 [inlined]",
      " [5] getindex(::Array{Any,1}, ::String) at ./abstractarray.jl:927",
      " [6] top-level scope at In[4]:1"
     ]
    }
   ],
   "source": [
    "data[\"connection\"][\"100000\"]"
   ]
  },
  {
   "cell_type": "markdown",
   "metadata": {},
   "source": [
    "Here, connection can either be of type \"pipe\" in which case it has a length, diameter, and friction_factor associated with it or can be a compressor with a different set of fields as shown above.\n",
    "\n",
    "The first junction in the network can be viewed as follows,"
   ]
  },
  {
   "cell_type": "code",
   "execution_count": 5,
   "metadata": {},
   "outputs": [
    {
     "data": {
      "text/plain": [
       "Dict{String,Any} with 7 entries:\n",
       "  \"junction_type\" => 0\n",
       "  \"status\"        => 1\n",
       "  \"junction_i\"    => 1\n",
       "  \"pmax\"          => 1.0\n",
       "  \"p_nominal\"     => 3.10133e6\n",
       "  \"pmin\"          => 0.382817\n",
       "  \"index\"         => 1"
      ]
     },
     "execution_count": 5,
     "metadata": {},
     "output_type": "execute_result"
    }
   ],
   "source": [
    "data[\"junction\"][\"1\"]"
   ]
  },
  {
   "cell_type": "markdown",
   "metadata": {},
   "source": [
    "That's great, but looking at components one-by-one can get boring fast.\n",
    "\n",
    "All InfrastructureModels packages provide a `print_summary` function that prints a table-like summary of the network data to the terminal."
   ]
  },
  {
   "cell_type": "code",
   "execution_count": 6,
   "metadata": {},
   "outputs": [
    {
     "name": "stdout",
     "output_type": "stream",
     "text": [
      "\u001b[1mMetadata\u001b[0m\n",
      "  R: 8.314\n",
      "  baseP: 8101325\n",
      "  baseQ: 604.167\n",
      "  compressibility_factor: 0.800\n",
      "  connection: [(0)]\n",
      "  gas_molar_mass: 0.019\n",
      "  gas_specific_gravity: 0.600\n",
      "  multinetwork: false\n",
      "  name: gaslib40\n",
      "  per_unit: true\n",
      "  sound_speed: 312.805\n",
      "  source_type: .m\n",
      "  source_version: 0.0.0+\n",
      "  specific_heat_capacity_ratio: 1.400\n",
      "  standard_density: 1.000\n",
      "  temperature: 273.150\n",
      "\n",
      "\u001b[1mTable Counts\u001b[0m\n",
      "  junction: 46\n",
      "  producer: 3\n",
      "  consumer: 29\n",
      "  compressor: 12\n",
      "  pipe: 39\n",
      "\n",
      "\n",
      "\u001b[1mTable: junction\u001b[0m\n",
      "          junction_i,  pmin,  pmax,  p_nominal\n",
      "       0:          0, 0.013, 1.000, 101325.000\n",
      "       1:          1, 0.383, 1.000, 3.101325e6\n",
      "       2:          2, 0.383, 1.000, 3.101325e6\n",
      "       3:          3, 0.013, 1.000, 101325.000\n",
      "       4:          4, 0.013, 1.000, 101325.000\n",
      "       5:          5, 0.383, 1.000, 3.101325e6\n",
      "       6:          6, 0.013, 1.000, 101325.000\n",
      "       7:          7, 0.013, 1.000, 101325.000\n",
      "       8:          8, 0.013, 1.000, 101325.000\n",
      "       9:          9, 0.013, 1.000, 101325.000\n",
      "      10:         10, 0.013, 1.000, 101325.000\n",
      "      11:         11, 0.013, 1.000, 101325.000\n",
      "      12:         12, 0.013, 1.000, 101325.000\n",
      "      13:         13, 0.383, 1.000, 3.101325e6\n",
      "      14:         14, 0.013, 1.000, 101325.000\n",
      "      15:         15, 0.013, 1.000, 101325.000\n",
      "      16:         16, 0.013, 1.000, 101325.000\n",
      "      17:         17, 0.013, 1.000, 101325.000\n",
      "      18:         18, 0.013, 1.000, 101325.000\n",
      "      19:         19, 0.013, 1.000, 101325.000\n",
      "      20:         20, 0.013, 1.000, 101325.000\n",
      "      21:         21, 0.383, 1.000, 3.101325e6\n",
      "      22:         22, 0.013, 1.000, 101325.000\n",
      "      23:         23, 0.013, 1.000, 101325.000\n",
      "      24:         24, 0.013, 1.000, 101325.000\n",
      "      25:         25, 0.013, 1.000, 101325.000\n",
      "      26:         26, 0.013, 1.000, 101325.000\n",
      "      27:         27, 0.013, 0.877, 101325.000\n",
      "      28:         28, 0.013, 1.000, 101325.000\n",
      "      29:         29, 0.013, 1.000, 101325.000\n",
      "      30:         30, 0.013, 1.000, 101325.000\n",
      "      31:         31, 0.013, 1.000, 101325.000\n",
      "      32:         32, 0.013, 0.877, 101325.000\n",
      "      33:         33, 0.013, 0.877, 101325.000\n",
      "      34:         34, 0.013, 1.000, 101325.000\n",
      "      35:         35, 0.013, 0.877, 101325.000\n",
      "      36:         36, 0.013, 1.000, 101325.000\n",
      "      37:         37, 0.383, 1.000, 3.101325e6\n",
      "      38:         38, 0.013, 0.877, 101325.000\n",
      "      39:         39, 0.013, 0.877, 101325.000\n",
      "  100021:     100021, 0.013, 1.000, 101325.000\n",
      "  200002:     200002, 0.013, 1.000, 101325.000\n",
      "  300001:     300001, 0.013, 1.000, 101325.000\n",
      "  400037:     400037, 0.013, 1.000, 101325.000\n",
      "  500005:     500005, 0.013, 1.000, 101325.000\n",
      "  600013:     600013, 0.013, 1.000, 101325.000\n",
      "\n",
      "  default values:\n",
      "    junction_type: 0\n",
      "    status: 1\n",
      "\n",
      "\n",
      "\u001b[1mTable: producer\u001b[0m\n",
      "         producer_i, junction, qg_junc\n",
      "      0:          0,        0,       0\n",
      "      1:          1,        1,       1\n",
      "      2:          2,        2,       2\n",
      "\n",
      "  default values:\n",
      "    qg: 0.333\n",
      "    qgmin: 0.000\n",
      "    qgmax: 0.333\n",
      "    status: 1\n",
      "    dispatchable: 0\n",
      "\n",
      "\n",
      "\u001b[1mTable: consumer\u001b[0m\n",
      "         consumer_i, junction, ql_junc\n",
      "      3:          3,        3,       3\n",
      "      4:          4,        4,       4\n",
      "      5:          5,        5,       5\n",
      "      6:          6,        6,       6\n",
      "      7:          7,        7,       7\n",
      "      8:          8,        8,       8\n",
      "      9:          9,        9,       9\n",
      "     10:         10,       10,      10\n",
      "     11:         11,       11,      11\n",
      "     12:         12,       12,      12\n",
      "     13:         13,       13,      13\n",
      "     14:         14,       14,      14\n",
      "     15:         15,       15,      15\n",
      "     16:         16,       16,      16\n",
      "     17:         17,       17,      17\n",
      "     18:         18,       18,      18\n",
      "     19:         19,       19,      19\n",
      "     20:         20,       20,      20\n",
      "     21:         21,       21,      21\n",
      "     22:         22,       22,      22\n",
      "     23:         23,       23,      23\n",
      "     24:         24,       24,      24\n",
      "     25:         25,       25,      25\n",
      "     26:         26,       26,      26\n",
      "     27:         27,       27,      27\n",
      "     28:         28,       28,      28\n",
      "     29:         29,       29,      29\n",
      "     30:         30,       30,      30\n",
      "     31:         31,       31,      31\n",
      "\n",
      "  default values:\n",
      "    ql: 0.034\n",
      "    qlmin: 0.000\n",
      "    qlmax: 0.034\n",
      "    status: 1.000\n",
      "    dispatchable: 0\n",
      "\n",
      "\n",
      "\u001b[1mTable: compressor\u001b[0m\n",
      "          f_junction, t_junction, compressor_i\n",
      "      39:         37,     400037,           39\n",
      "      40:         13,     600013,           40\n",
      "      41:         21,     100021,           41\n",
      "      42:          2,     200002,           42\n",
      "      43:          1,     300001,           43\n",
      "      44:          5,     500005,           44\n",
      "  100000:         33,     100021,       100000\n",
      "  100001:         35,     200002,       100001\n",
      "  100002:         38,     300001,       100002\n",
      "  100003:         27,     400037,       100003\n",
      "  100004:         39,     500005,       100004\n",
      "  100005:         32,     600013,       100005\n",
      "\n",
      "  default values:\n",
      "    qmin: 0.000\n",
      "    qmax: 700.000\n",
      "    c_ratio_min: 1.000\n",
      "    c_ratio_max: 5.000\n",
      "    power_max: 3500.000\n",
      "    status: 1\n",
      "\n",
      "\n",
      "\u001b[1mTable: pipe\u001b[0m\n",
      "         f_junction, t_junction,    length, diameter, friction_factor, pipline_i\n",
      "      0:          0,          5, 13071.085,    1.000,           0.007,         0\n",
      "      1:         32,         18, 76893.551,    0.800,           0.007,         1\n",
      "      2:         37,         15, 21557.566,    1.000,           0.007,         2\n",
      "      3:         15,         16,  6998.054,    1.000,           0.007,         3\n",
      "      4:         16,         12, 58218.970,    0.800,           0.007,         4\n",
      "      5:         27,         28, 86690.266,    0.800,           0.007,         5\n",
      "      6:         28,         11, 16579.326,    0.600,           0.008,         6\n",
      "      7:         11,         20, 10022.783,    0.600,           0.008,         7\n",
      "      8:         28,          6, 35218.839,    0.600,           0.008,         8\n",
      "      9:          6,         22, 20322.205,    0.600,           0.008,         9\n",
      "     10:         20,          8, 32868.202,    0.800,           0.007,        10\n",
      "     11:         27,         39, 47488.284,    0.800,           0.007,        11\n",
      "     12:          8,          9,  3802.587,    0.600,           0.008,        12\n",
      "     13:          8,         24, 39036.042,    0.800,           0.007,        13\n",
      "     14:          9,         26, 38659.824,    0.400,           0.008,        14\n",
      "     15:         24,          3, 18017.850,    0.600,           0.008,        15\n",
      "     16:         26,         23,  3067.547,    0.600,           0.008,        16\n",
      "     17:         23,         14, 12015.875,    0.400,           0.008,        17\n",
      "     18:          9,          7, 14043.114,    0.400,           0.008,        18\n",
      "     19:          7,         19, 20634.698,    0.600,           0.008,        19\n",
      "     20:         19,          6, 10586.130,    0.600,           0.008,        20\n",
      "     21:         19,         10, 10452.031,    0.600,           0.008,        21\n",
      "     22:          5,         25, 12397.352,    0.800,           0.007,        22\n",
      "     23:         10,         22, 19303.192,    0.600,           0.008,        23\n",
      "     24:         27,         22, 66036.595,    0.600,           0.008,        24\n",
      "     25:         27,         17, 18969.413,    1.000,           0.007,        25\n",
      "     26:         17,         31, 36061.010,    0.800,           0.007,        26\n",
      "     27:         31,         30, 22224.153,    0.800,           0.007,        27\n",
      "     28:         31,          4, 31179.619,    0.800,           0.007,        28\n",
      "     29:          4,         17, 12766.703,    1.000,           0.007,        29\n",
      "     30:         31,         38, 32921.260,    0.800,           0.007,        30\n",
      "     31:         35,         21, 49866.148,    0.800,           0.007,        31\n",
      "     32:         21,         34,  3479.455,    0.800,           0.007,        32\n",
      "     33:         35,         36,  3418.008,    1.000,           0.007,        33\n",
      "     34:         29,         36, 32449.372,    1.000,           0.007,        34\n",
      "     35:         29,         21, 26427.482,    0.800,           0.007,        35\n",
      "     36:         12,         13, 18136.597,    1.000,           0.007,        36\n",
      "     37:         12,         33, 65057.174,    0.800,           0.007,        37\n",
      "     38:         12,         34, 65532.213,    0.800,           0.007,        38\n",
      "\n",
      "  default values:\n",
      "    status: 1\n"
     ]
    }
   ],
   "source": [
    "GasModels.print_summary(data)"
   ]
  },
  {
   "cell_type": "markdown",
   "metadata": {},
   "source": [
    "### Solving the Gas Flow Problem (GF)\n",
    "\n",
    "Before we can solve a gas flow problem, we need a solver.  The gas flow problem as defined in GasModels.jl is a Mixed-Integer Nonlinear Program (MINLP). Hence, we require an MINLP solver; in this case we will use [Pavito](https://github.com/JuliaOpt/Pavito.jl). This MINLP solver requires two other solvers (1) a mip-solver and (2) a continuous NLP solver. We shall use GLPK and Ipopt as the mip solver and NLP solvers, respectively. "
   ]
  },
  {
   "cell_type": "code",
   "execution_count": null,
   "metadata": {},
   "outputs": [
    {
     "name": "stdout",
     "output_type": "stream",
     "text": [
      "nl_solver   : OptimizerFactory(Ipopt.Optimizer, (), Base.Iterators.Pairs{Symbol,Real,Tuple{Symbol,Symbol},NamedTuple{(:tol, :print_level),Tuple{Float64,Int64}}}(:tol=>1.0e-6,:print_level=>0))\n",
      "mip_solver  : OptimizerFactory(Cbc.Optimizer, (), Base.Iterators.Pairs(:logLevel=>0))\n",
      "log_levels  : Symbol[:Options, :Table, :Info]\n",
      "\n",
      "#Variables: 199\n",
      "#IntBinVar: 102\n",
      "#Constraints: 565\n",
      "#Linear Constraints: 409\n",
      "#Quadratic Constraints: 0\n",
      "#NonLinear Constraints: 156\n",
      "Obj Sense: Max\n",
      "\n",
      "Status of relaxation: LOCALLY_SOLVED\n",
      "Time for relaxation: 0.05903792381286621\n",
      "Relaxation Obj: 0.0\n",
      "\n",
      "       MIPobj              NLPobj       Time \n",
      "=============================================\n",
      "      29.9912              0.0115        0.1 \n",
      "       2.3716              0.0043        0.3 \n",
      "       2.2784              0.0057        0.5 \n",
      "       2.3312              0.0043        0.8 \n",
      "       2.0951              0.003         1.2 \n",
      "       2.1906              0.0005        1.7 \n",
      "       2.1161              0.0013        2.2 \n",
      "       2.141               0.0113        2.9 \n",
      "       2.3434              0.0668        3.7 \n",
      "       2.7494              0.0605        4.7 \n",
      "       2.9192              0.0816        5.7 \n",
      "       2.9648              0.0077        7.0 \n",
      "       2.2951              0.0124        8.3 \n",
      "       2.3417              0.0187        9.8 \n",
      "       2.5545              0.0117       11.6 \n",
      "       2.4657              0.0287       13.5 \n",
      "       2.6637              0.023        15.7 \n",
      "       2.619               0.0161       18.0 \n",
      "       2.5492              0.0083       20.5 \n",
      "       2.3736              0.0006       23.1 \n",
      "       2.0957              0.0002       25.9 \n",
      "       2.1104              0.001        28.8 \n",
      "       2.1582              0.0089       31.8 \n",
      "       2.2789              0.001        35.2 \n",
      "       2.1279              0.0121       39.3 \n",
      "       2.3267              0.0181       43.6 "
     ]
    }
   ],
   "source": [
    "using JuMP\n",
    "using Cbc\n",
    "using Ipopt\n",
    "using Juniper\n",
    "\n",
    "cbc_solver = JuMP.with_optimizer(Cbc.Optimizer, logLevel=0)\n",
    "ipopt_solver = JuMP.with_optimizer(Ipopt.Optimizer, tol=1e-6, print_level=0)\n",
    "\n",
    "juniper_solver = JuMP.with_optimizer(Juniper.Optimizer, mip_solver=cbc_solver, nl_solver=ipopt_solver)\n",
    "\n",
    "result = run_gf(data, MINLPGasModel, juniper_solver)"
   ]
  },
  {
   "cell_type": "markdown",
   "metadata": {},
   "source": [
    "The result object contains a variety of useful information about the optimization problem solved, including the objective value and wall clock runtime.  Detailed documentation of the result dictionary is available [here](https://lanl-ansi.github.io/GasModels.jl/stable/result-data/), however most interesting point is the `solution` data."
   ]
  },
  {
   "cell_type": "code",
   "execution_count": 13,
   "metadata": {},
   "outputs": [
    {
     "ename": "UndefVarError",
     "evalue": "UndefVarError: result not defined",
     "output_type": "error",
     "traceback": [
      "UndefVarError: result not defined",
      "",
      "Stacktrace:",
      " [1] top-level scope at In[13]:1"
     ]
    }
   ],
   "source": [
    "result[\"solution\"]"
   ]
  },
  {
   "cell_type": "markdown",
   "metadata": {},
   "source": [
    "Not every useful, lets try `print_summary`,"
   ]
  },
  {
   "cell_type": "code",
   "execution_count": 14,
   "metadata": {},
   "outputs": [
    {
     "ename": "UndefVarError",
     "evalue": "UndefVarError: result not defined",
     "output_type": "error",
     "traceback": [
      "UndefVarError: result not defined",
      "",
      "Stacktrace:",
      " [1] top-level scope at In[14]:1"
     ]
    }
   ],
   "source": [
    "GasModels.print_summary(result[\"solution\"])"
   ]
  }
 ],
 "metadata": {
  "kernelspec": {
   "display_name": "Julia 1.1.0",
   "language": "julia",
   "name": "julia-1.1"
  },
  "language_info": {
   "file_extension": ".jl",
   "mimetype": "application/julia",
   "name": "julia",
   "version": "1.1.0"
  }
 },
 "nbformat": 4,
 "nbformat_minor": 2
}
