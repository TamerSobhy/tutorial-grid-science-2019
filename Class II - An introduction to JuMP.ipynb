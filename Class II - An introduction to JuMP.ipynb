{
 "cells": [
  {
   "cell_type": "markdown",
   "metadata": {},
   "source": [
    "# Class II - An introduction to JuMP\n",
    "\n",
    "*Los Alamos National Laboratory Grid Science Winter School, 2019*\n",
    "\n",
    "Welcome! This tutorial will introduce you to the basics of JuMP. If you haven't yet, work through [Class I - An introduction  to Julia](Class%20I%20-%20An%20introduction%20to%20Julia.ipynb) first.\n",
    "\n",
    "**Warning! This notebook is an introduction to JuMP v0.18. However, JuMP is currently undergoing a re-write. In the near future, some aspects of JuMP will change. But don't worry, the majority of this tutorial is still relevant in the future.**\n",
    "\n",
    "This tutorial doesn't exist in isolation. Some other good resources for learning JuMP are\n",
    "- [the Discourse forum](https://discourse.julialang.org/c/domain/opt)\n",
    "- [JuMP documentation](http://www.juliaopt.org/JuMP.jl/0.18/)\n",
    "- [JuMP examples](https://github.com/JuliaOpt/JuMP.jl/tree/release-0.18/examples)\n",
    "- [Textbook: Julia Programming for Operations Research](http://www.chkwon.net/julia/)\n",
    "\n",
    "As in Class I, run the following magic sauce to check we're good to go."
   ]
  },
  {
   "cell_type": "code",
   "execution_count": null,
   "metadata": {},
   "outputs": [],
   "source": [
    "import Pkg\n",
    "Pkg.activate(@__DIR__)\n",
    "Pkg.instantiate()\n",
    "println(\"Excellent! Everything is good to go!\")"
   ]
  },
  {
   "cell_type": "markdown",
   "metadata": {},
   "source": [
    "## The basics"
   ]
  },
  {
   "cell_type": "code",
   "execution_count": 33,
   "metadata": {},
   "outputs": [
    {
     "data": {
      "text/latex": [
       "$$ \\begin{alignat*}{1}\\min\\quad & 0\\\\\n",
       "\\text{Subject to} \\quad & x\\\\\n",
       " & y \\geq 0\\\\\n",
       " & 1 \\leq z \\leq 2\\\\\n",
       "\\end{alignat*}\n",
       " $$"
      ],
      "text/plain": [
       "Feasibility problem with:\n",
       " * 0 linear constraints\n",
       " * 3 variables\n",
       "Solver is default solver"
      ]
     },
     "execution_count": 33,
     "metadata": {},
     "output_type": "execute_result"
    }
   ],
   "source": [
    "model = Model()\n",
    "@variable(model, x)\n",
    "@variable(model, y >= 0)\n",
    "@variable(model, 1 <= z <= 2)\n",
    "model"
   ]
  },
  {
   "cell_type": "markdown",
   "metadata": {},
   "source": [
    "We can also create arrays of JuMP variables."
   ]
  },
  {
   "cell_type": "code",
   "execution_count": 31,
   "metadata": {},
   "outputs": [
    {
     "data": {
      "text/latex": [
       "$$ x_{i} \\geq \\dots \\quad\\forall i \\in \\{1,2,3,4\\} $$"
      ],
      "text/plain": [
       "4-element Array{Variable,1}:\n",
       " x[1]\n",
       " x[2]\n",
       " x[3]\n",
       " x[4]"
      ]
     },
     "execution_count": 31,
     "metadata": {},
     "output_type": "execute_result"
    }
   ],
   "source": [
    "model = Model()\n",
    "@variable(model, x[i = 1:4] >= i)\n",
    "x"
   ]
  },
  {
   "cell_type": "markdown",
   "metadata": {},
   "source": [
    "The indices of the arrays don't have to be integers. They can be anything, like a string or a symbol."
   ]
  },
  {
   "cell_type": "code",
   "execution_count": 29,
   "metadata": {},
   "outputs": [
    {
     "data": {
      "text/latex": [
       "$$ x_{i,j} \\geq \\dots \\quad\\forall i \\in \\{1,2\\}, j \\in \\{A,B\\} $$"
      ],
      "text/plain": [
       "x[i,j] >= .. for all i in {1,2}, j in {A,B}"
      ]
     },
     "execution_count": 29,
     "metadata": {},
     "output_type": "execute_result"
    }
   ],
   "source": [
    "model = Model()\n",
    "@variable(model, x[i = 1:2, j = [:A, :B]] >= i)\n",
    "x"
   ]
  },
  {
   "cell_type": "markdown",
   "metadata": {},
   "source": [
    "We can also add a condition to filter out some of the variables:"
   ]
  },
  {
   "cell_type": "code",
   "execution_count": 35,
   "metadata": {},
   "outputs": [
    {
     "data": {
      "text/latex": [
       "$$ x_{i,j} \\geq \\dots \\quad\\forall i \\in \\{1,2,3,4\\}, j \\in \\{A,B\\} s.t. isodd(i) $$"
      ],
      "text/plain": [
       "x[i,j] >= .. for all i in {1,2,3,4}, j in {A,B} s.t. isodd(i)"
      ]
     },
     "execution_count": 35,
     "metadata": {},
     "output_type": "execute_result"
    }
   ],
   "source": [
    "model = Model()\n",
    "@variable(model, x[i = 1:4, j = [:A, :B]; isodd(i)] >= i)\n",
    "x"
   ]
  },
  {
   "cell_type": "markdown",
   "metadata": {},
   "source": [
    "What if I want to add two variables with the same name?"
   ]
  },
  {
   "cell_type": "code",
   "execution_count": 41,
   "metadata": {},
   "outputs": [
    {
     "name": "stderr",
     "output_type": "stream",
     "text": [
      "┌ Warning: A variable or constraint named x is already attached to this model. If creating variables programmatically, use the anonymous variable syntax x = @variable(m, [1:N], ...).\n",
      "└ @ JuMP C:\\Users\\Oscar\\.julia\\packages\\JuMP\\Xvn0n\\src\\JuMP.jl:852\n"
     ]
    },
    {
     "data": {
      "text/latex": [
       "$$ x $$"
      ],
      "text/plain": [
       "x"
      ]
     },
     "execution_count": 41,
     "metadata": {},
     "output_type": "execute_result"
    }
   ],
   "source": [
    "model = Model()\n",
    "@variable(model, x >= 1)\n",
    "@variable(model, x >= 2)"
   ]
  },
  {
   "cell_type": "markdown",
   "metadata": {},
   "source": [
    "### Quiz Question\n",
    "\n",
    "What is the value of the following?"
   ]
  },
  {
   "cell_type": "code",
   "execution_count": null,
   "metadata": {},
   "outputs": [],
   "source": [
    "JuMP.getlowerbound(x)"
   ]
  },
  {
   "cell_type": "code",
   "execution_count": 34,
   "metadata": {},
   "outputs": [
    {
     "data": {
      "text/latex": [
       "$$ x $$"
      ],
      "text/plain": [
       "x"
      ]
     },
     "execution_count": 34,
     "metadata": {},
     "output_type": "execute_result"
    }
   ],
   "source": [
    "@variable(model, x)\n",
    "\n",
    "# Gets expanded to something like:\n",
    "x = @variable(model, basename = \"x\")\n",
    "model[:x] = x\n"
   ]
  },
  {
   "cell_type": "markdown",
   "metadata": {},
   "source": [
    "Anonymous variables"
   ]
  },
  {
   "cell_type": "code",
   "execution_count": null,
   "metadata": {},
   "outputs": [],
   "source": []
  },
  {
   "cell_type": "markdown",
   "metadata": {},
   "source": [
    "## Example: Economic dispatch\n",
    "\n",
    "*This example is adapted from a [tutorial given at the 2015 Winter School](https://github.com/JuliaOpt/juliaopt-notebooks/blob/3110eddaf5effdecfee687739295bea05731ba33/notebooks/Dvorkin%20-%20Power%20systems%20-%20Economic%20dispatch%20and%20Unit%20commitment.ipynb).*\n",
    "\n",
    "Economic dispatch (ED) is an optimization problem that minimizes the cost of supplying energy demand subject to operational constraints on power system assets. In its simplest modification, ED is an LP problem solved for an aggregated load and wind forecast and for a single infinitesimal moment. Mathematically, the ED problem can be written as follows:\n",
    "$$\n",
    "\\min \\sum_{i \\in I} c^g_{i} \\cdot g_{i} + c^w \\cdot w,\n",
    "$$\n",
    "where $c_{i}$ and $g_{i}$ are the incremental cost ($\\$/MWh$) and power output ($MW$) of the $i^{th}$ thermal generator, respectively, and $c^w$ and $w$ are the incremental cost ($\\$/MWh$) and wind power injection ($MW$), respectively.\n",
    "\n",
    "s.t.\n",
    "\n",
    "<li> Minimum ($g^{\\min}$) and maximum ($g^{\\max}$) limits on power outputs of the thermal generators: </li>\n",
    "$$\n",
    "g^{\\min}_{i} \\leq g_{i} \\leq g^{\\max}_{i}.\n",
    "$$\n",
    "<li>Constraint on the wind power injection:</li>\n",
    "$$\n",
    "0 \\leq w \\leq w^f, \n",
    "$$\n",
    "where $w$ and $w^f$ are the wind power injection and wind power forecast, respectively.\n",
    "\n",
    "<li>Power balance constraint:</li>\n",
    "$$\n",
    "\\sum_{i \\in I} g_{i} + w = d, \n",
    "$$\n",
    "where $d$ is the demand.\n",
    "\n",
    "Further reading on ED models can be found in A. J. Wood, B. F. Wollenberg, and G. B. Sheblé, \"Power Generation, Operation and Control\", Wiley, 2013.\n",
    "\n",
    "### JuMP Implementation of Economic Dispatch \n",
    "\n",
    "First, we need to load some packages."
   ]
  },
  {
   "cell_type": "code",
   "execution_count": 9,
   "metadata": {},
   "outputs": [],
   "source": [
    "using JuMP\n",
    "using GLPKMathProgInterface\n",
    "using Interact\n",
    "using Plots"
   ]
  },
  {
   "cell_type": "markdown",
   "metadata": {},
   "source": [
    "Now, we define some problem data."
   ]
  },
  {
   "cell_type": "code",
   "execution_count": 57,
   "metadata": {},
   "outputs": [
    {
     "name": "stderr",
     "output_type": "stream",
     "text": [
      "WARNING: redefining constant GLPK_SOLVER\n",
      "WARNING: redefining constant GENERATION_MAX\n",
      "WARNING: redefining constant GENERATION_MIN\n",
      "WARNING: redefining constant COST_GENERATION\n"
     ]
    }
   ],
   "source": [
    "# Define an instance of the GLPK solver.\n",
    "const GLPK_SOLVER = GLPKMathProgInterface.GLPKSolverLP()\n",
    "\n",
    "# Define some input data about the test system\n",
    "# Maximum power output of generators\n",
    "const GENERATION_MAX = [1000,1000]\n",
    "# Minimum power output of generators\n",
    "const GENERATION_MIN = [0,300]\n",
    "# Incremental cost of generators \n",
    "const COST_GENERATION = [50,100]\n",
    "# Incremental cost of wind generators\n",
    "const COST_WIND = 50\n",
    "# Total demand\n",
    "const DEMAND = 1500\n",
    "# Wind forecast\n",
    "const WIND_MAX = 200;"
   ]
  },
  {
   "cell_type": "markdown",
   "metadata": {},
   "source": [
    "In the next cell, we create a Julia function that formulates and solves the economic dispatch problem."
   ]
  },
  {
   "cell_type": "code",
   "execution_count": null,
   "metadata": {},
   "outputs": [],
   "source": [
    "\"\"\"\n",
    "    solve_economic_dispatch(; cost_of_thermal::Vector, cost_of_wind)\n",
    "\n",
    "Formulate and solve the economic dispatch problem given the cost of generation \n",
    "for the two thermal generators and the cost of wind generation.\n",
    "\"\"\"\n",
    "function solve_economic_dispatch(;\n",
    "        cost_of_thermal = COST_GENERATION, \n",
    "        cost_of_wind = COST_WIND)\n",
    "    economic_dispatch = Model(solver = GLPK_SOLVER) \n",
    "    \n",
    "    # Define decision variables    \n",
    "    @variables(economic_dispatch, begin\n",
    "        g[i=1:2]  # Thermal generation (MW).\n",
    "        w >= 0  # Wind power (MW).\n",
    "    end)\n",
    "\n",
    "    # Define the objective function\n",
    "    @objective(economic_dispatch, Min, \n",
    "        sum(cost_of_thermal[i] * g[i] for i in 1:2) + cost_of_wind * w\n",
    "    )\n",
    "\n",
    "    # Define the constraint on the maximum and minimum power output of each generator.\n",
    "    for i in 1:2\n",
    "        @constraint(economic_dispatch, g[i] <= GENERATION_MAX[i])\n",
    "        @constraint(economic_dispatch, g[i] >= GENERATION_MIN[i])\n",
    "    end\n",
    "    \n",
    "    @constraints(economic_dispatch, begin\n",
    "        # Define the constraint on the wind power injection\n",
    "        w <= WIND_MAX\n",
    "        # Define the power balance constraint\n",
    "        sum(g[i] for i in 1:2) + w == DEMAND\n",
    "    end)\n",
    "\n",
    "    # Solve statement\n",
    "    solve(economic_dispatch)\n",
    "    \n",
    "    # Return the optimal value of the objective function and its minimizers\n",
    "    # as a NamedTuple.\n",
    "    return (\n",
    "        generation = getvalue(g), \n",
    "        wind_generation = getvalue(w),\n",
    "        wind_spillage = w_f - getvalue(w),\n",
    "        cost = getobjectivevalue(economic_dispatch)\n",
    "    )\n",
    "end\n",
    "\n",
    "# Solve the economic dispatch problem\n",
    "solution = solve_economic_dispatch()\n",
    "\n",
    "println(\"Dispatch\")\n",
    "println(\"    Generators: \", solution.generation[1:2], \" MW\")\n",
    "println(\"    Wind: \", solution.wind_generation, \" MW\")\n",
    "println(\"Wind spillage: \", solution.wind_spillage, \" MW\") \n",
    "println(\"----------------------------------\")\n",
    "println(\"Total cost: \\$\", solution.cost)  "
   ]
  },
  {
   "cell_type": "markdown",
   "metadata": {},
   "source": [
    "### Economic dispatch with adjustable incremental costs"
   ]
  },
  {
   "cell_type": "markdown",
   "metadata": {},
   "source": [
    "In the following exercise we introduce a manipulator to vary the cost of wind generation and observe its impact the total cost, dispatch of generators G1 and G2, utilization of available wind under different values of the incremental cost of generator G1."
   ]
  },
  {
   "cell_type": "code",
   "execution_count": null,
   "metadata": {},
   "outputs": [],
   "source": [
    "@manipulate for cost_of_wind in COST_WIND .* (1:0.1:3.5)\n",
    "    # Define the vectors of outputs\n",
    "    objectives = Float64[] \n",
    "    wind_dispatch = Float64[]\n",
    "    G1_dispatch = Float64[]\n",
    "    G2_dispatch = Float64[]\n",
    "    \n",
    "    cost_of_g1 = COST_GENERATION[1] .* (0.5:0.01:3.0)\n",
    "    for c_g1 in cost_of_g1\n",
    "        # update the incremental cost of the first generator at every iteration\n",
    "        solution = solve_economic_dispatch(\n",
    "            cost_of_thermal = [c_g1, COST_GENERATION[2]],\n",
    "            cost_of_wind = cost_of_wind\n",
    "        )\n",
    "        # Add the solution of the economic dispatch problem to the respective vectors\n",
    "        push!(objectives, solution.cost)\n",
    "        push!(wind_dispatch, solution.wind_generation)\n",
    "        push!(G1_dispatch, solution.generation[1])\n",
    "        push!(G2_dispatch, solution.generation[2])\n",
    "    end\n",
    "    \n",
    "    # Plot the outputs\n",
    "    plot(\n",
    "        # Plot the total cost\n",
    "        plot(cost_of_g1, objectives,\n",
    "            ylabel = \"Total cost\",\n",
    "            ylims = (50000, 200000)\n",
    "        ),\n",
    "        # Plot the power output of Generator 1\n",
    "        plot(cost_of_g1, G1_dispatch,\n",
    "            ylabel = \"Dispatch: G1\",\n",
    "            ylims = (0, 1100)\n",
    "        ),\n",
    "        # Plot the power output of Generator 2    \n",
    "        plot(cost_of_g1, G2_dispatch,\n",
    "            ylabel = \"Dispatch: G2\",\n",
    "            ylims = (0, 1600)\n",
    "        ),\n",
    "        # Plot the wind power output\n",
    "        plot(cost_of_g1, wind_dispatch,\n",
    "            ylabel = \"Dispatch: Wind\",\n",
    "            ylims = (0, 250)\n",
    "        ),\n",
    "        legend = false,\n",
    "        xlabel = \"Cost of G1\"\n",
    "    )\n",
    "end"
   ]
  },
  {
   "cell_type": "markdown",
   "metadata": {},
   "source": [
    "## Nonlinear example\n",
    "\n",
    "JuMP can also be used to solve non-linear problems."
   ]
  },
  {
   "cell_type": "code",
   "execution_count": null,
   "metadata": {},
   "outputs": [],
   "source": [
    "solver = IpoptSolver()"
   ]
  },
  {
   "cell_type": "markdown",
   "metadata": {},
   "source": [
    "## Composing models"
   ]
  },
  {
   "cell_type": "code",
   "execution_count": 9,
   "metadata": {},
   "outputs": [
    {
     "name": "stdout",
     "output_type": "stream",
     "text": [
      "|x| = |-1.0| = 1.0\n",
      "|x| = |2.0| = 2.0\n"
     ]
    }
   ],
   "source": [
    "\"\"\"\n",
    "    my_abs(x::JuMP.Variable)\n",
    "\n",
    "Return a variable that takes the value of the absolute\n",
    "value (L1-norm) of `x`.\n",
    "\"\"\"\n",
    "function my_abs(x::JuMP.Variable)\n",
    "    model = x.m\n",
    "    x⁺ = @variable(model, lowerbound = 0)\n",
    "    x⁻ = @variable(model, lowerbound = 0)\n",
    "    abs_x = @variable(model, lowerbound = 0)\n",
    "    @constraints(model, begin\n",
    "        x⁺ >= x\n",
    "        x⁻ >= -x\n",
    "        abs_x == x⁺ + x⁻\n",
    "    end)\n",
    "    return abs_x\n",
    "end\n",
    "\n",
    "model = Model(solver = GLPKSolverLP())\n",
    "@variable(model, x)\n",
    "@objective(model, Min, my_abs(x))\n",
    "JuMP.fix(x, -1)\n",
    "JuMP.solve(model)\n",
    "println(\"|x| = |$(JuMP.getvalue(x))| = $(JuMP.getobjectivevalue(model))\")\n",
    "\n",
    "JuMP.fix(x, 2)\n",
    "JuMP.solve(model)\n",
    "println(\"|x| = |$(JuMP.getvalue(x))| = $(JuMP.getobjectivevalue(model))\")"
   ]
  }
 ],
 "metadata": {
  "kernelspec": {
   "display_name": "Julia 1.0.2",
   "language": "julia",
   "name": "julia-1.0"
  },
  "language_info": {
   "file_extension": ".jl",
   "mimetype": "application/julia",
   "name": "julia",
   "version": "1.0.2"
  }
 },
 "nbformat": 4,
 "nbformat_minor": 2
}
