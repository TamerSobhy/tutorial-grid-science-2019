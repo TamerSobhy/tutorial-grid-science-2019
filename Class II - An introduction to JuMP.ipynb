{
 "cells": [
  {
   "cell_type": "markdown",
   "metadata": {},
   "source": [
    "# Class II - An introduction to JuMP\n",
    "\n",
    "*Los Alamos National Laboratory Grid Science Winter School, 2019*\n",
    "\n",
    "Welcome! This tutorial will introduce you to the basics of JuMP. If you haven't yet, work through [Class I - An introduction  to Julia](Class%20I%20-%20An%20introduction%20to%20Julia.ipynb) first.\n",
    "\n",
    "**Warning! This notebook is an introduction to JuMP v0.18. However, JuMP is currently undergoing a re-write. In the near future, some aspects of JuMP will change. But don't worry, the majority of this tutorial is still relevant in the future.**\n",
    "\n",
    "This tutorial doesn't exist in isolation. Some other good resources for learning JuMP are\n",
    "- [the Discourse forum](https://discourse.julialang.org/c/domain/opt)\n",
    "- [JuMP documentation](http://www.juliaopt.org/JuMP.jl/0.18/)\n",
    "- [JuMP examples](https://github.com/JuliaOpt/JuMP.jl/tree/release-0.18/examples)\n",
    "- [Textbook: Julia Programming for Operations Research](http://www.chkwon.net/julia/)\n",
    "\n",
    "Before we start, run the following magic sauce to install the required Julia packages and check that we're good to go."
   ]
  },
  {
   "cell_type": "code",
   "execution_count": 69,
   "metadata": {},
   "outputs": [
    {
     "name": "stdout",
     "output_type": "stream",
     "text": [
      "\u001b[32m\u001b[1m  Updating\u001b[22m\u001b[39m registry at `C:\\Users\\Oscar\\.julia\\registries\\General`\n",
      "\u001b[32m\u001b[1m  Updating\u001b[22m\u001b[39m git-repo `https://github.com/JuliaRegistries/General.git`\n",
      "\u001b[?25l\u001b[2K\u001b[?25h\u001b[32m\u001b[1m  Updating\u001b[22m\u001b[39m registry at `C:\\Users\\Oscar\\.julia\\registries\\JuliaPOMDP`\n",
      "\u001b[32m\u001b[1m  Updating\u001b[22m\u001b[39m git-repo `https://github.com/JuliaPOMDP/Registry`\n",
      "\u001b[?25l\u001b[2K\u001b[?25hExcellent! Everything is good to go!\n"
     ]
    }
   ],
   "source": [
    "import Pkg\n",
    "Pkg.activate(@__DIR__)\n",
    "Pkg.instantiate()\n",
    "println(\"Excellent! Everything is good to go!\")"
   ]
  },
  {
   "cell_type": "markdown",
   "metadata": {},
   "source": [
    "## The basics"
   ]
  },
  {
   "cell_type": "markdown",
   "metadata": {},
   "source": [
    "First, load the JuMP package into your current environment."
   ]
  },
  {
   "cell_type": "code",
   "execution_count": 70,
   "metadata": {},
   "outputs": [],
   "source": [
    "using JuMP"
   ]
  },
  {
   "cell_type": "markdown",
   "metadata": {},
   "source": [
    "Start building a JuMP model like so,"
   ]
  },
  {
   "cell_type": "code",
   "execution_count": 71,
   "metadata": {},
   "outputs": [
    {
     "data": {
      "text/latex": [
       "$$ \\begin{alignat*}{1}\\min\\quad & 0\\\\\n",
       "\\text{Subject to} \\quad & x\\\\\n",
       " & y \\geq 0\\\\\n",
       " & 1 \\leq z \\leq 2\\\\\n",
       "\\end{alignat*}\n",
       " $$"
      ],
      "text/plain": [
       "Feasibility problem with:\n",
       " * 0 linear constraints\n",
       " * 3 variables\n",
       "Solver is default solver"
      ]
     },
     "execution_count": 71,
     "metadata": {},
     "output_type": "execute_result"
    }
   ],
   "source": [
    "model = Model()\n",
    "@variable(model, x)\n",
    "@variable(model, y >= 0)\n",
    "@variable(model, 1 <= z <= 2)\n",
    "model"
   ]
  },
  {
   "cell_type": "markdown",
   "metadata": {},
   "source": [
    "We can also create arrays of JuMP variables."
   ]
  },
  {
   "cell_type": "code",
   "execution_count": 72,
   "metadata": {},
   "outputs": [
    {
     "data": {
      "text/latex": [
       "$$ x_{i} \\geq \\dots \\quad\\forall i \\in \\{1,2,3,4\\} $$"
      ],
      "text/plain": [
       "4-element Array{Variable,1}:\n",
       " x[1]\n",
       " x[2]\n",
       " x[3]\n",
       " x[4]"
      ]
     },
     "execution_count": 72,
     "metadata": {},
     "output_type": "execute_result"
    }
   ],
   "source": [
    "model = Model()\n",
    "@variable(model, x[i = 1:4] >= i)\n",
    "x"
   ]
  },
  {
   "cell_type": "markdown",
   "metadata": {},
   "source": [
    "The indices of the arrays don't have to be integers. They can be anything, like a string or a symbol."
   ]
  },
  {
   "cell_type": "code",
   "execution_count": 73,
   "metadata": {},
   "outputs": [
    {
     "data": {
      "text/latex": [
       "$$ x_{i,j} \\geq \\dots \\quad\\forall i \\in \\{1,2\\}, j \\in \\{A,B\\} $$"
      ],
      "text/plain": [
       "x[i,j] >= .. for all i in {1,2}, j in {A,B}"
      ]
     },
     "execution_count": 73,
     "metadata": {},
     "output_type": "execute_result"
    }
   ],
   "source": [
    "model = Model()\n",
    "@variable(model, x[i = 1:2, j = [:A, :B]] >= i)\n",
    "x"
   ]
  },
  {
   "cell_type": "markdown",
   "metadata": {},
   "source": [
    "We can also add a condition to filter out some of the variables"
   ]
  },
  {
   "cell_type": "code",
   "execution_count": 74,
   "metadata": {},
   "outputs": [
    {
     "data": {
      "text/latex": [
       "$$ x_{i,j} \\geq \\dots \\quad\\forall i \\in \\{1,2,3,4\\}, j \\in \\{A,B\\} s.t. isodd(i) $$"
      ],
      "text/plain": [
       "x[i,j] >= .. for all i in {1,2,3,4}, j in {A,B} s.t. isodd(i)"
      ]
     },
     "execution_count": 74,
     "metadata": {},
     "output_type": "execute_result"
    }
   ],
   "source": [
    "model = Model()\n",
    "@variable(model, x[i = 1:4, j = [:A, :B]; isodd(i)] >= i)\n",
    "x"
   ]
  },
  {
   "cell_type": "markdown",
   "metadata": {},
   "source": [
    "What if I want to add two variables with the same name?"
   ]
  },
  {
   "cell_type": "code",
   "execution_count": 75,
   "metadata": {},
   "outputs": [
    {
     "data": {
      "text/latex": [
       "$$ x $$"
      ],
      "text/plain": [
       "x"
      ]
     },
     "execution_count": 75,
     "metadata": {},
     "output_type": "execute_result"
    },
    {
     "name": "stderr",
     "output_type": "stream",
     "text": [
      "┌ Warning: A variable or constraint named x is already attached to this model. If creating variables programmatically, use the anonymous variable syntax x = @variable(m, [1:N], ...).\n",
      "└ @ JuMP C:\\Users\\Oscar\\.julia\\packages\\JuMP\\PbnIJ\\src\\JuMP.jl:852\n"
     ]
    }
   ],
   "source": [
    "model = Model()\n",
    "@variable(model, x >= 1)\n",
    "@variable(model, x >= 2)"
   ]
  },
  {
   "cell_type": "markdown",
   "metadata": {},
   "source": [
    "### Quiz Question\n",
    "\n",
    "What is the value of the following?"
   ]
  },
  {
   "cell_type": "code",
   "execution_count": 76,
   "metadata": {},
   "outputs": [
    {
     "data": {
      "text/plain": [
       "2.0"
      ]
     },
     "execution_count": 76,
     "metadata": {},
     "output_type": "execute_result"
    }
   ],
   "source": [
    "JuMP.getlowerbound(x)"
   ]
  },
  {
   "cell_type": "markdown",
   "metadata": {},
   "source": [
    "### Anonymous variables\n",
    "\n",
    "So far, we've only added *named* variables. This works great until we want to add two variables with the same name! To work around this isse, we can add *anonymous* variables."
   ]
  },
  {
   "cell_type": "code",
   "execution_count": 77,
   "metadata": {},
   "outputs": [
    {
     "name": "stdout",
     "output_type": "stream",
     "text": [
      "JuMP.getlowerbound(x) = -Inf\n",
      "JuMP.getlowerbound(x) = 1.0\n",
      "JuMP.getlowerbound(x) = [1.0, 2.0]\n"
     ]
    },
    {
     "ename": "KeyError",
     "evalue": "KeyError: key \"No object with name x\" not found",
     "output_type": "error",
     "traceback": [
      "KeyError: key \"No object with name x\" not found",
      "",
      "Stacktrace:",
      " [1] getindex(::Model, ::Symbol) at C:\\Users\\Oscar\\.julia\\packages\\JuMP\\PbnIJ\\src\\JuMP.jl:863",
      " [2] top-level scope at In[77]:8"
     ]
    }
   ],
   "source": [
    "model = Model()\n",
    "x = @variable(model)\n",
    "@show JuMP.getlowerbound(x)\n",
    "x = @variable(model, lowerbound = 1)\n",
    "@show JuMP.getlowerbound(x)\n",
    "x = @variable(model, [i = 1:2], lowerbound = i)\n",
    "@show JuMP.getlowerbound(x)\n",
    "\n",
    "model[:x]  # This throws an error"
   ]
  },
  {
   "cell_type": "markdown",
   "metadata": {},
   "source": [
    "So what's the difference between the *named* and *anonymous* syntax? \n",
    "\n",
    "Well, `@variable(model, x >= 2)` is (roughly) equivalent to"
   ]
  },
  {
   "cell_type": "code",
   "execution_count": 78,
   "metadata": {},
   "outputs": [
    {
     "data": {
      "text/latex": [
       "$$ \\begin{alignat*}{1}\\min\\quad & 0\\\\\n",
       "\\text{Subject to} \\quad & x \\geq 2\\\\\n",
       "\\end{alignat*}\n",
       " $$"
      ],
      "text/plain": [
       "Feasibility problem with:\n",
       " * 0 linear constraints\n",
       " * 1 variable\n",
       "Solver is default solver"
      ]
     },
     "execution_count": 78,
     "metadata": {},
     "output_type": "execute_result"
    }
   ],
   "source": [
    "model = Model()\n",
    "x = model[:x] = @variable(model, lowerbound = 2, basename = \"x\")\n",
    "model"
   ]
  },
  {
   "cell_type": "code",
   "execution_count": 79,
   "metadata": {},
   "outputs": [
    {
     "data": {
      "text/latex": [
       "$$ \\begin{alignat*}{1}\\min\\quad & 0\\\\\n",
       "\\text{Subject to} \\quad & x \\geq 2\\\\\n",
       "\\end{alignat*}\n",
       " $$"
      ],
      "text/plain": [
       "Feasibility problem with:\n",
       " * 0 linear constraints\n",
       " * 1 variable\n",
       "Solver is default solver"
      ]
     },
     "execution_count": 79,
     "metadata": {},
     "output_type": "execute_result"
    }
   ],
   "source": [
    "model = Model()\n",
    "@variable(model, x >= 2)\n",
    "model"
   ]
  },
  {
   "cell_type": "markdown",
   "metadata": {},
   "source": [
    "Although uneeded for this tutorial, we can also create binary and integer variables as follows:"
   ]
  },
  {
   "cell_type": "code",
   "execution_count": 80,
   "metadata": {},
   "outputs": [
    {
     "data": {
      "text/latex": [
       "$$ \\begin{alignat*}{1}\\min\\quad & 0\\\\\n",
       "\\text{Subject to} \\quad & x \\geq 1, \\in \\mathbb{Z}\\\\\n",
       " & y \\in \\{0,1\\}\\\\\n",
       "\\end{alignat*}\n",
       " $$"
      ],
      "text/plain": [
       "Feasibility problem with:\n",
       " * 0 linear constraints\n",
       " * 2 variables: 1 binary, 1 integer\n",
       "Solver is default solver"
      ]
     },
     "execution_count": 80,
     "metadata": {},
     "output_type": "execute_result"
    }
   ],
   "source": [
    "model = Model()\n",
    "@variable(model, x >= 1, Int)\n",
    "@variable(model, y, Bin)\n",
    "model"
   ]
  },
  {
   "cell_type": "markdown",
   "metadata": {},
   "source": [
    "### Constraints\n",
    "\n",
    "Now that we've seen how to create variables, let's look at constraints. Much of the syntax should be familiar."
   ]
  },
  {
   "cell_type": "code",
   "execution_count": 81,
   "metadata": {},
   "outputs": [
    {
     "data": {
      "text/latex": [
       "$$ \\begin{alignat*}{1}\\min\\quad & 0\\\\\n",
       "\\text{Subject to} \\quad & 2 x + y \\leq 1\\\\\n",
       " & 2 x + y \\geq 1\\\\\n",
       " & 2 x + y = 1\\\\\n",
       " & x \\geq 0\\\\\n",
       " & y \\geq 0\\\\\n",
       "\\end{alignat*}\n",
       " $$"
      ],
      "text/plain": [
       "Feasibility problem with:\n",
       " * 3 linear constraints\n",
       " * 2 variables\n",
       "Solver is default solver"
      ]
     },
     "execution_count": 81,
     "metadata": {},
     "output_type": "execute_result"
    }
   ],
   "source": [
    "model = Model()\n",
    "@variable(model, x >= 0)\n",
    "@variable(model, y >= 0)\n",
    "\n",
    "@constraint(model, c_less_than, 2x + y <= 1)\n",
    "@constraint(model, c_greater_than, 2x + y >= 1)\n",
    "@constraint(model, c_equal_to, 2x + y == 1)\n",
    "\n",
    "model"
   ]
  },
  {
   "cell_type": "code",
   "execution_count": 82,
   "metadata": {},
   "outputs": [
    {
     "data": {
      "text/latex": [
       "$$ 2 x + y = 1 $$"
      ],
      "text/plain": [
       "2 x + y == 1"
      ]
     },
     "execution_count": 82,
     "metadata": {},
     "output_type": "execute_result"
    }
   ],
   "source": [
    "model[:c_equal_to]"
   ]
  },
  {
   "cell_type": "code",
   "execution_count": 83,
   "metadata": {},
   "outputs": [
    {
     "data": {
      "text/latex": [
       "$$ \\begin{alignat*}{1}\\min\\quad & 0\\\\\n",
       "\\text{Subject to} \\quad & 2 x + y \\leq 1\\\\\n",
       " & 2 x + y \\geq 1\\\\\n",
       " & 2 x + y = 1\\\\\n",
       " & x - y \\leq 0\\\\\n",
       " & 2 x - y \\leq 0\\\\\n",
       " & x \\geq 0\\\\\n",
       " & y \\geq 0\\\\\n",
       "\\end{alignat*}\n",
       " $$"
      ],
      "text/plain": [
       "Feasibility problem with:\n",
       " * 5 linear constraints\n",
       " * 2 variables\n",
       "Solver is default solver"
      ]
     },
     "execution_count": 83,
     "metadata": {},
     "output_type": "execute_result"
    }
   ],
   "source": [
    "anonymous_constraint = @constraint(model, [i = 1:2], i * x <= y)\n",
    "\n",
    "model"
   ]
  },
  {
   "cell_type": "markdown",
   "metadata": {},
   "source": [
    "### Objective Functions\n",
    "\n",
    "Now let's look at the objective function."
   ]
  },
  {
   "cell_type": "code",
   "execution_count": 84,
   "metadata": {},
   "outputs": [
    {
     "data": {
      "text/latex": [
       "$$ \\begin{alignat*}{1}\\min\\quad & 2 x + 1\\\\\n",
       "\\text{Subject to} \\quad & x \\geq 0\\\\\n",
       "\\end{alignat*}\n",
       " $$"
      ],
      "text/plain": [
       "Minimization problem with:\n",
       " * 0 linear constraints\n",
       " * 1 variable\n",
       "Solver is default solver"
      ]
     },
     "execution_count": 84,
     "metadata": {},
     "output_type": "execute_result"
    }
   ],
   "source": [
    "model = Model()\n",
    "@variable(model, x >= 0)\n",
    "\n",
    "@objective(model, Min, 2x + 1)\n",
    "\n",
    "model"
   ]
  },
  {
   "cell_type": "code",
   "execution_count": 85,
   "metadata": {},
   "outputs": [
    {
     "data": {
      "text/latex": [
       "$$ \\begin{alignat*}{1}\\max\\quad & 2 x + 1\\\\\n",
       "\\text{Subject to} \\quad & x \\leq 2\\\\\n",
       "\\end{alignat*}\n",
       " $$"
      ],
      "text/plain": [
       "Maximization problem with:\n",
       " * 0 linear constraints\n",
       " * 1 variable\n",
       "Solver is default solver"
      ]
     },
     "execution_count": 85,
     "metadata": {},
     "output_type": "execute_result"
    }
   ],
   "source": [
    "model = Model()\n",
    "@variable(model, x <= 2)\n",
    "\n",
    "@objective(model, Max, 2x + 1)\n",
    "\n",
    "model"
   ]
  },
  {
   "cell_type": "markdown",
   "metadata": {},
   "source": [
    "### Solving a Model\n",
    "\n",
    "Once we've formulated a model, the next step is to solve it. This requires a solver.\n",
    "\n",
    "JuMP supports lots of different solvers. The [JuMP documentation](http://www.juliaopt.org/JuMP.jl/0.18/installation.html#getting-solvers) contains a list of the supported solvers and the types of problems each solver supports.\n",
    "\n",
    "We're going to use two solvers in particular.\n",
    "\n",
    "The first solver is the [GNU Linear Programming Kit (GLPK)](https://www.gnu.org/software/glpk/). This solver supports linear programs with continous variables.\n",
    "\n",
    "GLPK is available via the [GLPKMathProgInterface.jl](https://github.com/JuliaOpt/GLPKMathProgInterface.jl) package."
   ]
  },
  {
   "cell_type": "code",
   "execution_count": 86,
   "metadata": {},
   "outputs": [
    {
     "name": "stderr",
     "output_type": "stream",
     "text": [
      "WARNING: redefining constant GLPK_SOLVER\n"
     ]
    },
    {
     "data": {
      "text/plain": [
       "GLPKMathProgInterface.GLPKInterfaceLP.GLPKSolverLP(false, :Simplex, Base.Iterators.Pairs{Union{},Union{},Tuple{},NamedTuple{(),Tuple{}}}())"
      ]
     },
     "execution_count": 86,
     "metadata": {},
     "output_type": "execute_result"
    }
   ],
   "source": [
    "using GLPKMathProgInterface\n",
    "# Define an instance of the GLPK solver.\n",
    "const GLPK_SOLVER = GLPKMathProgInterface.GLPKSolverLP()"
   ]
  },
  {
   "cell_type": "markdown",
   "metadata": {},
   "source": [
    "The second solver is the COIN-OR [Interior Point OPTimizer(Ipopt)](https://projects.coin-or.org/Ipopt). This solver supports nonlinear programs with continous variables.\n",
    "\n",
    "Ipopt is available via the [Ipopt.jl](https://github.com/JuliaOpt/Ipopt.jl) package."
   ]
  },
  {
   "cell_type": "code",
   "execution_count": 87,
   "metadata": {},
   "outputs": [
    {
     "name": "stderr",
     "output_type": "stream",
     "text": [
      "WARNING: redefining constant IPOPT_SOLVER\n"
     ]
    },
    {
     "data": {
      "text/plain": [
       "IpoptSolver(Tuple[(:print_level, 0)])"
      ]
     },
     "execution_count": 87,
     "metadata": {},
     "output_type": "execute_result"
    }
   ],
   "source": [
    "using Ipopt\n",
    "const IPOPT_SOLVER = IpoptSolver(print_level=0)"
   ]
  },
  {
   "cell_type": "markdown",
   "metadata": {},
   "source": [
    "There are two ways to add a solver to a JuMP model:"
   ]
  },
  {
   "cell_type": "code",
   "execution_count": 88,
   "metadata": {},
   "outputs": [
    {
     "data": {
      "text/latex": [
       "$$ \\begin{alignat*}{1}\\min\\quad & 0\\\\\n",
       "\\text{Subject to} \\quad\\end{alignat*}\n",
       " $$"
      ],
      "text/plain": [
       "Feasibility problem with:\n",
       " * 0 linear constraints\n",
       " * 0 variables\n",
       "Solver is Ipopt"
      ]
     },
     "execution_count": 88,
     "metadata": {},
     "output_type": "execute_result"
    }
   ],
   "source": [
    "model = Model()\n",
    "JuMP.setsolver(model, GLPK_SOLVER)\n",
    "\n",
    "# ... or ...\n",
    "\n",
    "model = Model(solver = IPOPT_SOLVER)"
   ]
  },
  {
   "cell_type": "markdown",
   "metadata": {},
   "source": [
    "If you try to solve an unsupported problem type, an error will be thrown:"
   ]
  },
  {
   "cell_type": "code",
   "execution_count": 89,
   "metadata": {},
   "outputs": [
    {
     "ename": "MethodError",
     "evalue": "MethodError: no method matching NonlinearModel(::GLPKMathProgInterface.GLPKInterfaceLP.GLPKSolverLP)\nClosest candidates are:\n  NonlinearModel(!Matched::IpoptSolver) at C:\\Users\\Oscar\\.julia\\packages\\Ipopt\\ZuxdU\\src\\MPBWrapper.jl:38\n  NonlinearModel(!Matched::Int64) at C:\\Users\\Oscar\\.julia\\packages\\MathProgBase\\rVlFR\\src\\SolverInterface\\SolverInterface.jl:29\n  NonlinearModel() at C:\\Users\\Oscar\\.julia\\packages\\MathProgBase\\rVlFR\\src\\SolverInterface\\SolverInterface.jl:27",
     "output_type": "error",
     "traceback": [
      "MethodError: no method matching NonlinearModel(::GLPKMathProgInterface.GLPKInterfaceLP.GLPKSolverLP)\nClosest candidates are:\n  NonlinearModel(!Matched::IpoptSolver) at C:\\Users\\Oscar\\.julia\\packages\\Ipopt\\ZuxdU\\src\\MPBWrapper.jl:38\n  NonlinearModel(!Matched::Int64) at C:\\Users\\Oscar\\.julia\\packages\\MathProgBase\\rVlFR\\src\\SolverInterface\\SolverInterface.jl:29\n  NonlinearModel() at C:\\Users\\Oscar\\.julia\\packages\\MathProgBase\\rVlFR\\src\\SolverInterface\\SolverInterface.jl:27",
      "",
      "Stacktrace:",
      " [1] _buildInternalModel_nlp(::Model, ::JuMP.ProblemTraits) at C:\\Users\\Oscar\\.julia\\packages\\JuMP\\PbnIJ\\src\\nlp.jl:1242",
      " [2] #build#123(::Bool, ::Bool, ::JuMP.ProblemTraits, ::Function, ::Model) at C:\\Users\\Oscar\\.julia\\packages\\JuMP\\PbnIJ\\src\\solvers.jl:304",
      " [3] #build at .\\none:0 [inlined]",
      " [4] #solve#120(::Bool, ::Bool, ::Bool, ::Base.Iterators.Pairs{Union{},Union{},Tuple{},NamedTuple{(),Tuple{}}}, ::Function, ::Model) at C:\\Users\\Oscar\\.julia\\packages\\JuMP\\PbnIJ\\src\\solvers.jl:168",
      " [5] solve(::Model) at C:\\Users\\Oscar\\.julia\\packages\\JuMP\\PbnIJ\\src\\solvers.jl:150",
      " [6] top-level scope at In[89]:4"
     ]
    }
   ],
   "source": [
    "model = Model(solver = GLPK_SOLVER)\n",
    "@variable(model, 0 <= x <= π)\n",
    "@NLobjective(model, Min, cos(x)^2)\n",
    "solve(model)"
   ]
  },
  {
   "cell_type": "markdown",
   "metadata": {},
   "source": [
    "That error isn't very nice, but don't worry, the new version of JuMP has much nicer errors. This sort of thing shouldn't happen in the future."
   ]
  },
  {
   "cell_type": "code",
   "execution_count": 90,
   "metadata": {},
   "outputs": [
    {
     "name": "stdout",
     "output_type": "stream",
     "text": [
      "The solution status is: Optimal\n"
     ]
    }
   ],
   "source": [
    "JuMP.setsolver(model, IPOPT_SOLVER)\n",
    "status = solve(model)\n",
    "\n",
    "println(\"The solution status is: $(status)\")"
   ]
  },
  {
   "cell_type": "code",
   "execution_count": 91,
   "metadata": {},
   "outputs": [
    {
     "name": "stdout",
     "output_type": "stream",
     "text": [
      "      x | 1.5707963267948966\n",
      "    π/2 | 1.5707963267948966\n",
      "--------+----------------------\n",
      "cos²(x) | 3.749399456654644e-33\n"
     ]
    }
   ],
   "source": [
    "x_value = JuMP.getvalue(x)\n",
    "obj_value = JuMP.getobjectivevalue(model)\n",
    "\n",
    "println(\"      x | $(x_value)\")\n",
    "println(\"    π/2 | $(π/2)\")\n",
    "println(\"--------+----------------------\")\n",
    "println(\"cos²(x) | $(obj_value)\")"
   ]
  },
  {
   "cell_type": "markdown",
   "metadata": {},
   "source": [
    "## Example: Simple Economic Dispatch\n",
    "\n",
    "*This example is adapted from a [tutorial given at the 2015 Grid Science Winter School](https://github.com/JuliaOpt/juliaopt-notebooks/blob/3110eddaf5effdecfee687739295bea05731ba33/notebooks/Dvorkin%20-%20Power%20systems%20-%20Economic%20dispatch%20and%20Unit%20commitment.ipynb).*\n",
    "\n",
    "Economic dispatch (ED) is an optimization problem that minimizes the cost of supplying energy demand subject to operational constraints on power system assets. In its simplest instantiation, ED is a Linear Programing (LP) problem solved for an aggregated load and wind forecast and for a single infinitesimal moment. Mathematically, the ED problem can be written as follows:\n",
    "$$\n",
    "\\min \\sum_{i \\in I} c^g_{i} \\cdot g_{i} + c^w \\cdot w,\n",
    "$$\n",
    "where $c_{i}$ and $g_{i}$ are the incremental cost ($\\$/MWh$) and power output ($MW$) of the $i^{th}$ thermal generator, respectively, and $c^w$ and $w$ are the incremental cost ($\\$/MWh$) and wind power injection ($MW$), respectively.\n",
    "\n",
    "s.t.\n",
    "\n",
    "<li> Minimum ($g^{\\min}$) and maximum ($g^{\\max}$) limits on power outputs of the thermal generators: </li>\n",
    "$$\n",
    "g^{\\min}_{i} \\leq g_{i} \\leq g^{\\max}_{i}.\n",
    "$$\n",
    "<li>Constraint on the wind power injection:</li>\n",
    "$$\n",
    "0 \\leq w \\leq w^f, \n",
    "$$\n",
    "where $w$ and $w^f$ are the wind power injection and wind power forecast, respectively.\n",
    "\n",
    "<li>Power balance constraint:</li>\n",
    "$$\n",
    "\\sum_{i \\in I} g_{i} + w = d, \n",
    "$$\n",
    "where $d$ is the demand.\n",
    "\n",
    "Further reading on ED models can be found in A. J. Wood, B. F. Wollenberg, and G. B. Sheblé, \"Power Generation, Operation and Control\", Wiley, 2013.\n",
    "\n",
    "### JuMP Implementation of Economic Dispatch \n",
    "\n",
    "First, we need to load some plotting packages.  Note, complitaton may take a few minutes."
   ]
  },
  {
   "cell_type": "code",
   "execution_count": 92,
   "metadata": {},
   "outputs": [],
   "source": [
    "using Interact\n",
    "using Plots"
   ]
  },
  {
   "cell_type": "markdown",
   "metadata": {},
   "source": [
    "Now, we define some problem data for a model with two thermal generators and one wind generator."
   ]
  },
  {
   "cell_type": "code",
   "execution_count": 93,
   "metadata": {},
   "outputs": [
    {
     "name": "stderr",
     "output_type": "stream",
     "text": [
      "WARNING: redefining constant GENERATION_MAX\n",
      "WARNING: redefining constant GENERATION_MIN\n",
      "WARNING: redefining constant COST_GENERATION\n"
     ]
    }
   ],
   "source": [
    "# Define some input data about the test system\n",
    "# Maximum power output of generators\n",
    "const GENERATION_MAX = [1000,1000]\n",
    "# Minimum power output of generators\n",
    "const GENERATION_MIN = [0,300]\n",
    "# Incremental cost of generators \n",
    "const COST_GENERATION = [50,100]\n",
    "# Incremental cost of wind generators\n",
    "const COST_WIND = 50\n",
    "# Total demand\n",
    "const DEMAND = 1500\n",
    "# Wind forecast\n",
    "const WIND_MAX = 200;"
   ]
  },
  {
   "cell_type": "markdown",
   "metadata": {},
   "source": [
    "In the next cell, we create a Julia function that formulates and solves the economic dispatch problem."
   ]
  },
  {
   "cell_type": "code",
   "execution_count": 94,
   "metadata": {},
   "outputs": [
    {
     "name": "stdout",
     "output_type": "stream",
     "text": [
      "Dispatch\n",
      "   Generators: [1000.0, 300.0] MW\n",
      "         Wind: 200.0 MW\n",
      "Wind spillage: 0.0 MW\n",
      "----------------------------------\n",
      "Total cost: $90000.0\n"
     ]
    }
   ],
   "source": [
    "\"\"\"\n",
    "    solve_economic_dispatch(; cost_of_thermal::Vector, cost_of_wind)\n",
    "\n",
    "Formulate and solve the economic dispatch problem given the cost of generation \n",
    "for the two thermal generators and the cost of wind generation.\n",
    "\"\"\"\n",
    "function solve_economic_dispatch(;\n",
    "        cost_of_thermal = COST_GENERATION, \n",
    "        cost_of_wind = COST_WIND)\n",
    "\n",
    "    economic_dispatch = Model(solver = GLPK_SOLVER) \n",
    "    \n",
    "    # Define decision variables    \n",
    "    @variables(economic_dispatch, begin\n",
    "        g[i=1:2]  # Thermal generation (MW).\n",
    "        w >= 0  # Wind power (MW).\n",
    "    end)\n",
    "\n",
    "    # Define the objective function\n",
    "    @objective(economic_dispatch, Min, \n",
    "        sum(cost_of_thermal[i] * g[i] for i in 1:2) + cost_of_wind * w\n",
    "    )\n",
    "\n",
    "    # Define the constraint on the maximum and minimum power output of each generator.\n",
    "    for i in 1:2\n",
    "        @constraint(economic_dispatch, g[i] <= GENERATION_MAX[i])\n",
    "        @constraint(economic_dispatch, g[i] >= GENERATION_MIN[i])\n",
    "    end\n",
    "    \n",
    "    @constraints(economic_dispatch, begin\n",
    "        # Define the constraint on the wind power injection\n",
    "        w <= WIND_MAX\n",
    "        # Define the power balance constraint\n",
    "        sum(g[i] for i in 1:2) + w == DEMAND\n",
    "    end)\n",
    "\n",
    "    # Solve statement\n",
    "    solve(economic_dispatch)\n",
    "    \n",
    "    # Return the optimal value of the objective function and its minimizers\n",
    "    # as a NamedTuple.\n",
    "    return (\n",
    "        generation = getvalue(g), \n",
    "        wind_generation = getvalue(w),\n",
    "        wind_spillage = WIND_MAX - getvalue(w),\n",
    "        cost = getobjectivevalue(economic_dispatch)\n",
    "    )\n",
    "end\n",
    "\n",
    "# Solve the economic dispatch problem\n",
    "solution = solve_economic_dispatch()\n",
    "\n",
    "println(\"Dispatch\")\n",
    "println(\"   Generators: \", solution.generation, \" MW\")\n",
    "println(\"         Wind: \", solution.wind_generation, \" MW\")\n",
    "println(\"Wind spillage: \", solution.wind_spillage, \" MW\") \n",
    "println(\"----------------------------------\")\n",
    "println(\"Total cost: \\$\", solution.cost)  "
   ]
  },
  {
   "cell_type": "markdown",
   "metadata": {},
   "source": [
    "### Economic dispatch with adjustable incremental costs"
   ]
  },
  {
   "cell_type": "markdown",
   "metadata": {},
   "source": [
    "In the following exercise we introduce a manipulator to vary the cost of wind generation and observe its impact the total cost, dispatch of generators G1 and G2, utilization of available wind under different values of the incremental cost of generator G1."
   ]
  },
  {
   "cell_type": "code",
   "execution_count": 95,
   "metadata": {},
   "outputs": [
    {
     "data": {
      "application/vnd.webio.node+json": {
       "children": [
        {
         "children": [
          {
           "children": [
            {
             "children": [
              {
               "children": [
                {
                 "children": [
                  "cost_of_wind"
                 ],
                 "instanceArgs": {
                  "namespace": "html",
                  "tag": "label"
                 },
                 "nodeType": "DOM",
                 "props": {
                  "className": "interact ",
                  "style": {
                   "padding": "5px 10px 0px 10px"
                  }
                 },
                 "type": "node"
                }
               ],
               "instanceArgs": {
                "namespace": "html",
                "tag": "div"
               },
               "nodeType": "DOM",
               "props": {
                "attributes": {
                 "style": "text-align:right;width:18%"
                }
               },
               "type": "node"
              },
              {
               "children": [
                {
                 "children": [],
                 "instanceArgs": {
                  "namespace": "html",
                  "tag": "input"
                 },
                 "nodeType": "DOM",
                 "props": {
                  "attributes": {
                   "data-bind": "numericValue: index, valueUpdate: 'input', event: {change : function () {this.changes(this.changes()+1)}}",
                   "orient": "horizontal",
                   "type": "range"
                  },
                  "className": "slider slider is-fullwidth",
                  "max": 26,
                  "min": 1,
                  "step": 1,
                  "style": {}
                 },
                 "type": "node"
                }
               ],
               "instanceArgs": {
                "namespace": "html",
                "tag": "div"
               },
               "nodeType": "DOM",
               "props": {
                "attributes": {
                 "style": "flex-grow:1; margin: 0 2%"
                }
               },
               "type": "node"
              },
              {
               "children": [
                {
                 "children": [],
                 "instanceArgs": {
                  "namespace": "html",
                  "tag": "p"
                 },
                 "nodeType": "DOM",
                 "props": {
                  "attributes": {
                   "data-bind": "text: formatted_value"
                  }
                 },
                 "type": "node"
                }
               ],
               "instanceArgs": {
                "namespace": "html",
                "tag": "div"
               },
               "nodeType": "DOM",
               "props": {
                "attributes": {
                 "style": "width:18%"
                }
               },
               "type": "node"
              }
             ],
             "instanceArgs": {
              "namespace": "html",
              "tag": "div"
             },
             "nodeType": "DOM",
             "props": {
              "attributes": {
               "style": "display:flex; justify-content:center; align-items:center;"
              }
             },
             "type": "node"
            }
           ],
           "instanceArgs": {
            "handlers": {
             "_promises": {
              "importsLoaded": [
               "function (ko, koPunches) {\n    ko.punches.enableAll();\n    ko.bindingHandlers.numericValue = {\n        init : function(element, valueAccessor, allBindings, data, context) {\n            var stringified = ko.observable(ko.unwrap(valueAccessor()));\n            stringified.subscribe(function(value) {\n                var val = parseFloat(value);\n                if (!isNaN(val)) {\n                    valueAccessor()(val);\n                }\n            })\n            valueAccessor().subscribe(function(value) {\n                var str = JSON.stringify(value);\n                if ((str == \"0\") && ([\"-0\", \"-0.\"].indexOf(stringified()) >= 0))\n                     return;\n                 if ([\"null\", \"\"].indexOf(str) >= 0)\n                     return;\n                stringified(str);\n            })\n            ko.applyBindingsToNode(element, { value: stringified, valueUpdate: allBindings.get('valueUpdate')}, context);\n        }\n    };\n    var json_data = JSON.parse(\"{\\\"formatted_vals\\\":[\\\"50.0\\\",\\\"55.0\\\",\\\"60.0\\\",\\\"65.0\\\",\\\"70.0\\\",\\\"75.0\\\",\\\"80.0\\\",\\\"85.0\\\",\\\"90.0\\\",\\\"95.0\\\",\\\"100.0\\\",\\\"105.0\\\",\\\"110.0\\\",\\\"115.0\\\",\\\"120.0\\\",\\\"125.0\\\",\\\"130.0\\\",\\\"135.0\\\",\\\"140.0\\\",\\\"145.0\\\",\\\"150.0\\\",\\\"155.0\\\",\\\"160.0\\\",\\\"165.0\\\",\\\"170.0\\\",\\\"175.0\\\"],\\\"changes\\\":0,\\\"formatted_value\\\":\\\"110.0\\\",\\\"index\\\":13}\");\n    var self = this;\n    function AppViewModel() {\n        for (var key in json_data) {\n            var el = json_data[key];\n            this[key] = Array.isArray(el) ? ko.observableArray(el) : ko.observable(el);\n        }\n        \n        \n        [this[\"formatted_vals\"].subscribe((function (val){!(this.valueFromJulia[\"formatted_vals\"]) ? (_webIOScope.setObservableValue({\"name\":\"formatted_vals\",\"scope\":\"knockout-component-a20e3c4e-598b-467c-8d93-f7be3dd51d2d\",\"id\":\"ob_43\",\"type\":\"observable\"},val)) : undefined; return this.valueFromJulia[\"formatted_vals\"]=false}),self),this[\"changes\"].subscribe((function (val){!(this.valueFromJulia[\"changes\"]) ? (_webIOScope.setObservableValue({\"name\":\"changes\",\"scope\":\"knockout-component-a20e3c4e-598b-467c-8d93-f7be3dd51d2d\",\"id\":\"ob_45\",\"type\":\"observable\"},val)) : undefined; return this.valueFromJulia[\"changes\"]=false}),self),this[\"formatted_value\"].subscribe((function (val){!(this.valueFromJulia[\"formatted_value\"]) ? (_webIOScope.setObservableValue({\"name\":\"formatted_value\",\"scope\":\"knockout-component-a20e3c4e-598b-467c-8d93-f7be3dd51d2d\",\"id\":\"ob_44\",\"type\":\"observable\"},val)) : undefined; return this.valueFromJulia[\"formatted_value\"]=false}),self),this[\"index\"].subscribe((function (val){!(this.valueFromJulia[\"index\"]) ? (_webIOScope.setObservableValue({\"name\":\"index\",\"scope\":\"knockout-component-a20e3c4e-598b-467c-8d93-f7be3dd51d2d\",\"id\":\"ob_42\",\"type\":\"observable\"},val)) : undefined; return this.valueFromJulia[\"index\"]=false}),self)]\n        \n    }\n    self.model = new AppViewModel();\n    self.valueFromJulia = {};\n    for (var key in json_data) {\n        self.valueFromJulia[key] = false;\n    }\n    ko.applyBindings(self.model, self.dom);\n}\n"
              ]
             },
             "changes": [
              "(function (val){return (val!=this.model[\"changes\"]()) ? (this.valueFromJulia[\"changes\"]=true, this.model[\"changes\"](val)) : undefined})"
             ],
             "formatted_vals": [
              "(function (val){return (val!=this.model[\"formatted_vals\"]()) ? (this.valueFromJulia[\"formatted_vals\"]=true, this.model[\"formatted_vals\"](val)) : undefined})"
             ],
             "formatted_value": [
              "(function (val){return (val!=this.model[\"formatted_value\"]()) ? (this.valueFromJulia[\"formatted_value\"]=true, this.model[\"formatted_value\"](val)) : undefined})"
             ],
             "index": [
              "(function (val){return (val!=this.model[\"index\"]()) ? (this.valueFromJulia[\"index\"]=true, this.model[\"index\"](val)) : undefined})",
              "(function (val){return _webIOScope.setObservableValue({\"name\":\"formatted_value\",\"scope\":\"knockout-component-a20e3c4e-598b-467c-8d93-f7be3dd51d2d\",\"id\":\"ob_44\",\"type\":\"observable\"},_webIOScope.getObservableValue({\"name\":\"formatted_vals\",\"scope\":\"knockout-component-a20e3c4e-598b-467c-8d93-f7be3dd51d2d\",\"id\":\"ob_43\",\"type\":\"observable\"})[(_webIOScope.getObservableValue({\"name\":\"index\",\"scope\":\"knockout-component-a20e3c4e-598b-467c-8d93-f7be3dd51d2d\",\"id\":\"ob_42\",\"type\":\"observable\"})-1)])})"
             ]
            },
            "id": "knockout-component-a20e3c4e-598b-467c-8d93-f7be3dd51d2d",
            "imports": {
             "data": [
              {
               "name": "knockout",
               "type": "js",
               "url": "/assetserver/25899bae89003c9f86e9455b28fa31a2ae55d476-knockout.js"
              },
              {
               "name": "knockout_punches",
               "type": "js",
               "url": "/assetserver/fcb49798ed2cca503bfcbfacd04a1a3983159fc2-knockout_punches.js"
              },
              {
               "name": null,
               "type": "js",
               "url": "/assetserver/05b50923e654cdabbc53eb1f28137c1bac627139-all.js"
              },
              {
               "name": null,
               "type": "css",
               "url": "/assetserver/92e5308795e77213db1992d5f04bd12609a543ac-style.css"
              },
              {
               "name": null,
               "type": "css",
               "url": "/assetserver/8786809522076f1019d38a12fad8b081c302304d-main.css"
              }
             ],
             "type": "async_block"
            },
            "observables": {
             "changes": {
              "id": "ob_45",
              "sync": false,
              "value": 0
             },
             "formatted_vals": {
              "id": "ob_43",
              "sync": false,
              "value": [
               "50.0",
               "55.0",
               "60.0",
               "65.0",
               "70.0",
               "75.0",
               "80.0",
               "85.0",
               "90.0",
               "95.0",
               "100.0",
               "105.0",
               "110.0",
               "115.0",
               "120.0",
               "125.0",
               "130.0",
               "135.0",
               "140.0",
               "145.0",
               "150.0",
               "155.0",
               "160.0",
               "165.0",
               "170.0",
               "175.0"
              ]
             },
             "formatted_value": {
              "id": "ob_44",
              "sync": false,
              "value": "110.0"
             },
             "index": {
              "id": "ob_42",
              "sync": true,
              "value": 13
             }
            },
            "systemjs_options": null
           },
           "nodeType": "Scope",
           "props": {},
           "type": "node"
          }
         ],
         "instanceArgs": {
          "namespace": "html",
          "tag": "div"
         },
         "nodeType": "DOM",
         "props": {
          "className": "field"
         },
         "type": "node"
        },
        {
         "children": [
          {
           "children": [],
           "instanceArgs": {
            "id": "ob_50",
            "name": "obs-node"
           },
           "nodeType": "ObservableNode",
           "props": {},
           "type": "node"
          }
         ],
         "instanceArgs": {
          "handlers": {},
          "id": "scope-070aded4-e4b8-4424-9176-d384a64f9c1e",
          "imports": {
           "data": [],
           "type": "async_block"
          },
          "observables": {
           "obs-node": {
            "id": "ob_50",
            "sync": false,
            "value": {
             "children": [
              {
               "children": [],
               "instanceArgs": {
                "namespace": "html",
                "tag": "div"
               },
               "nodeType": "DOM",
               "props": {
                "setInnerHtml": "<?xml version=\"1.0\" encoding=\"utf-8\"?>\n<svg xmlns=\"http://www.w3.org/2000/svg\" xmlns:xlink=\"http://www.w3.org/1999/xlink\" width=\"600\" height=\"400\" viewBox=\"0 0 2400 1600\">\n<defs>\n  <clipPath id=\"clip3400\">\n    <rect x=\"0\" y=\"0\" width=\"2000\" height=\"2000\"/>\n  </clipPath>\n</defs>\n<defs>\n  <clipPath id=\"clip3401\">\n    <rect x=\"0\" y=\"0\" width=\"2400\" height=\"1600\"/>\n  </clipPath>\n</defs>\n<polygon clip-path=\"url(#clip3401)\" points=\"\n0,1600 2400,1600 2400,0 0,0 \n  \" fill=\"#ffffff\" fill-rule=\"evenodd\" fill-opacity=\"1\"/>\n<defs>\n  <clipPath id=\"clip3402\">\n    <rect x=\"480\" y=\"0\" width=\"1681\" height=\"1600\"/>\n  </clipPath>\n</defs>\n<polygon clip-path=\"url(#clip3401)\" points=\"\n371.82,640.483 1174.9,640.483 1174.9,47.2441 371.82,47.2441 \n  \" fill=\"#ffffff\" fill-rule=\"evenodd\" fill-opacity=\"1\"/>\n<defs>\n  <clipPath id=\"clip3403\">\n    <rect x=\"371\" y=\"47\" width=\"804\" height=\"594\"/>\n  </clipPath>\n</defs>\n<polyline clip-path=\"url(#clip3403)\" style=\"stroke:#000000; stroke-width:2; stroke-opacity:0.1; fill:none\" points=\"\n  485.464,640.483 485.464,47.2441 \n  \"/>\n<polyline clip-path=\"url(#clip3403)\" style=\"stroke:#000000; stroke-width:2; stroke-opacity:0.1; fill:none\" points=\"\n  606.684,640.483 606.684,47.2441 \n  \"/>\n<polyline clip-path=\"url(#clip3403)\" style=\"stroke:#000000; stroke-width:2; stroke-opacity:0.1; fill:none\" points=\"\n  727.905,640.483 727.905,47.2441 \n  \"/>\n<polyline clip-path=\"url(#clip3403)\" style=\"stroke:#000000; stroke-width:2; stroke-opacity:0.1; fill:none\" points=\"\n  849.125,640.483 849.125,47.2441 \n  \"/>\n<polyline clip-path=\"url(#clip3403)\" style=\"stroke:#000000; stroke-width:2; stroke-opacity:0.1; fill:none\" points=\"\n  970.345,640.483 970.345,47.2441 \n  \"/>\n<polyline clip-path=\"url(#clip3403)\" style=\"stroke:#000000; stroke-width:2; stroke-opacity:0.1; fill:none\" points=\"\n  1091.57,640.483 1091.57,47.2441 \n  \"/>\n<polyline clip-path=\"url(#clip3403)\" style=\"stroke:#000000; stroke-width:2; stroke-opacity:0.1; fill:none\" points=\"\n  371.82,640.483 1174.9,640.483 \n  \"/>\n<polyline clip-path=\"url(#clip3403)\" style=\"stroke:#000000; stroke-width:2; stroke-opacity:0.1; fill:none\" points=\"\n  371.82,442.736 1174.9,442.736 \n  \"/>\n<polyline clip-path=\"url(#clip3403)\" style=\"stroke:#000000; stroke-width:2; stroke-opacity:0.1; fill:none\" points=\"\n  371.82,244.99 1174.9,244.99 \n  \"/>\n<polyline clip-path=\"url(#clip3403)\" style=\"stroke:#000000; stroke-width:2; stroke-opacity:0.1; fill:none\" points=\"\n  371.82,47.2441 1174.9,47.2441 \n  \"/>\n<polyline clip-path=\"url(#clip3401)\" style=\"stroke:#000000; stroke-width:4; stroke-opacity:1; fill:none\" points=\"\n  371.82,640.483 1174.9,640.483 \n  \"/>\n<polyline clip-path=\"url(#clip3401)\" style=\"stroke:#000000; stroke-width:4; stroke-opacity:1; fill:none\" points=\"\n  371.82,640.483 371.82,47.2441 \n  \"/>\n<polyline clip-path=\"url(#clip3401)\" style=\"stroke:#000000; stroke-width:4; stroke-opacity:1; fill:none\" points=\"\n  485.464,640.483 485.464,631.584 \n  \"/>\n<polyline clip-path=\"url(#clip3401)\" style=\"stroke:#000000; stroke-width:4; stroke-opacity:1; fill:none\" points=\"\n  606.684,640.483 606.684,631.584 \n  \"/>\n<polyline clip-path=\"url(#clip3401)\" style=\"stroke:#000000; stroke-width:4; stroke-opacity:1; fill:none\" points=\"\n  727.905,640.483 727.905,631.584 \n  \"/>\n<polyline clip-path=\"url(#clip3401)\" style=\"stroke:#000000; stroke-width:4; stroke-opacity:1; fill:none\" points=\"\n  849.125,640.483 849.125,631.584 \n  \"/>\n<polyline clip-path=\"url(#clip3401)\" style=\"stroke:#000000; stroke-width:4; stroke-opacity:1; fill:none\" points=\"\n  970.345,640.483 970.345,631.584 \n  \"/>\n<polyline clip-path=\"url(#clip3401)\" style=\"stroke:#000000; stroke-width:4; stroke-opacity:1; fill:none\" points=\"\n  1091.57,640.483 1091.57,631.584 \n  \"/>\n<polyline clip-path=\"url(#clip3401)\" style=\"stroke:#000000; stroke-width:4; stroke-opacity:1; fill:none\" points=\"\n  371.82,640.483 383.866,640.483 \n  \"/>\n<polyline clip-path=\"url(#clip3401)\" style=\"stroke:#000000; stroke-width:4; stroke-opacity:1; fill:none\" points=\"\n  371.82,442.736 383.866,442.736 \n  \"/>\n<polyline clip-path=\"url(#clip3401)\" style=\"stroke:#000000; stroke-width:4; stroke-opacity:1; fill:none\" points=\"\n  371.82,244.99 383.866,244.99 \n  \"/>\n<polyline clip-path=\"url(#clip3401)\" style=\"stroke:#000000; stroke-width:4; stroke-opacity:1; fill:none\" points=\"\n  371.82,47.2441 383.866,47.2441 \n  \"/>\n<g clip-path=\"url(#clip3401)\">\n<text style=\"fill:#000000; fill-opacity:1; font-family:Arial,Helvetica Neue,Helvetica,sans-serif; font-size:48px; text-anchor:middle;\" transform=\"rotate(0, 485.464, 694.483)\" x=\"485.464\" y=\"694.483\">40</text>\n</g>\n<g clip-path=\"url(#clip3401)\">\n<text style=\"fill:#000000; fill-opacity:1; font-family:Arial,Helvetica Neue,Helvetica,sans-serif; font-size:48px; text-anchor:middle;\" transform=\"rotate(0, 606.684, 694.483)\" x=\"606.684\" y=\"694.483\">60</text>\n</g>\n<g clip-path=\"url(#clip3401)\">\n<text style=\"fill:#000000; fill-opacity:1; font-family:Arial,Helvetica Neue,Helvetica,sans-serif; font-size:48px; text-anchor:middle;\" transform=\"rotate(0, 727.905, 694.483)\" x=\"727.905\" y=\"694.483\">80</text>\n</g>\n<g clip-path=\"url(#clip3401)\">\n<text style=\"fill:#000000; fill-opacity:1; font-family:Arial,Helvetica Neue,Helvetica,sans-serif; font-size:48px; text-anchor:middle;\" transform=\"rotate(0, 849.125, 694.483)\" x=\"849.125\" y=\"694.483\">100</text>\n</g>\n<g clip-path=\"url(#clip3401)\">\n<text style=\"fill:#000000; fill-opacity:1; font-family:Arial,Helvetica Neue,Helvetica,sans-serif; font-size:48px; text-anchor:middle;\" transform=\"rotate(0, 970.345, 694.483)\" x=\"970.345\" y=\"694.483\">120</text>\n</g>\n<g clip-path=\"url(#clip3401)\">\n<text style=\"fill:#000000; fill-opacity:1; font-family:Arial,Helvetica Neue,Helvetica,sans-serif; font-size:48px; text-anchor:middle;\" transform=\"rotate(0, 1091.57, 694.483)\" x=\"1091.57\" y=\"694.483\">140</text>\n</g>\n<g clip-path=\"url(#clip3401)\">\n<text style=\"fill:#000000; fill-opacity:1; font-family:Arial,Helvetica Neue,Helvetica,sans-serif; font-size:48px; text-anchor:start;\" transform=\"rotate(0, 177.535, 664.21)\" x=\"177.535\" y=\"664.21\">5.0×10</text>\n</g>\n<g clip-path=\"url(#clip3401)\">\n<text style=\"fill:#000000; fill-opacity:1; font-family:Arial,Helvetica Neue,Helvetica,sans-serif; font-size:38px; text-anchor:start;\" transform=\"rotate(0, 326.075, 636.8)\" x=\"326.075\" y=\"636.8\">4</text>\n</g>\n<g clip-path=\"url(#clip3401)\">\n<text style=\"fill:#000000; fill-opacity:1; font-family:Arial,Helvetica Neue,Helvetica,sans-serif; font-size:48px; text-anchor:start;\" transform=\"rotate(0, 177.535, 466.464)\" x=\"177.535\" y=\"466.464\">1.0×10</text>\n</g>\n<g clip-path=\"url(#clip3401)\">\n<text style=\"fill:#000000; fill-opacity:1; font-family:Arial,Helvetica Neue,Helvetica,sans-serif; font-size:38px; text-anchor:start;\" transform=\"rotate(0, 326.075, 439.054)\" x=\"326.075\" y=\"439.054\">5</text>\n</g>\n<g clip-path=\"url(#clip3401)\">\n<text style=\"fill:#000000; fill-opacity:1; font-family:Arial,Helvetica Neue,Helvetica,sans-serif; font-size:48px; text-anchor:start;\" transform=\"rotate(0, 177.535, 268.718)\" x=\"177.535\" y=\"268.718\">1.5×10</text>\n</g>\n<g clip-path=\"url(#clip3401)\">\n<text style=\"fill:#000000; fill-opacity:1; font-family:Arial,Helvetica Neue,Helvetica,sans-serif; font-size:38px; text-anchor:start;\" transform=\"rotate(0, 326.075, 241.307)\" x=\"326.075\" y=\"241.307\">5</text>\n</g>\n<g clip-path=\"url(#clip3401)\">\n<text style=\"fill:#000000; fill-opacity:1; font-family:Arial,Helvetica Neue,Helvetica,sans-serif; font-size:48px; text-anchor:start;\" transform=\"rotate(0, 177.535, 70.9717)\" x=\"177.535\" y=\"70.9717\">2.0×10</text>\n</g>\n<g clip-path=\"url(#clip3401)\">\n<text style=\"fill:#000000; fill-opacity:1; font-family:Arial,Helvetica Neue,Helvetica,sans-serif; font-size:38px; text-anchor:start;\" transform=\"rotate(0, 326.075, 43.5613)\" x=\"326.075\" y=\"43.5613\">5</text>\n</g>\n<g clip-path=\"url(#clip3401)\">\n<text style=\"fill:#000000; fill-opacity:1; font-family:Arial,Helvetica Neue,Helvetica,sans-serif; font-size:66px; text-anchor:middle;\" transform=\"rotate(0, 773.362, 790.4)\" x=\"773.362\" y=\"790.4\">Cost of G1</text>\n</g>\n<g clip-path=\"url(#clip3401)\">\n<text style=\"fill:#000000; fill-opacity:1; font-family:Arial,Helvetica Neue,Helvetica,sans-serif; font-size:66px; text-anchor:middle;\" transform=\"rotate(-90, 57.6, 343.863)\" x=\"57.6\" y=\"343.863\">Total cost</text>\n</g>\n<polyline clip-path=\"url(#clip3403)\" style=\"stroke:#009af9; stroke-width:4; stroke-opacity:1; fill:none\" points=\"\n  394.549,541.61 397.579,539.632 400.61,537.655 403.64,535.677 406.671,533.7 409.701,531.722 412.732,529.745 415.762,527.767 418.793,525.79 421.823,523.812 \n  424.854,521.835 427.884,519.857 430.915,517.88 433.945,515.903 436.976,513.925 440.006,511.948 443.037,509.97 446.067,507.993 449.098,506.015 452.128,504.038 \n  455.159,502.06 458.189,500.083 461.22,498.105 464.25,496.128 467.281,494.15 470.311,492.173 473.342,490.196 476.372,488.218 479.403,486.241 482.433,484.263 \n  485.464,482.286 488.494,480.308 491.525,478.331 494.555,476.353 497.586,474.376 500.616,472.398 503.647,470.421 506.677,468.443 509.708,466.466 512.738,464.489 \n  515.769,462.511 518.799,460.534 521.83,458.556 524.86,456.579 527.891,454.601 530.921,452.624 533.952,450.646 536.982,448.669 540.013,446.691 543.044,444.714 \n  546.074,442.736 549.105,440.759 552.135,438.782 555.166,436.804 558.196,434.827 561.227,432.849 564.257,430.872 567.288,428.894 570.318,426.917 573.349,424.939 \n  576.379,422.962 579.41,420.984 582.44,419.007 585.471,417.029 588.501,415.052 591.532,413.075 594.562,411.097 597.593,409.12 600.623,407.142 603.654,405.165 \n  606.684,403.187 609.715,401.21 612.745,399.232 615.776,397.255 618.806,395.277 621.837,393.3 624.867,391.322 627.898,389.345 630.928,387.368 633.959,385.39 \n  636.989,383.413 640.02,381.435 643.05,379.458 646.081,377.48 649.111,375.503 652.142,373.525 655.172,371.548 658.203,369.57 661.233,367.593 664.264,365.615 \n  667.294,363.638 670.325,361.661 673.355,359.683 676.386,357.706 679.416,355.728 682.447,353.751 685.477,351.773 688.508,349.796 691.539,347.818 694.569,345.841 \n  697.6,343.863 700.63,341.886 703.661,339.908 706.691,337.931 709.722,335.954 712.752,333.976 715.783,331.999 718.813,330.021 721.844,328.044 724.874,326.066 \n  727.905,324.089 730.935,322.111 733.966,320.134 736.996,318.156 740.027,316.179 743.057,314.201 746.088,312.224 749.118,310.246 752.149,308.269 755.179,306.292 \n  758.21,304.314 761.24,302.337 764.271,300.359 767.301,298.382 770.332,296.404 773.362,294.427 776.393,292.449 779.423,290.472 782.454,288.494 785.484,286.517 \n  788.515,284.539 791.545,282.562 794.576,280.585 797.606,278.607 800.637,276.63 803.667,274.652 806.698,272.675 809.728,270.697 812.759,268.72 815.789,266.742 \n  818.82,264.765 821.85,262.787 824.881,260.81 827.911,258.832 830.942,256.855 833.972,254.878 837.003,252.9 840.033,250.923 843.064,248.945 846.095,246.968 \n  849.125,244.99 852.156,244.002 855.186,243.013 858.217,242.024 861.247,241.035 864.278,240.047 867.308,239.058 870.339,238.069 873.369,237.08 876.4,236.092 \n  879.43,235.103 882.461,234.114 885.491,233.125 888.522,232.137 891.552,231.148 894.583,230.159 897.613,229.171 900.644,228.182 903.674,227.193 906.705,226.204 \n  909.735,225.216 912.766,224.622 915.796,224.029 918.827,223.436 921.857,222.843 924.888,222.249 927.918,221.656 930.949,221.063 933.979,220.47 937.01,219.876 \n  940.04,219.283 943.071,218.69 946.101,218.097 949.132,217.504 952.162,216.91 955.193,216.317 958.223,215.724 961.254,215.131 964.284,214.537 967.315,213.944 \n  970.345,213.351 973.376,212.758 976.406,212.164 979.437,211.571 982.467,210.978 985.498,210.385 988.528,209.791 991.559,209.198 994.59,208.605 997.62,208.012 \n  1000.65,207.418 1003.68,206.825 1006.71,206.232 1009.74,205.639 1012.77,205.046 1015.8,204.452 1018.83,203.859 1021.86,203.266 1024.89,202.673 1027.93,202.079 \n  1030.96,201.486 1033.99,200.893 1037.02,200.3 1040.05,199.706 1043.08,199.113 1046.11,198.52 1049.14,197.927 1052.17,197.333 1055.2,196.74 1058.23,196.147 \n  1061.26,195.554 1064.29,194.96 1067.32,194.367 1070.35,193.774 1073.38,193.181 1076.41,192.588 1079.44,191.994 1082.47,191.401 1085.5,190.808 1088.54,190.215 \n  1091.57,189.621 1094.6,189.028 1097.63,188.435 1100.66,187.842 1103.69,187.248 1106.72,186.655 1109.75,186.062 1112.78,185.469 1115.81,184.875 1118.84,184.282 \n  1121.87,183.689 1124.9,183.096 1127.93,182.502 1130.96,181.909 1133.99,181.316 1137.02,180.723 1140.05,180.13 1143.08,179.536 1146.12,178.943 1149.15,178.35 \n  1152.18,177.757 \n  \"/>\n<polygon clip-path=\"url(#clip3401)\" points=\"\n1518.17,640.483 2321.26,640.483 2321.26,47.2441 1518.17,47.2441 \n  \" fill=\"#ffffff\" fill-rule=\"evenodd\" fill-opacity=\"1\"/>\n<defs>\n  <clipPath id=\"clip3404\">\n    <rect x=\"1518\" y=\"47\" width=\"804\" height=\"594\"/>\n  </clipPath>\n</defs>\n<polyline clip-path=\"url(#clip3404)\" style=\"stroke:#000000; stroke-width:2; stroke-opacity:0.1; fill:none\" points=\"\n  1631.82,640.483 1631.82,47.2441 \n  \"/>\n<polyline clip-path=\"url(#clip3404)\" style=\"stroke:#000000; stroke-width:2; stroke-opacity:0.1; fill:none\" points=\"\n  1753.04,640.483 1753.04,47.2441 \n  \"/>\n<polyline clip-path=\"url(#clip3404)\" style=\"stroke:#000000; stroke-width:2; stroke-opacity:0.1; fill:none\" points=\"\n  1874.26,640.483 1874.26,47.2441 \n  \"/>\n<polyline clip-path=\"url(#clip3404)\" style=\"stroke:#000000; stroke-width:2; stroke-opacity:0.1; fill:none\" points=\"\n  1995.48,640.483 1995.48,47.2441 \n  \"/>\n<polyline clip-path=\"url(#clip3404)\" style=\"stroke:#000000; stroke-width:2; stroke-opacity:0.1; fill:none\" points=\"\n  2116.7,640.483 2116.7,47.2441 \n  \"/>\n<polyline clip-path=\"url(#clip3404)\" style=\"stroke:#000000; stroke-width:2; stroke-opacity:0.1; fill:none\" points=\"\n  2237.92,640.483 2237.92,47.2441 \n  \"/>\n<polyline clip-path=\"url(#clip3404)\" style=\"stroke:#000000; stroke-width:2; stroke-opacity:0.1; fill:none\" points=\"\n  1518.17,640.483 2321.26,640.483 \n  \"/>\n<polyline clip-path=\"url(#clip3404)\" style=\"stroke:#000000; stroke-width:2; stroke-opacity:0.1; fill:none\" points=\"\n  1518.17,505.656 2321.26,505.656 \n  \"/>\n<polyline clip-path=\"url(#clip3404)\" style=\"stroke:#000000; stroke-width:2; stroke-opacity:0.1; fill:none\" points=\"\n  1518.17,370.829 2321.26,370.829 \n  \"/>\n<polyline clip-path=\"url(#clip3404)\" style=\"stroke:#000000; stroke-width:2; stroke-opacity:0.1; fill:none\" points=\"\n  1518.17,236.002 2321.26,236.002 \n  \"/>\n<polyline clip-path=\"url(#clip3404)\" style=\"stroke:#000000; stroke-width:2; stroke-opacity:0.1; fill:none\" points=\"\n  1518.17,101.175 2321.26,101.175 \n  \"/>\n<polyline clip-path=\"url(#clip3401)\" style=\"stroke:#000000; stroke-width:4; stroke-opacity:1; fill:none\" points=\"\n  1518.17,640.483 2321.26,640.483 \n  \"/>\n<polyline clip-path=\"url(#clip3401)\" style=\"stroke:#000000; stroke-width:4; stroke-opacity:1; fill:none\" points=\"\n  1518.17,640.483 1518.17,47.2441 \n  \"/>\n<polyline clip-path=\"url(#clip3401)\" style=\"stroke:#000000; stroke-width:4; stroke-opacity:1; fill:none\" points=\"\n  1631.82,640.483 1631.82,631.584 \n  \"/>\n<polyline clip-path=\"url(#clip3401)\" style=\"stroke:#000000; stroke-width:4; stroke-opacity:1; fill:none\" points=\"\n  1753.04,640.483 1753.04,631.584 \n  \"/>\n<polyline clip-path=\"url(#clip3401)\" style=\"stroke:#000000; stroke-width:4; stroke-opacity:1; fill:none\" points=\"\n  1874.26,640.483 1874.26,631.584 \n  \"/>\n<polyline clip-path=\"url(#clip3401)\" style=\"stroke:#000000; stroke-width:4; stroke-opacity:1; fill:none\" points=\"\n  1995.48,640.483 1995.48,631.584 \n  \"/>\n<polyline clip-path=\"url(#clip3401)\" style=\"stroke:#000000; stroke-width:4; stroke-opacity:1; fill:none\" points=\"\n  2116.7,640.483 2116.7,631.584 \n  \"/>\n<polyline clip-path=\"url(#clip3401)\" style=\"stroke:#000000; stroke-width:4; stroke-opacity:1; fill:none\" points=\"\n  2237.92,640.483 2237.92,631.584 \n  \"/>\n<polyline clip-path=\"url(#clip3401)\" style=\"stroke:#000000; stroke-width:4; stroke-opacity:1; fill:none\" points=\"\n  1518.17,640.483 1530.22,640.483 \n  \"/>\n<polyline clip-path=\"url(#clip3401)\" style=\"stroke:#000000; stroke-width:4; stroke-opacity:1; fill:none\" points=\"\n  1518.17,505.656 1530.22,505.656 \n  \"/>\n<polyline clip-path=\"url(#clip3401)\" style=\"stroke:#000000; stroke-width:4; stroke-opacity:1; fill:none\" points=\"\n  1518.17,370.829 1530.22,370.829 \n  \"/>\n<polyline clip-path=\"url(#clip3401)\" style=\"stroke:#000000; stroke-width:4; stroke-opacity:1; fill:none\" points=\"\n  1518.17,236.002 1530.22,236.002 \n  \"/>\n<polyline clip-path=\"url(#clip3401)\" style=\"stroke:#000000; stroke-width:4; stroke-opacity:1; fill:none\" points=\"\n  1518.17,101.175 1530.22,101.175 \n  \"/>\n<g clip-path=\"url(#clip3401)\">\n<text style=\"fill:#000000; fill-opacity:1; font-family:Arial,Helvetica Neue,Helvetica,sans-serif; font-size:48px; text-anchor:middle;\" transform=\"rotate(0, 1631.82, 694.483)\" x=\"1631.82\" y=\"694.483\">40</text>\n</g>\n<g clip-path=\"url(#clip3401)\">\n<text style=\"fill:#000000; fill-opacity:1; font-family:Arial,Helvetica Neue,Helvetica,sans-serif; font-size:48px; text-anchor:middle;\" transform=\"rotate(0, 1753.04, 694.483)\" x=\"1753.04\" y=\"694.483\">60</text>\n</g>\n<g clip-path=\"url(#clip3401)\">\n<text style=\"fill:#000000; fill-opacity:1; font-family:Arial,Helvetica Neue,Helvetica,sans-serif; font-size:48px; text-anchor:middle;\" transform=\"rotate(0, 1874.26, 694.483)\" x=\"1874.26\" y=\"694.483\">80</text>\n</g>\n<g clip-path=\"url(#clip3401)\">\n<text style=\"fill:#000000; fill-opacity:1; font-family:Arial,Helvetica Neue,Helvetica,sans-serif; font-size:48px; text-anchor:middle;\" transform=\"rotate(0, 1995.48, 694.483)\" x=\"1995.48\" y=\"694.483\">100</text>\n</g>\n<g clip-path=\"url(#clip3401)\">\n<text style=\"fill:#000000; fill-opacity:1; font-family:Arial,Helvetica Neue,Helvetica,sans-serif; font-size:48px; text-anchor:middle;\" transform=\"rotate(0, 2116.7, 694.483)\" x=\"2116.7\" y=\"694.483\">120</text>\n</g>\n<g clip-path=\"url(#clip3401)\">\n<text style=\"fill:#000000; fill-opacity:1; font-family:Arial,Helvetica Neue,Helvetica,sans-serif; font-size:48px; text-anchor:middle;\" transform=\"rotate(0, 2237.92, 694.483)\" x=\"2237.92\" y=\"694.483\">140</text>\n</g>\n<g clip-path=\"url(#clip3401)\">\n<text style=\"fill:#000000; fill-opacity:1; font-family:Arial,Helvetica Neue,Helvetica,sans-serif; font-size:48px; text-anchor:end;\" transform=\"rotate(0, 1494.17, 657.983)\" x=\"1494.17\" y=\"657.983\">0</text>\n</g>\n<g clip-path=\"url(#clip3401)\">\n<text style=\"fill:#000000; fill-opacity:1; font-family:Arial,Helvetica Neue,Helvetica,sans-serif; font-size:48px; text-anchor:end;\" transform=\"rotate(0, 1494.17, 523.156)\" x=\"1494.17\" y=\"523.156\">250</text>\n</g>\n<g clip-path=\"url(#clip3401)\">\n<text style=\"fill:#000000; fill-opacity:1; font-family:Arial,Helvetica Neue,Helvetica,sans-serif; font-size:48px; text-anchor:end;\" transform=\"rotate(0, 1494.17, 388.329)\" x=\"1494.17\" y=\"388.329\">500</text>\n</g>\n<g clip-path=\"url(#clip3401)\">\n<text style=\"fill:#000000; fill-opacity:1; font-family:Arial,Helvetica Neue,Helvetica,sans-serif; font-size:48px; text-anchor:end;\" transform=\"rotate(0, 1494.17, 253.502)\" x=\"1494.17\" y=\"253.502\">750</text>\n</g>\n<g clip-path=\"url(#clip3401)\">\n<text style=\"fill:#000000; fill-opacity:1; font-family:Arial,Helvetica Neue,Helvetica,sans-serif; font-size:48px; text-anchor:end;\" transform=\"rotate(0, 1494.17, 118.675)\" x=\"1494.17\" y=\"118.675\">1000</text>\n</g>\n<g clip-path=\"url(#clip3401)\">\n<text style=\"fill:#000000; fill-opacity:1; font-family:Arial,Helvetica Neue,Helvetica,sans-serif; font-size:66px; text-anchor:middle;\" transform=\"rotate(0, 1919.72, 790.4)\" x=\"1919.72\" y=\"790.4\">Cost of G1</text>\n</g>\n<g clip-path=\"url(#clip3401)\">\n<text style=\"fill:#000000; fill-opacity:1; font-family:Arial,Helvetica Neue,Helvetica,sans-serif; font-size:66px; text-anchor:middle;\" transform=\"rotate(-90, 1311.25, 343.863)\" x=\"1311.25\" y=\"343.863\">Dispatch: G1</text>\n</g>\n<polyline clip-path=\"url(#clip3404)\" style=\"stroke:#009af9; stroke-width:4; stroke-opacity:1; fill:none\" points=\"\n  1540.9,101.175 1543.93,101.175 1546.96,101.175 1550,101.175 1553.03,101.175 1556.06,101.175 1559.09,101.175 1562.12,101.175 1565.15,101.175 1568.18,101.175 \n  1571.21,101.175 1574.24,101.175 1577.27,101.175 1580.3,101.175 1583.33,101.175 1586.36,101.175 1589.39,101.175 1592.42,101.175 1595.45,101.175 1598.48,101.175 \n  1601.51,101.175 1604.54,101.175 1607.57,101.175 1610.61,101.175 1613.64,101.175 1616.67,101.175 1619.7,101.175 1622.73,101.175 1625.76,101.175 1628.79,101.175 \n  1631.82,101.175 1634.85,101.175 1637.88,101.175 1640.91,101.175 1643.94,101.175 1646.97,101.175 1650,101.175 1653.03,101.175 1656.06,101.175 1659.09,101.175 \n  1662.12,101.175 1665.15,101.175 1668.18,101.175 1671.22,101.175 1674.25,101.175 1677.28,101.175 1680.31,101.175 1683.34,101.175 1686.37,101.175 1689.4,101.175 \n  1692.43,101.175 1695.46,101.175 1698.49,101.175 1701.52,101.175 1704.55,101.175 1707.58,101.175 1710.61,101.175 1713.64,101.175 1716.67,101.175 1719.7,101.175 \n  1722.73,101.175 1725.76,101.175 1728.8,101.175 1731.83,101.175 1734.86,101.175 1737.89,101.175 1740.92,101.175 1743.95,101.175 1746.98,101.175 1750.01,101.175 \n  1753.04,101.175 1756.07,101.175 1759.1,101.175 1762.13,101.175 1765.16,101.175 1768.19,101.175 1771.22,101.175 1774.25,101.175 1777.28,101.175 1780.31,101.175 \n  1783.34,101.175 1786.37,101.175 1789.41,101.175 1792.44,101.175 1795.47,101.175 1798.5,101.175 1801.53,101.175 1804.56,101.175 1807.59,101.175 1810.62,101.175 \n  1813.65,101.175 1816.68,101.175 1819.71,101.175 1822.74,101.175 1825.77,101.175 1828.8,101.175 1831.83,101.175 1834.86,101.175 1837.89,101.175 1840.92,101.175 \n  1843.95,101.175 1846.99,101.175 1850.02,101.175 1853.05,101.175 1856.08,101.175 1859.11,101.175 1862.14,101.175 1865.17,101.175 1868.2,101.175 1871.23,101.175 \n  1874.26,101.175 1877.29,101.175 1880.32,101.175 1883.35,101.175 1886.38,101.175 1889.41,101.175 1892.44,101.175 1895.47,101.175 1898.5,101.175 1901.53,101.175 \n  1904.56,101.175 1907.6,101.175 1910.63,101.175 1913.66,101.175 1916.69,101.175 1919.72,101.175 1922.75,101.175 1925.78,101.175 1928.81,101.175 1931.84,101.175 \n  1934.87,101.175 1937.9,101.175 1940.93,101.175 1943.96,101.175 1946.99,101.175 1950.02,101.175 1953.05,101.175 1956.08,101.175 1959.11,101.175 1962.14,101.175 \n  1965.17,101.175 1968.21,101.175 1971.24,101.175 1974.27,101.175 1977.3,101.175 1980.33,101.175 1983.36,101.175 1986.39,101.175 1989.42,101.175 1992.45,101.175 \n  1995.48,101.175 1998.51,370.829 2001.54,370.829 2004.57,370.829 2007.6,370.829 2010.63,370.829 2013.66,370.829 2016.69,370.829 2019.72,370.829 2022.75,370.829 \n  2025.79,370.829 2028.82,370.829 2031.85,370.829 2034.88,370.829 2037.91,370.829 2040.94,370.829 2043.97,370.829 2047,370.829 2050.03,370.829 2053.06,370.829 \n  2056.09,370.829 2059.12,478.69 2062.15,478.69 2065.18,478.69 2068.21,478.69 2071.24,478.69 2074.27,478.69 2077.3,478.69 2080.33,478.69 2083.36,478.69 \n  2086.4,478.69 2089.43,478.69 2092.46,478.69 2095.49,478.69 2098.52,478.69 2101.55,478.69 2104.58,478.69 2107.61,478.69 2110.64,478.69 2113.67,478.69 \n  2116.7,478.69 2119.73,478.69 2122.76,478.69 2125.79,478.69 2128.82,478.69 2131.85,478.69 2134.88,478.69 2137.91,478.69 2140.94,478.69 2143.98,478.69 \n  2147.01,478.69 2150.04,478.69 2153.07,478.69 2156.1,478.69 2159.13,478.69 2162.16,478.69 2165.19,478.69 2168.22,478.69 2171.25,478.69 2174.28,478.69 \n  2177.31,478.69 2180.34,478.69 2183.37,478.69 2186.4,478.69 2189.43,478.69 2192.46,478.69 2195.49,478.69 2198.52,478.69 2201.55,478.69 2204.59,478.69 \n  2207.62,478.69 2210.65,478.69 2213.68,478.69 2216.71,478.69 2219.74,478.69 2222.77,478.69 2225.8,478.69 2228.83,478.69 2231.86,478.69 2234.89,478.69 \n  2237.92,478.69 2240.95,478.69 2243.98,478.69 2247.01,478.69 2250.04,478.69 2253.07,478.69 2256.1,478.69 2259.13,478.69 2262.16,478.69 2265.2,478.69 \n  2268.23,478.69 2271.26,478.69 2274.29,478.69 2277.32,478.69 2280.35,478.69 2283.38,478.69 2286.41,478.69 2289.44,478.69 2292.47,478.69 2295.5,478.69 \n  2298.53,478.69 \n  \"/>\n<polygon clip-path=\"url(#clip3401)\" points=\"\n371.82,1440.48 1174.9,1440.48 1174.9,847.244 371.82,847.244 \n  \" fill=\"#ffffff\" fill-rule=\"evenodd\" fill-opacity=\"1\"/>\n<defs>\n  <clipPath id=\"clip3405\">\n    <rect x=\"371\" y=\"847\" width=\"804\" height=\"594\"/>\n  </clipPath>\n</defs>\n<polyline clip-path=\"url(#clip3405)\" style=\"stroke:#000000; stroke-width:2; stroke-opacity:0.1; fill:none\" points=\"\n  485.464,1440.48 485.464,847.244 \n  \"/>\n<polyline clip-path=\"url(#clip3405)\" style=\"stroke:#000000; stroke-width:2; stroke-opacity:0.1; fill:none\" points=\"\n  606.684,1440.48 606.684,847.244 \n  \"/>\n<polyline clip-path=\"url(#clip3405)\" style=\"stroke:#000000; stroke-width:2; stroke-opacity:0.1; fill:none\" points=\"\n  727.905,1440.48 727.905,847.244 \n  \"/>\n<polyline clip-path=\"url(#clip3405)\" style=\"stroke:#000000; stroke-width:2; stroke-opacity:0.1; fill:none\" points=\"\n  849.125,1440.48 849.125,847.244 \n  \"/>\n<polyline clip-path=\"url(#clip3405)\" style=\"stroke:#000000; stroke-width:2; stroke-opacity:0.1; fill:none\" points=\"\n  970.345,1440.48 970.345,847.244 \n  \"/>\n<polyline clip-path=\"url(#clip3405)\" style=\"stroke:#000000; stroke-width:2; stroke-opacity:0.1; fill:none\" points=\"\n  1091.57,1440.48 1091.57,847.244 \n  \"/>\n<polyline clip-path=\"url(#clip3405)\" style=\"stroke:#000000; stroke-width:2; stroke-opacity:0.1; fill:none\" points=\"\n  371.82,1440.48 1174.9,1440.48 \n  \"/>\n<polyline clip-path=\"url(#clip3405)\" style=\"stroke:#000000; stroke-width:2; stroke-opacity:0.1; fill:none\" points=\"\n  371.82,1255.1 1174.9,1255.1 \n  \"/>\n<polyline clip-path=\"url(#clip3405)\" style=\"stroke:#000000; stroke-width:2; stroke-opacity:0.1; fill:none\" points=\"\n  371.82,1069.71 1174.9,1069.71 \n  \"/>\n<polyline clip-path=\"url(#clip3405)\" style=\"stroke:#000000; stroke-width:2; stroke-opacity:0.1; fill:none\" points=\"\n  371.82,884.322 1174.9,884.322 \n  \"/>\n<polyline clip-path=\"url(#clip3401)\" style=\"stroke:#000000; stroke-width:4; stroke-opacity:1; fill:none\" points=\"\n  371.82,1440.48 1174.9,1440.48 \n  \"/>\n<polyline clip-path=\"url(#clip3401)\" style=\"stroke:#000000; stroke-width:4; stroke-opacity:1; fill:none\" points=\"\n  371.82,1440.48 371.82,847.244 \n  \"/>\n<polyline clip-path=\"url(#clip3401)\" style=\"stroke:#000000; stroke-width:4; stroke-opacity:1; fill:none\" points=\"\n  485.464,1440.48 485.464,1431.58 \n  \"/>\n<polyline clip-path=\"url(#clip3401)\" style=\"stroke:#000000; stroke-width:4; stroke-opacity:1; fill:none\" points=\"\n  606.684,1440.48 606.684,1431.58 \n  \"/>\n<polyline clip-path=\"url(#clip3401)\" style=\"stroke:#000000; stroke-width:4; stroke-opacity:1; fill:none\" points=\"\n  727.905,1440.48 727.905,1431.58 \n  \"/>\n<polyline clip-path=\"url(#clip3401)\" style=\"stroke:#000000; stroke-width:4; stroke-opacity:1; fill:none\" points=\"\n  849.125,1440.48 849.125,1431.58 \n  \"/>\n<polyline clip-path=\"url(#clip3401)\" style=\"stroke:#000000; stroke-width:4; stroke-opacity:1; fill:none\" points=\"\n  970.345,1440.48 970.345,1431.58 \n  \"/>\n<polyline clip-path=\"url(#clip3401)\" style=\"stroke:#000000; stroke-width:4; stroke-opacity:1; fill:none\" points=\"\n  1091.57,1440.48 1091.57,1431.58 \n  \"/>\n<polyline clip-path=\"url(#clip3401)\" style=\"stroke:#000000; stroke-width:4; stroke-opacity:1; fill:none\" points=\"\n  371.82,1440.48 383.866,1440.48 \n  \"/>\n<polyline clip-path=\"url(#clip3401)\" style=\"stroke:#000000; stroke-width:4; stroke-opacity:1; fill:none\" points=\"\n  371.82,1255.1 383.866,1255.1 \n  \"/>\n<polyline clip-path=\"url(#clip3401)\" style=\"stroke:#000000; stroke-width:4; stroke-opacity:1; fill:none\" points=\"\n  371.82,1069.71 383.866,1069.71 \n  \"/>\n<polyline clip-path=\"url(#clip3401)\" style=\"stroke:#000000; stroke-width:4; stroke-opacity:1; fill:none\" points=\"\n  371.82,884.322 383.866,884.322 \n  \"/>\n<g clip-path=\"url(#clip3401)\">\n<text style=\"fill:#000000; fill-opacity:1; font-family:Arial,Helvetica Neue,Helvetica,sans-serif; font-size:48px; text-anchor:middle;\" transform=\"rotate(0, 485.464, 1494.48)\" x=\"485.464\" y=\"1494.48\">40</text>\n</g>\n<g clip-path=\"url(#clip3401)\">\n<text style=\"fill:#000000; fill-opacity:1; font-family:Arial,Helvetica Neue,Helvetica,sans-serif; font-size:48px; text-anchor:middle;\" transform=\"rotate(0, 606.684, 1494.48)\" x=\"606.684\" y=\"1494.48\">60</text>\n</g>\n<g clip-path=\"url(#clip3401)\">\n<text style=\"fill:#000000; fill-opacity:1; font-family:Arial,Helvetica Neue,Helvetica,sans-serif; font-size:48px; text-anchor:middle;\" transform=\"rotate(0, 727.905, 1494.48)\" x=\"727.905\" y=\"1494.48\">80</text>\n</g>\n<g clip-path=\"url(#clip3401)\">\n<text style=\"fill:#000000; fill-opacity:1; font-family:Arial,Helvetica Neue,Helvetica,sans-serif; font-size:48px; text-anchor:middle;\" transform=\"rotate(0, 849.125, 1494.48)\" x=\"849.125\" y=\"1494.48\">100</text>\n</g>\n<g clip-path=\"url(#clip3401)\">\n<text style=\"fill:#000000; fill-opacity:1; font-family:Arial,Helvetica Neue,Helvetica,sans-serif; font-size:48px; text-anchor:middle;\" transform=\"rotate(0, 970.345, 1494.48)\" x=\"970.345\" y=\"1494.48\">120</text>\n</g>\n<g clip-path=\"url(#clip3401)\">\n<text style=\"fill:#000000; fill-opacity:1; font-family:Arial,Helvetica Neue,Helvetica,sans-serif; font-size:48px; text-anchor:middle;\" transform=\"rotate(0, 1091.57, 1494.48)\" x=\"1091.57\" y=\"1494.48\">140</text>\n</g>\n<g clip-path=\"url(#clip3401)\">\n<text style=\"fill:#000000; fill-opacity:1; font-family:Arial,Helvetica Neue,Helvetica,sans-serif; font-size:48px; text-anchor:end;\" transform=\"rotate(0, 347.82, 1457.98)\" x=\"347.82\" y=\"1457.98\">0</text>\n</g>\n<g clip-path=\"url(#clip3401)\">\n<text style=\"fill:#000000; fill-opacity:1; font-family:Arial,Helvetica Neue,Helvetica,sans-serif; font-size:48px; text-anchor:end;\" transform=\"rotate(0, 347.82, 1272.6)\" x=\"347.82\" y=\"1272.6\">500</text>\n</g>\n<g clip-path=\"url(#clip3401)\">\n<text style=\"fill:#000000; fill-opacity:1; font-family:Arial,Helvetica Neue,Helvetica,sans-serif; font-size:48px; text-anchor:end;\" transform=\"rotate(0, 347.82, 1087.21)\" x=\"347.82\" y=\"1087.21\">1000</text>\n</g>\n<g clip-path=\"url(#clip3401)\">\n<text style=\"fill:#000000; fill-opacity:1; font-family:Arial,Helvetica Neue,Helvetica,sans-serif; font-size:48px; text-anchor:end;\" transform=\"rotate(0, 347.82, 901.822)\" x=\"347.82\" y=\"901.822\">1500</text>\n</g>\n<g clip-path=\"url(#clip3401)\">\n<text style=\"fill:#000000; fill-opacity:1; font-family:Arial,Helvetica Neue,Helvetica,sans-serif; font-size:66px; text-anchor:middle;\" transform=\"rotate(0, 773.362, 1590.4)\" x=\"773.362\" y=\"1590.4\">Cost of G1</text>\n</g>\n<g clip-path=\"url(#clip3401)\">\n<text style=\"fill:#000000; fill-opacity:1; font-family:Arial,Helvetica Neue,Helvetica,sans-serif; font-size:66px; text-anchor:middle;\" transform=\"rotate(-90, 57.6, 1143.86)\" x=\"57.6\" y=\"1143.86\">Dispatch: G2</text>\n</g>\n<polyline clip-path=\"url(#clip3405)\" style=\"stroke:#009af9; stroke-width:4; stroke-opacity:1; fill:none\" points=\"\n  394.549,1255.1 397.579,1255.1 400.61,1255.1 403.64,1255.1 406.671,1255.1 409.701,1255.1 412.732,1255.1 415.762,1255.1 418.793,1255.1 421.823,1255.1 \n  424.854,1255.1 427.884,1255.1 430.915,1255.1 433.945,1255.1 436.976,1255.1 440.006,1255.1 443.037,1255.1 446.067,1255.1 449.098,1255.1 452.128,1255.1 \n  455.159,1255.1 458.189,1255.1 461.22,1255.1 464.25,1255.1 467.281,1255.1 470.311,1255.1 473.342,1255.1 476.372,1255.1 479.403,1255.1 482.433,1255.1 \n  485.464,1255.1 488.494,1255.1 491.525,1255.1 494.555,1255.1 497.586,1255.1 500.616,1255.1 503.647,1255.1 506.677,1255.1 509.708,1255.1 512.738,1255.1 \n  515.769,1255.1 518.799,1255.1 521.83,1255.1 524.86,1255.1 527.891,1255.1 530.921,1255.1 533.952,1255.1 536.982,1255.1 540.013,1255.1 543.044,1255.1 \n  546.074,1255.1 549.105,1255.1 552.135,1255.1 555.166,1255.1 558.196,1255.1 561.227,1255.1 564.257,1255.1 567.288,1255.1 570.318,1255.1 573.349,1255.1 \n  576.379,1255.1 579.41,1255.1 582.44,1255.1 585.471,1255.1 588.501,1255.1 591.532,1255.1 594.562,1255.1 597.593,1255.1 600.623,1255.1 603.654,1255.1 \n  606.684,1255.1 609.715,1255.1 612.745,1255.1 615.776,1255.1 618.806,1255.1 621.837,1255.1 624.867,1255.1 627.898,1255.1 630.928,1255.1 633.959,1255.1 \n  636.989,1255.1 640.02,1255.1 643.05,1255.1 646.081,1255.1 649.111,1255.1 652.142,1255.1 655.172,1255.1 658.203,1255.1 661.233,1255.1 664.264,1255.1 \n  667.294,1255.1 670.325,1255.1 673.355,1255.1 676.386,1255.1 679.416,1255.1 682.447,1255.1 685.477,1255.1 688.508,1255.1 691.539,1255.1 694.569,1255.1 \n  697.6,1255.1 700.63,1255.1 703.661,1255.1 706.691,1255.1 709.722,1255.1 712.752,1255.1 715.783,1255.1 718.813,1255.1 721.844,1255.1 724.874,1255.1 \n  727.905,1255.1 730.935,1255.1 733.966,1255.1 736.996,1255.1 740.027,1255.1 743.057,1255.1 746.088,1255.1 749.118,1255.1 752.149,1255.1 755.179,1255.1 \n  758.21,1255.1 761.24,1255.1 764.271,1255.1 767.301,1255.1 770.332,1255.1 773.362,1255.1 776.393,1255.1 779.423,1255.1 782.454,1255.1 785.484,1255.1 \n  788.515,1255.1 791.545,1255.1 794.576,1255.1 797.606,1255.1 800.637,1255.1 803.667,1255.1 806.698,1255.1 809.728,1255.1 812.759,1255.1 815.789,1255.1 \n  818.82,1255.1 821.85,1255.1 824.881,1255.1 827.911,1255.1 830.942,1255.1 833.972,1255.1 837.003,1255.1 840.033,1255.1 843.064,1255.1 846.095,1255.1 \n  849.125,1255.1 852.156,1069.71 855.186,1069.71 858.217,1069.71 861.247,1069.71 864.278,1069.71 867.308,1069.71 870.339,1069.71 873.369,1069.71 876.4,1069.71 \n  879.43,1069.71 882.461,1069.71 885.491,1069.71 888.522,1069.71 891.552,1069.71 894.583,1069.71 897.613,1069.71 900.644,1069.71 903.674,1069.71 906.705,1069.71 \n  909.735,1069.71 912.766,1069.71 915.796,1069.71 918.827,1069.71 921.857,1069.71 924.888,1069.71 927.918,1069.71 930.949,1069.71 933.979,1069.71 937.01,1069.71 \n  940.04,1069.71 943.071,1069.71 946.101,1069.71 949.132,1069.71 952.162,1069.71 955.193,1069.71 958.223,1069.71 961.254,1069.71 964.284,1069.71 967.315,1069.71 \n  970.345,1069.71 973.376,1069.71 976.406,1069.71 979.437,1069.71 982.467,1069.71 985.498,1069.71 988.528,1069.71 991.559,1069.71 994.59,1069.71 997.62,1069.71 \n  1000.65,1069.71 1003.68,1069.71 1006.71,1069.71 1009.74,1069.71 1012.77,1069.71 1015.8,1069.71 1018.83,1069.71 1021.86,1069.71 1024.89,1069.71 1027.93,1069.71 \n  1030.96,1069.71 1033.99,1069.71 1037.02,1069.71 1040.05,1069.71 1043.08,1069.71 1046.11,1069.71 1049.14,1069.71 1052.17,1069.71 1055.2,1069.71 1058.23,1069.71 \n  1061.26,1069.71 1064.29,1069.71 1067.32,1069.71 1070.35,1069.71 1073.38,1069.71 1076.41,1069.71 1079.44,1069.71 1082.47,1069.71 1085.5,1069.71 1088.54,1069.71 \n  1091.57,1069.71 1094.6,1069.71 1097.63,1069.71 1100.66,1069.71 1103.69,1069.71 1106.72,1069.71 1109.75,1069.71 1112.78,1069.71 1115.81,1069.71 1118.84,1069.71 \n  1121.87,1069.71 1124.9,1069.71 1127.93,1069.71 1130.96,1069.71 1133.99,1069.71 1137.02,1069.71 1140.05,1069.71 1143.08,1069.71 1146.12,1069.71 1149.15,1069.71 \n  1152.18,1069.71 \n  \"/>\n<polygon clip-path=\"url(#clip3401)\" points=\"\n1491.41,1440.48 2321.26,1440.48 2321.26,847.244 1491.41,847.244 \n  \" fill=\"#ffffff\" fill-rule=\"evenodd\" fill-opacity=\"1\"/>\n<defs>\n  <clipPath id=\"clip3406\">\n    <rect x=\"1491\" y=\"847\" width=\"831\" height=\"594\"/>\n  </clipPath>\n</defs>\n<polyline clip-path=\"url(#clip3406)\" style=\"stroke:#000000; stroke-width:2; stroke-opacity:0.1; fill:none\" points=\"\n  1608.84,1440.48 1608.84,847.244 \n  \"/>\n<polyline clip-path=\"url(#clip3406)\" style=\"stroke:#000000; stroke-width:2; stroke-opacity:0.1; fill:none\" points=\"\n  1734.1,1440.48 1734.1,847.244 \n  \"/>\n<polyline clip-path=\"url(#clip3406)\" style=\"stroke:#000000; stroke-width:2; stroke-opacity:0.1; fill:none\" points=\"\n  1859.36,1440.48 1859.36,847.244 \n  \"/>\n<polyline clip-path=\"url(#clip3406)\" style=\"stroke:#000000; stroke-width:2; stroke-opacity:0.1; fill:none\" points=\"\n  1984.62,1440.48 1984.62,847.244 \n  \"/>\n<polyline clip-path=\"url(#clip3406)\" style=\"stroke:#000000; stroke-width:2; stroke-opacity:0.1; fill:none\" points=\"\n  2109.88,1440.48 2109.88,847.244 \n  \"/>\n<polyline clip-path=\"url(#clip3406)\" style=\"stroke:#000000; stroke-width:2; stroke-opacity:0.1; fill:none\" points=\"\n  2235.14,1440.48 2235.14,847.244 \n  \"/>\n<polyline clip-path=\"url(#clip3406)\" style=\"stroke:#000000; stroke-width:2; stroke-opacity:0.1; fill:none\" points=\"\n  1491.41,1440.48 2321.26,1440.48 \n  \"/>\n<polyline clip-path=\"url(#clip3406)\" style=\"stroke:#000000; stroke-width:2; stroke-opacity:0.1; fill:none\" points=\"\n  1491.41,1321.83 2321.26,1321.83 \n  \"/>\n<polyline clip-path=\"url(#clip3406)\" style=\"stroke:#000000; stroke-width:2; stroke-opacity:0.1; fill:none\" points=\"\n  1491.41,1203.19 2321.26,1203.19 \n  \"/>\n<polyline clip-path=\"url(#clip3406)\" style=\"stroke:#000000; stroke-width:2; stroke-opacity:0.1; fill:none\" points=\"\n  1491.41,1084.54 2321.26,1084.54 \n  \"/>\n<polyline clip-path=\"url(#clip3406)\" style=\"stroke:#000000; stroke-width:2; stroke-opacity:0.1; fill:none\" points=\"\n  1491.41,965.892 2321.26,965.892 \n  \"/>\n<polyline clip-path=\"url(#clip3406)\" style=\"stroke:#000000; stroke-width:2; stroke-opacity:0.1; fill:none\" points=\"\n  1491.41,847.244 2321.26,847.244 \n  \"/>\n<polyline clip-path=\"url(#clip3401)\" style=\"stroke:#000000; stroke-width:4; stroke-opacity:1; fill:none\" points=\"\n  1491.41,1440.48 2321.26,1440.48 \n  \"/>\n<polyline clip-path=\"url(#clip3401)\" style=\"stroke:#000000; stroke-width:4; stroke-opacity:1; fill:none\" points=\"\n  1491.41,1440.48 1491.41,847.244 \n  \"/>\n<polyline clip-path=\"url(#clip3401)\" style=\"stroke:#000000; stroke-width:4; stroke-opacity:1; fill:none\" points=\"\n  1608.84,1440.48 1608.84,1431.58 \n  \"/>\n<polyline clip-path=\"url(#clip3401)\" style=\"stroke:#000000; stroke-width:4; stroke-opacity:1; fill:none\" points=\"\n  1734.1,1440.48 1734.1,1431.58 \n  \"/>\n<polyline clip-path=\"url(#clip3401)\" style=\"stroke:#000000; stroke-width:4; stroke-opacity:1; fill:none\" points=\"\n  1859.36,1440.48 1859.36,1431.58 \n  \"/>\n<polyline clip-path=\"url(#clip3401)\" style=\"stroke:#000000; stroke-width:4; stroke-opacity:1; fill:none\" points=\"\n  1984.62,1440.48 1984.62,1431.58 \n  \"/>\n<polyline clip-path=\"url(#clip3401)\" style=\"stroke:#000000; stroke-width:4; stroke-opacity:1; fill:none\" points=\"\n  2109.88,1440.48 2109.88,1431.58 \n  \"/>\n<polyline clip-path=\"url(#clip3401)\" style=\"stroke:#000000; stroke-width:4; stroke-opacity:1; fill:none\" points=\"\n  2235.14,1440.48 2235.14,1431.58 \n  \"/>\n<polyline clip-path=\"url(#clip3401)\" style=\"stroke:#000000; stroke-width:4; stroke-opacity:1; fill:none\" points=\"\n  1491.41,1440.48 1503.86,1440.48 \n  \"/>\n<polyline clip-path=\"url(#clip3401)\" style=\"stroke:#000000; stroke-width:4; stroke-opacity:1; fill:none\" points=\"\n  1491.41,1321.83 1503.86,1321.83 \n  \"/>\n<polyline clip-path=\"url(#clip3401)\" style=\"stroke:#000000; stroke-width:4; stroke-opacity:1; fill:none\" points=\"\n  1491.41,1203.19 1503.86,1203.19 \n  \"/>\n<polyline clip-path=\"url(#clip3401)\" style=\"stroke:#000000; stroke-width:4; stroke-opacity:1; fill:none\" points=\"\n  1491.41,1084.54 1503.86,1084.54 \n  \"/>\n<polyline clip-path=\"url(#clip3401)\" style=\"stroke:#000000; stroke-width:4; stroke-opacity:1; fill:none\" points=\"\n  1491.41,965.892 1503.86,965.892 \n  \"/>\n<polyline clip-path=\"url(#clip3401)\" style=\"stroke:#000000; stroke-width:4; stroke-opacity:1; fill:none\" points=\"\n  1491.41,847.244 1503.86,847.244 \n  \"/>\n<g clip-path=\"url(#clip3401)\">\n<text style=\"fill:#000000; fill-opacity:1; font-family:Arial,Helvetica Neue,Helvetica,sans-serif; font-size:48px; text-anchor:middle;\" transform=\"rotate(0, 1608.84, 1494.48)\" x=\"1608.84\" y=\"1494.48\">40</text>\n</g>\n<g clip-path=\"url(#clip3401)\">\n<text style=\"fill:#000000; fill-opacity:1; font-family:Arial,Helvetica Neue,Helvetica,sans-serif; font-size:48px; text-anchor:middle;\" transform=\"rotate(0, 1734.1, 1494.48)\" x=\"1734.1\" y=\"1494.48\">60</text>\n</g>\n<g clip-path=\"url(#clip3401)\">\n<text style=\"fill:#000000; fill-opacity:1; font-family:Arial,Helvetica Neue,Helvetica,sans-serif; font-size:48px; text-anchor:middle;\" transform=\"rotate(0, 1859.36, 1494.48)\" x=\"1859.36\" y=\"1494.48\">80</text>\n</g>\n<g clip-path=\"url(#clip3401)\">\n<text style=\"fill:#000000; fill-opacity:1; font-family:Arial,Helvetica Neue,Helvetica,sans-serif; font-size:48px; text-anchor:middle;\" transform=\"rotate(0, 1984.62, 1494.48)\" x=\"1984.62\" y=\"1494.48\">100</text>\n</g>\n<g clip-path=\"url(#clip3401)\">\n<text style=\"fill:#000000; fill-opacity:1; font-family:Arial,Helvetica Neue,Helvetica,sans-serif; font-size:48px; text-anchor:middle;\" transform=\"rotate(0, 2109.88, 1494.48)\" x=\"2109.88\" y=\"1494.48\">120</text>\n</g>\n<g clip-path=\"url(#clip3401)\">\n<text style=\"fill:#000000; fill-opacity:1; font-family:Arial,Helvetica Neue,Helvetica,sans-serif; font-size:48px; text-anchor:middle;\" transform=\"rotate(0, 2235.14, 1494.48)\" x=\"2235.14\" y=\"1494.48\">140</text>\n</g>\n<g clip-path=\"url(#clip3401)\">\n<text style=\"fill:#000000; fill-opacity:1; font-family:Arial,Helvetica Neue,Helvetica,sans-serif; font-size:48px; text-anchor:end;\" transform=\"rotate(0, 1467.41, 1457.98)\" x=\"1467.41\" y=\"1457.98\">0</text>\n</g>\n<g clip-path=\"url(#clip3401)\">\n<text style=\"fill:#000000; fill-opacity:1; font-family:Arial,Helvetica Neue,Helvetica,sans-serif; font-size:48px; text-anchor:end;\" transform=\"rotate(0, 1467.41, 1339.33)\" x=\"1467.41\" y=\"1339.33\">50</text>\n</g>\n<g clip-path=\"url(#clip3401)\">\n<text style=\"fill:#000000; fill-opacity:1; font-family:Arial,Helvetica Neue,Helvetica,sans-serif; font-size:48px; text-anchor:end;\" transform=\"rotate(0, 1467.41, 1220.69)\" x=\"1467.41\" y=\"1220.69\">100</text>\n</g>\n<g clip-path=\"url(#clip3401)\">\n<text style=\"fill:#000000; fill-opacity:1; font-family:Arial,Helvetica Neue,Helvetica,sans-serif; font-size:48px; text-anchor:end;\" transform=\"rotate(0, 1467.41, 1102.04)\" x=\"1467.41\" y=\"1102.04\">150</text>\n</g>\n<g clip-path=\"url(#clip3401)\">\n<text style=\"fill:#000000; fill-opacity:1; font-family:Arial,Helvetica Neue,Helvetica,sans-serif; font-size:48px; text-anchor:end;\" transform=\"rotate(0, 1467.41, 983.392)\" x=\"1467.41\" y=\"983.392\">200</text>\n</g>\n<g clip-path=\"url(#clip3401)\">\n<text style=\"fill:#000000; fill-opacity:1; font-family:Arial,Helvetica Neue,Helvetica,sans-serif; font-size:48px; text-anchor:end;\" transform=\"rotate(0, 1467.41, 864.744)\" x=\"1467.41\" y=\"864.744\">250</text>\n</g>\n<g clip-path=\"url(#clip3401)\">\n<text style=\"fill:#000000; fill-opacity:1; font-family:Arial,Helvetica Neue,Helvetica,sans-serif; font-size:66px; text-anchor:middle;\" transform=\"rotate(0, 1906.34, 1590.4)\" x=\"1906.34\" y=\"1590.4\">Cost of G1</text>\n</g>\n<g clip-path=\"url(#clip3401)\">\n<text style=\"fill:#000000; fill-opacity:1; font-family:Arial,Helvetica Neue,Helvetica,sans-serif; font-size:66px; text-anchor:middle;\" transform=\"rotate(-90, 1311.25, 1143.86)\" x=\"1311.25\" y=\"1143.86\">Dispatch: Wind</text>\n</g>\n<polyline clip-path=\"url(#clip3406)\" style=\"stroke:#009af9; stroke-width:4; stroke-opacity:1; fill:none\" points=\"\n  1514.9,1440.48 1518.03,1440.48 1521.16,1440.48 1524.29,1440.48 1527.42,1440.48 1530.56,1440.48 1533.69,1440.48 1536.82,1440.48 1539.95,1440.48 1543.08,1440.48 \n  1546.21,1440.48 1549.35,1440.48 1552.48,1440.48 1555.61,1440.48 1558.74,1440.48 1561.87,1440.48 1565,1440.48 1568.13,1440.48 1571.27,1440.48 1574.4,1440.48 \n  1577.53,1440.48 1580.66,1440.48 1583.79,1440.48 1586.92,1440.48 1590.05,1440.48 1593.19,1440.48 1596.32,1440.48 1599.45,1440.48 1602.58,1440.48 1605.71,1440.48 \n  1608.84,1440.48 1611.98,1440.48 1615.11,1440.48 1618.24,1440.48 1621.37,1440.48 1624.5,1440.48 1627.63,1440.48 1630.76,1440.48 1633.9,1440.48 1637.03,1440.48 \n  1640.16,1440.48 1643.29,1440.48 1646.42,1440.48 1649.55,1440.48 1652.68,1440.48 1655.82,1440.48 1658.95,1440.48 1662.08,1440.48 1665.21,1440.48 1668.34,1440.48 \n  1671.47,1440.48 1674.61,1440.48 1677.74,1440.48 1680.87,1440.48 1684,1440.48 1687.13,1440.48 1690.26,1440.48 1693.39,1440.48 1696.53,1440.48 1699.66,1440.48 \n  1702.79,1440.48 1705.92,1440.48 1709.05,1440.48 1712.18,1440.48 1715.31,1440.48 1718.45,1440.48 1721.58,1440.48 1724.71,1440.48 1727.84,1440.48 1730.97,1440.48 \n  1734.1,1440.48 1737.24,1440.48 1740.37,1440.48 1743.5,1440.48 1746.63,1440.48 1749.76,1440.48 1752.89,1440.48 1756.02,1440.48 1759.16,1440.48 1762.29,1440.48 \n  1765.42,1440.48 1768.55,1440.48 1771.68,1440.48 1774.81,1440.48 1777.94,1440.48 1781.08,1440.48 1784.21,1440.48 1787.34,1440.48 1790.47,1440.48 1793.6,1440.48 \n  1796.73,1440.48 1799.87,1440.48 1803,1440.48 1806.13,1440.48 1809.26,1440.48 1812.39,1440.48 1815.52,1440.48 1818.65,1440.48 1821.79,1440.48 1824.92,1440.48 \n  1828.05,1440.48 1831.18,1440.48 1834.31,1440.48 1837.44,1440.48 1840.57,1440.48 1843.71,1440.48 1846.84,1440.48 1849.97,1440.48 1853.1,1440.48 1856.23,1440.48 \n  1859.36,1440.48 1862.5,1440.48 1865.63,1440.48 1868.76,1440.48 1871.89,1440.48 1875.02,1440.48 1878.15,1440.48 1881.28,1440.48 1884.42,1440.48 1887.55,1440.48 \n  1890.68,1440.48 1893.81,1440.48 1896.94,1440.48 1900.07,1440.48 1903.2,1440.48 1906.34,1440.48 1909.47,1440.48 1912.6,1440.48 1915.73,1440.48 1918.86,1440.48 \n  1921.99,1440.48 1925.13,1440.48 1928.26,1440.48 1931.39,1440.48 1934.52,1440.48 1937.65,1440.48 1940.78,1440.48 1943.91,1440.48 1947.05,1440.48 1950.18,1440.48 \n  1953.31,1440.48 1956.44,1440.48 1959.57,1440.48 1962.7,1440.48 1965.83,1440.48 1968.97,1440.48 1972.1,1440.48 1975.23,1440.48 1978.36,1440.48 1981.49,1440.48 \n  1984.62,1440.48 1987.76,1440.48 1990.89,1440.48 1994.02,1440.48 1997.15,1440.48 2000.28,1440.48 2003.41,1440.48 2006.54,1440.48 2009.68,1440.48 2012.81,1440.48 \n  2015.94,1440.48 2019.07,1440.48 2022.2,1440.48 2025.33,1440.48 2028.46,1440.48 2031.6,1440.48 2034.73,1440.48 2037.86,1440.48 2040.99,1440.48 2044.12,1440.48 \n  2047.25,1440.48 2050.39,965.892 2053.52,965.892 2056.65,965.892 2059.78,965.892 2062.91,965.892 2066.04,965.892 2069.17,965.892 2072.31,965.892 2075.44,965.892 \n  2078.57,965.892 2081.7,965.892 2084.83,965.892 2087.96,965.892 2091.09,965.892 2094.23,965.892 2097.36,965.892 2100.49,965.892 2103.62,965.892 2106.75,965.892 \n  2109.88,965.892 2113.02,965.892 2116.15,965.892 2119.28,965.892 2122.41,965.892 2125.54,965.892 2128.67,965.892 2131.8,965.892 2134.94,965.892 2138.07,965.892 \n  2141.2,965.892 2144.33,965.892 2147.46,965.892 2150.59,965.892 2153.72,965.892 2156.86,965.892 2159.99,965.892 2163.12,965.892 2166.25,965.892 2169.38,965.892 \n  2172.51,965.892 2175.65,965.892 2178.78,965.892 2181.91,965.892 2185.04,965.892 2188.17,965.892 2191.3,965.892 2194.43,965.892 2197.57,965.892 2200.7,965.892 \n  2203.83,965.892 2206.96,965.892 2210.09,965.892 2213.22,965.892 2216.35,965.892 2219.49,965.892 2222.62,965.892 2225.75,965.892 2228.88,965.892 2232.01,965.892 \n  2235.14,965.892 2238.28,965.892 2241.41,965.892 2244.54,965.892 2247.67,965.892 2250.8,965.892 2253.93,965.892 2257.06,965.892 2260.2,965.892 2263.33,965.892 \n  2266.46,965.892 2269.59,965.892 2272.72,965.892 2275.85,965.892 2278.98,965.892 2282.12,965.892 2285.25,965.892 2288.38,965.892 2291.51,965.892 2294.64,965.892 \n  2297.77,965.892 \n  \"/>\n</svg>\n"
               },
               "type": "node"
              }
             ],
             "instanceArgs": {
              "namespace": "html",
              "tag": "div"
             },
             "nodeType": "DOM",
             "props": {
              "attributes": {
               "style": "display:flex; justify-content:center; align-items:center;"
              }
             },
             "type": "node"
            }
           }
          },
          "systemjs_options": null
         },
         "nodeType": "Scope",
         "props": {},
         "type": "node"
        }
       ],
       "instanceArgs": {
        "namespace": "html",
        "tag": "div"
       },
       "nodeType": "DOM",
       "props": {},
       "type": "node"
      },
      "text/html": [
       "<div\n",
       "    class=\"webio-mountpoint\"\n",
       "    data-webio-mountpoint=\"7751023308265070118\"\n",
       ">\n",
       "    <script>\n",
       "    if (window.require && require.defined && require.defined(\"nbextensions/webio/main\")) {\n",
       "        console.log(\"Jupyter WebIO extension detected, not mounting.\");\n",
       "    } else if (window.WebIO) {\n",
       "        WebIO.mount(\n",
       "            document.querySelector('[data-webio-mountpoint=\"7751023308265070118\"]'),\n",
       "            {\"props\":{},\"nodeType\":\"DOM\",\"type\":\"node\",\"instanceArgs\":{\"namespace\":\"html\",\"tag\":\"div\"},\"children\":[{\"props\":{\"className\":\"field\"},\"nodeType\":\"DOM\",\"type\":\"node\",\"instanceArgs\":{\"namespace\":\"html\",\"tag\":\"div\"},\"children\":[{\"props\":{},\"nodeType\":\"Scope\",\"type\":\"node\",\"instanceArgs\":{\"imports\":{\"data\":[{\"name\":\"knockout\",\"type\":\"js\",\"url\":\"\\/assetserver\\/25899bae89003c9f86e9455b28fa31a2ae55d476-knockout.js\"},{\"name\":\"knockout_punches\",\"type\":\"js\",\"url\":\"\\/assetserver\\/fcb49798ed2cca503bfcbfacd04a1a3983159fc2-knockout_punches.js\"},{\"name\":null,\"type\":\"js\",\"url\":\"\\/assetserver\\/05b50923e654cdabbc53eb1f28137c1bac627139-all.js\"},{\"name\":null,\"type\":\"css\",\"url\":\"\\/assetserver\\/92e5308795e77213db1992d5f04bd12609a543ac-style.css\"},{\"name\":null,\"type\":\"css\",\"url\":\"\\/assetserver\\/8786809522076f1019d38a12fad8b081c302304d-main.css\"}],\"type\":\"async_block\"},\"id\":\"knockout-component-a20e3c4e-598b-467c-8d93-f7be3dd51d2d\",\"handlers\":{\"formatted_vals\":[\"(function (val){return (val!=this.model[\\\"formatted_vals\\\"]()) ? (this.valueFromJulia[\\\"formatted_vals\\\"]=true, this.model[\\\"formatted_vals\\\"](val)) : undefined})\"],\"_promises\":{\"importsLoaded\":[\"function (ko, koPunches) {\\n    ko.punches.enableAll();\\n    ko.bindingHandlers.numericValue = {\\n        init : function(element, valueAccessor, allBindings, data, context) {\\n            var stringified = ko.observable(ko.unwrap(valueAccessor()));\\n            stringified.subscribe(function(value) {\\n                var val = parseFloat(value);\\n                if (!isNaN(val)) {\\n                    valueAccessor()(val);\\n                }\\n            })\\n            valueAccessor().subscribe(function(value) {\\n                var str = JSON.stringify(value);\\n                if ((str == \\\"0\\\") && ([\\\"-0\\\", \\\"-0.\\\"].indexOf(stringified()) >= 0))\\n                     return;\\n                 if ([\\\"null\\\", \\\"\\\"].indexOf(str) >= 0)\\n                     return;\\n                stringified(str);\\n            })\\n            ko.applyBindingsToNode(element, { value: stringified, valueUpdate: allBindings.get('valueUpdate')}, context);\\n        }\\n    };\\n    var json_data = JSON.parse(\\\"{\\\\\\\"formatted_vals\\\\\\\":[\\\\\\\"50.0\\\\\\\",\\\\\\\"55.0\\\\\\\",\\\\\\\"60.0\\\\\\\",\\\\\\\"65.0\\\\\\\",\\\\\\\"70.0\\\\\\\",\\\\\\\"75.0\\\\\\\",\\\\\\\"80.0\\\\\\\",\\\\\\\"85.0\\\\\\\",\\\\\\\"90.0\\\\\\\",\\\\\\\"95.0\\\\\\\",\\\\\\\"100.0\\\\\\\",\\\\\\\"105.0\\\\\\\",\\\\\\\"110.0\\\\\\\",\\\\\\\"115.0\\\\\\\",\\\\\\\"120.0\\\\\\\",\\\\\\\"125.0\\\\\\\",\\\\\\\"130.0\\\\\\\",\\\\\\\"135.0\\\\\\\",\\\\\\\"140.0\\\\\\\",\\\\\\\"145.0\\\\\\\",\\\\\\\"150.0\\\\\\\",\\\\\\\"155.0\\\\\\\",\\\\\\\"160.0\\\\\\\",\\\\\\\"165.0\\\\\\\",\\\\\\\"170.0\\\\\\\",\\\\\\\"175.0\\\\\\\"],\\\\\\\"changes\\\\\\\":0,\\\\\\\"formatted_value\\\\\\\":\\\\\\\"110.0\\\\\\\",\\\\\\\"index\\\\\\\":13}\\\");\\n    var self = this;\\n    function AppViewModel() {\\n        for (var key in json_data) {\\n            var el = json_data[key];\\n            this[key] = Array.isArray(el) ? ko.observableArray(el) : ko.observable(el);\\n        }\\n        \\n        \\n        [this[\\\"formatted_vals\\\"].subscribe((function (val){!(this.valueFromJulia[\\\"formatted_vals\\\"]) ? (_webIOScope.setObservableValue({\\\"name\\\":\\\"formatted_vals\\\",\\\"scope\\\":\\\"knockout-component-a20e3c4e-598b-467c-8d93-f7be3dd51d2d\\\",\\\"id\\\":\\\"ob_43\\\",\\\"type\\\":\\\"observable\\\"},val)) : undefined; return this.valueFromJulia[\\\"formatted_vals\\\"]=false}),self),this[\\\"changes\\\"].subscribe((function (val){!(this.valueFromJulia[\\\"changes\\\"]) ? (_webIOScope.setObservableValue({\\\"name\\\":\\\"changes\\\",\\\"scope\\\":\\\"knockout-component-a20e3c4e-598b-467c-8d93-f7be3dd51d2d\\\",\\\"id\\\":\\\"ob_45\\\",\\\"type\\\":\\\"observable\\\"},val)) : undefined; return this.valueFromJulia[\\\"changes\\\"]=false}),self),this[\\\"formatted_value\\\"].subscribe((function (val){!(this.valueFromJulia[\\\"formatted_value\\\"]) ? (_webIOScope.setObservableValue({\\\"name\\\":\\\"formatted_value\\\",\\\"scope\\\":\\\"knockout-component-a20e3c4e-598b-467c-8d93-f7be3dd51d2d\\\",\\\"id\\\":\\\"ob_44\\\",\\\"type\\\":\\\"observable\\\"},val)) : undefined; return this.valueFromJulia[\\\"formatted_value\\\"]=false}),self),this[\\\"index\\\"].subscribe((function (val){!(this.valueFromJulia[\\\"index\\\"]) ? (_webIOScope.setObservableValue({\\\"name\\\":\\\"index\\\",\\\"scope\\\":\\\"knockout-component-a20e3c4e-598b-467c-8d93-f7be3dd51d2d\\\",\\\"id\\\":\\\"ob_42\\\",\\\"type\\\":\\\"observable\\\"},val)) : undefined; return this.valueFromJulia[\\\"index\\\"]=false}),self)]\\n        \\n    }\\n    self.model = new AppViewModel();\\n    self.valueFromJulia = {};\\n    for (var key in json_data) {\\n        self.valueFromJulia[key] = false;\\n    }\\n    ko.applyBindings(self.model, self.dom);\\n}\\n\"]},\"changes\":[\"(function (val){return (val!=this.model[\\\"changes\\\"]()) ? (this.valueFromJulia[\\\"changes\\\"]=true, this.model[\\\"changes\\\"](val)) : undefined})\"],\"formatted_value\":[\"(function (val){return (val!=this.model[\\\"formatted_value\\\"]()) ? (this.valueFromJulia[\\\"formatted_value\\\"]=true, this.model[\\\"formatted_value\\\"](val)) : undefined})\"],\"index\":[\"(function (val){return (val!=this.model[\\\"index\\\"]()) ? (this.valueFromJulia[\\\"index\\\"]=true, this.model[\\\"index\\\"](val)) : undefined})\",\"(function (val){return _webIOScope.setObservableValue({\\\"name\\\":\\\"formatted_value\\\",\\\"scope\\\":\\\"knockout-component-a20e3c4e-598b-467c-8d93-f7be3dd51d2d\\\",\\\"id\\\":\\\"ob_44\\\",\\\"type\\\":\\\"observable\\\"},_webIOScope.getObservableValue({\\\"name\\\":\\\"formatted_vals\\\",\\\"scope\\\":\\\"knockout-component-a20e3c4e-598b-467c-8d93-f7be3dd51d2d\\\",\\\"id\\\":\\\"ob_43\\\",\\\"type\\\":\\\"observable\\\"})[(_webIOScope.getObservableValue({\\\"name\\\":\\\"index\\\",\\\"scope\\\":\\\"knockout-component-a20e3c4e-598b-467c-8d93-f7be3dd51d2d\\\",\\\"id\\\":\\\"ob_42\\\",\\\"type\\\":\\\"observable\\\"})-1)])})\"]},\"systemjs_options\":null,\"observables\":{\"formatted_vals\":{\"sync\":false,\"id\":\"ob_43\",\"value\":[\"50.0\",\"55.0\",\"60.0\",\"65.0\",\"70.0\",\"75.0\",\"80.0\",\"85.0\",\"90.0\",\"95.0\",\"100.0\",\"105.0\",\"110.0\",\"115.0\",\"120.0\",\"125.0\",\"130.0\",\"135.0\",\"140.0\",\"145.0\",\"150.0\",\"155.0\",\"160.0\",\"165.0\",\"170.0\",\"175.0\"]},\"changes\":{\"sync\":false,\"id\":\"ob_45\",\"value\":0},\"formatted_value\":{\"sync\":false,\"id\":\"ob_44\",\"value\":\"110.0\"},\"index\":{\"sync\":true,\"id\":\"ob_42\",\"value\":13}}},\"children\":[{\"props\":{\"attributes\":{\"style\":\"display:flex; justify-content:center; align-items:center;\"}},\"nodeType\":\"DOM\",\"type\":\"node\",\"instanceArgs\":{\"namespace\":\"html\",\"tag\":\"div\"},\"children\":[{\"props\":{\"attributes\":{\"style\":\"text-align:right;width:18%\"}},\"nodeType\":\"DOM\",\"type\":\"node\",\"instanceArgs\":{\"namespace\":\"html\",\"tag\":\"div\"},\"children\":[{\"props\":{\"className\":\"interact \",\"style\":{\"padding\":\"5px 10px 0px 10px\"}},\"nodeType\":\"DOM\",\"type\":\"node\",\"instanceArgs\":{\"namespace\":\"html\",\"tag\":\"label\"},\"children\":[\"cost_of_wind\"]}]},{\"props\":{\"attributes\":{\"style\":\"flex-grow:1; margin: 0 2%\"}},\"nodeType\":\"DOM\",\"type\":\"node\",\"instanceArgs\":{\"namespace\":\"html\",\"tag\":\"div\"},\"children\":[{\"props\":{\"max\":26,\"min\":1,\"attributes\":{\"type\":\"range\",\"data-bind\":\"numericValue: index, valueUpdate: 'input', event: {change : function () {this.changes(this.changes()+1)}}\",\"orient\":\"horizontal\"},\"step\":1,\"className\":\"slider slider is-fullwidth\",\"style\":{}},\"nodeType\":\"DOM\",\"type\":\"node\",\"instanceArgs\":{\"namespace\":\"html\",\"tag\":\"input\"},\"children\":[]}]},{\"props\":{\"attributes\":{\"style\":\"width:18%\"}},\"nodeType\":\"DOM\",\"type\":\"node\",\"instanceArgs\":{\"namespace\":\"html\",\"tag\":\"div\"},\"children\":[{\"props\":{\"attributes\":{\"data-bind\":\"text: formatted_value\"}},\"nodeType\":\"DOM\",\"type\":\"node\",\"instanceArgs\":{\"namespace\":\"html\",\"tag\":\"p\"},\"children\":[]}]}]}]}]},{\"props\":{},\"nodeType\":\"Scope\",\"type\":\"node\",\"instanceArgs\":{\"imports\":{\"data\":[],\"type\":\"async_block\"},\"id\":\"scope-b4c74a0a-1e70-47f5-b7e5-626c7f2e1b0f\",\"handlers\":{},\"systemjs_options\":null,\"observables\":{\"obs-node\":{\"sync\":false,\"id\":\"ob_48\",\"value\":{\"props\":{\"attributes\":{\"style\":\"display:flex; justify-content:center; align-items:center;\"}},\"nodeType\":\"DOM\",\"type\":\"node\",\"instanceArgs\":{\"namespace\":\"html\",\"tag\":\"div\"},\"children\":[{\"props\":{\"setInnerHtml\":\"<?xml version=\\\"1.0\\\" encoding=\\\"utf-8\\\"?>\\n<svg xmlns=\\\"http:\\/\\/www.w3.org\\/2000\\/svg\\\" xmlns:xlink=\\\"http:\\/\\/www.w3.org\\/1999\\/xlink\\\" width=\\\"600\\\" height=\\\"400\\\" viewBox=\\\"0 0 2400 1600\\\">\\n<defs>\\n  <clipPath id=\\\"clip3200\\\">\\n    <rect x=\\\"0\\\" y=\\\"0\\\" width=\\\"2000\\\" height=\\\"2000\\\"\\/>\\n  <\\/clipPath>\\n<\\/defs>\\n<defs>\\n  <clipPath id=\\\"clip3201\\\">\\n    <rect x=\\\"0\\\" y=\\\"0\\\" width=\\\"2400\\\" height=\\\"1600\\\"\\/>\\n  <\\/clipPath>\\n<\\/defs>\\n<polygon clip-path=\\\"url(#clip3201)\\\" points=\\\"\\n0,1600 2400,1600 2400,0 0,0 \\n  \\\" fill=\\\"#ffffff\\\" fill-rule=\\\"evenodd\\\" fill-opacity=\\\"1\\\"\\/>\\n<defs>\\n  <clipPath id=\\\"clip3202\\\">\\n    <rect x=\\\"480\\\" y=\\\"0\\\" width=\\\"1681\\\" height=\\\"1600\\\"\\/>\\n  <\\/clipPath>\\n<\\/defs>\\n<polygon clip-path=\\\"url(#clip3201)\\\" points=\\\"\\n371.82,640.483 1174.9,640.483 1174.9,47.2441 371.82,47.2441 \\n  \\\" fill=\\\"#ffffff\\\" fill-rule=\\\"evenodd\\\" fill-opacity=\\\"1\\\"\\/>\\n<defs>\\n  <clipPath id=\\\"clip3203\\\">\\n    <rect x=\\\"371\\\" y=\\\"47\\\" width=\\\"804\\\" height=\\\"594\\\"\\/>\\n  <\\/clipPath>\\n<\\/defs>\\n<polyline clip-path=\\\"url(#clip3203)\\\" style=\\\"stroke:#000000; stroke-width:2; stroke-opacity:0.1; fill:none\\\" points=\\\"\\n  485.464,640.483 485.464,47.2441 \\n  \\\"\\/>\\n<polyline clip-path=\\\"url(#clip3203)\\\" style=\\\"stroke:#000000; stroke-width:2; stroke-opacity:0.1; fill:none\\\" points=\\\"\\n  606.684,640.483 606.684,47.2441 \\n  \\\"\\/>\\n<polyline clip-path=\\\"url(#clip3203)\\\" style=\\\"stroke:#000000; stroke-width:2; stroke-opacity:0.1; fill:none\\\" points=\\\"\\n  727.905,640.483 727.905,47.2441 \\n  \\\"\\/>\\n<polyline clip-path=\\\"url(#clip3203)\\\" style=\\\"stroke:#000000; stroke-width:2; stroke-opacity:0.1; fill:none\\\" points=\\\"\\n  849.125,640.483 849.125,47.2441 \\n  \\\"\\/>\\n<polyline clip-path=\\\"url(#clip3203)\\\" style=\\\"stroke:#000000; stroke-width:2; stroke-opacity:0.1; fill:none\\\" points=\\\"\\n  970.345,640.483 970.345,47.2441 \\n  \\\"\\/>\\n<polyline clip-path=\\\"url(#clip3203)\\\" style=\\\"stroke:#000000; stroke-width:2; stroke-opacity:0.1; fill:none\\\" points=\\\"\\n  1091.57,640.483 1091.57,47.2441 \\n  \\\"\\/>\\n<polyline clip-path=\\\"url(#clip3203)\\\" style=\\\"stroke:#000000; stroke-width:2; stroke-opacity:0.1; fill:none\\\" points=\\\"\\n  371.82,640.483 1174.9,640.483 \\n  \\\"\\/>\\n<polyline clip-path=\\\"url(#clip3203)\\\" style=\\\"stroke:#000000; stroke-width:2; stroke-opacity:0.1; fill:none\\\" points=\\\"\\n  371.82,442.736 1174.9,442.736 \\n  \\\"\\/>\\n<polyline clip-path=\\\"url(#clip3203)\\\" style=\\\"stroke:#000000; stroke-width:2; stroke-opacity:0.1; fill:none\\\" points=\\\"\\n  371.82,244.99 1174.9,244.99 \\n  \\\"\\/>\\n<polyline clip-path=\\\"url(#clip3203)\\\" style=\\\"stroke:#000000; stroke-width:2; stroke-opacity:0.1; fill:none\\\" points=\\\"\\n  371.82,47.2441 1174.9,47.2441 \\n  \\\"\\/>\\n<polyline clip-path=\\\"url(#clip3201)\\\" style=\\\"stroke:#000000; stroke-width:4; stroke-opacity:1; fill:none\\\" points=\\\"\\n  371.82,640.483 1174.9,640.483 \\n  \\\"\\/>\\n<polyline clip-path=\\\"url(#clip3201)\\\" style=\\\"stroke:#000000; stroke-width:4; stroke-opacity:1; fill:none\\\" points=\\\"\\n  371.82,640.483 371.82,47.2441 \\n  \\\"\\/>\\n<polyline clip-path=\\\"url(#clip3201)\\\" style=\\\"stroke:#000000; stroke-width:4; stroke-opacity:1; fill:none\\\" points=\\\"\\n  485.464,640.483 485.464,631.584 \\n  \\\"\\/>\\n<polyline clip-path=\\\"url(#clip3201)\\\" style=\\\"stroke:#000000; stroke-width:4; stroke-opacity:1; fill:none\\\" points=\\\"\\n  606.684,640.483 606.684,631.584 \\n  \\\"\\/>\\n<polyline clip-path=\\\"url(#clip3201)\\\" style=\\\"stroke:#000000; stroke-width:4; stroke-opacity:1; fill:none\\\" points=\\\"\\n  727.905,640.483 727.905,631.584 \\n  \\\"\\/>\\n<polyline clip-path=\\\"url(#clip3201)\\\" style=\\\"stroke:#000000; stroke-width:4; stroke-opacity:1; fill:none\\\" points=\\\"\\n  849.125,640.483 849.125,631.584 \\n  \\\"\\/>\\n<polyline clip-path=\\\"url(#clip3201)\\\" style=\\\"stroke:#000000; stroke-width:4; stroke-opacity:1; fill:none\\\" points=\\\"\\n  970.345,640.483 970.345,631.584 \\n  \\\"\\/>\\n<polyline clip-path=\\\"url(#clip3201)\\\" style=\\\"stroke:#000000; stroke-width:4; stroke-opacity:1; fill:none\\\" points=\\\"\\n  1091.57,640.483 1091.57,631.584 \\n  \\\"\\/>\\n<polyline clip-path=\\\"url(#clip3201)\\\" style=\\\"stroke:#000000; stroke-width:4; stroke-opacity:1; fill:none\\\" points=\\\"\\n  371.82,640.483 383.866,640.483 \\n  \\\"\\/>\\n<polyline clip-path=\\\"url(#clip3201)\\\" style=\\\"stroke:#000000; stroke-width:4; stroke-opacity:1; fill:none\\\" points=\\\"\\n  371.82,442.736 383.866,442.736 \\n  \\\"\\/>\\n<polyline clip-path=\\\"url(#clip3201)\\\" style=\\\"stroke:#000000; stroke-width:4; stroke-opacity:1; fill:none\\\" points=\\\"\\n  371.82,244.99 383.866,244.99 \\n  \\\"\\/>\\n<polyline clip-path=\\\"url(#clip3201)\\\" style=\\\"stroke:#000000; stroke-width:4; stroke-opacity:1; fill:none\\\" points=\\\"\\n  371.82,47.2441 383.866,47.2441 \\n  \\\"\\/>\\n<g clip-path=\\\"url(#clip3201)\\\">\\n<text style=\\\"fill:#000000; fill-opacity:1; font-family:Arial,Helvetica Neue,Helvetica,sans-serif; font-size:48px; text-anchor:middle;\\\" transform=\\\"rotate(0, 485.464, 694.483)\\\" x=\\\"485.464\\\" y=\\\"694.483\\\">40<\\/text>\\n<\\/g>\\n<g clip-path=\\\"url(#clip3201)\\\">\\n<text style=\\\"fill:#000000; fill-opacity:1; font-family:Arial,Helvetica Neue,Helvetica,sans-serif; font-size:48px; text-anchor:middle;\\\" transform=\\\"rotate(0, 606.684, 694.483)\\\" x=\\\"606.684\\\" y=\\\"694.483\\\">60<\\/text>\\n<\\/g>\\n<g clip-path=\\\"url(#clip3201)\\\">\\n<text style=\\\"fill:#000000; fill-opacity:1; font-family:Arial,Helvetica Neue,Helvetica,sans-serif; font-size:48px; text-anchor:middle;\\\" transform=\\\"rotate(0, 727.905, 694.483)\\\" x=\\\"727.905\\\" y=\\\"694.483\\\">80<\\/text>\\n<\\/g>\\n<g clip-path=\\\"url(#clip3201)\\\">\\n<text style=\\\"fill:#000000; fill-opacity:1; font-family:Arial,Helvetica Neue,Helvetica,sans-serif; font-size:48px; text-anchor:middle;\\\" transform=\\\"rotate(0, 849.125, 694.483)\\\" x=\\\"849.125\\\" y=\\\"694.483\\\">100<\\/text>\\n<\\/g>\\n<g clip-path=\\\"url(#clip3201)\\\">\\n<text style=\\\"fill:#000000; fill-opacity:1; font-family:Arial,Helvetica Neue,Helvetica,sans-serif; font-size:48px; text-anchor:middle;\\\" transform=\\\"rotate(0, 970.345, 694.483)\\\" x=\\\"970.345\\\" y=\\\"694.483\\\">120<\\/text>\\n<\\/g>\\n<g clip-path=\\\"url(#clip3201)\\\">\\n<text style=\\\"fill:#000000; fill-opacity:1; font-family:Arial,Helvetica Neue,Helvetica,sans-serif; font-size:48px; text-anchor:middle;\\\" transform=\\\"rotate(0, 1091.57, 694.483)\\\" x=\\\"1091.57\\\" y=\\\"694.483\\\">140<\\/text>\\n<\\/g>\\n<g clip-path=\\\"url(#clip3201)\\\">\\n<text style=\\\"fill:#000000; fill-opacity:1; font-family:Arial,Helvetica Neue,Helvetica,sans-serif; font-size:48px; text-anchor:start;\\\" transform=\\\"rotate(0, 177.535, 664.21)\\\" x=\\\"177.535\\\" y=\\\"664.21\\\">5.0×10<\\/text>\\n<\\/g>\\n<g clip-path=\\\"url(#clip3201)\\\">\\n<text style=\\\"fill:#000000; fill-opacity:1; font-family:Arial,Helvetica Neue,Helvetica,sans-serif; font-size:38px; text-anchor:start;\\\" transform=\\\"rotate(0, 326.075, 636.8)\\\" x=\\\"326.075\\\" y=\\\"636.8\\\">4<\\/text>\\n<\\/g>\\n<g clip-path=\\\"url(#clip3201)\\\">\\n<text style=\\\"fill:#000000; fill-opacity:1; font-family:Arial,Helvetica Neue,Helvetica,sans-serif; font-size:48px; text-anchor:start;\\\" transform=\\\"rotate(0, 177.535, 466.464)\\\" x=\\\"177.535\\\" y=\\\"466.464\\\">1.0×10<\\/text>\\n<\\/g>\\n<g clip-path=\\\"url(#clip3201)\\\">\\n<text style=\\\"fill:#000000; fill-opacity:1; font-family:Arial,Helvetica Neue,Helvetica,sans-serif; font-size:38px; text-anchor:start;\\\" transform=\\\"rotate(0, 326.075, 439.054)\\\" x=\\\"326.075\\\" y=\\\"439.054\\\">5<\\/text>\\n<\\/g>\\n<g clip-path=\\\"url(#clip3201)\\\">\\n<text style=\\\"fill:#000000; fill-opacity:1; font-family:Arial,Helvetica Neue,Helvetica,sans-serif; font-size:48px; text-anchor:start;\\\" transform=\\\"rotate(0, 177.535, 268.718)\\\" x=\\\"177.535\\\" y=\\\"268.718\\\">1.5×10<\\/text>\\n<\\/g>\\n<g clip-path=\\\"url(#clip3201)\\\">\\n<text style=\\\"fill:#000000; fill-opacity:1; font-family:Arial,Helvetica Neue,Helvetica,sans-serif; font-size:38px; text-anchor:start;\\\" transform=\\\"rotate(0, 326.075, 241.307)\\\" x=\\\"326.075\\\" y=\\\"241.307\\\">5<\\/text>\\n<\\/g>\\n<g clip-path=\\\"url(#clip3201)\\\">\\n<text style=\\\"fill:#000000; fill-opacity:1; font-family:Arial,Helvetica Neue,Helvetica,sans-serif; font-size:48px; text-anchor:start;\\\" transform=\\\"rotate(0, 177.535, 70.9717)\\\" x=\\\"177.535\\\" y=\\\"70.9717\\\">2.0×10<\\/text>\\n<\\/g>\\n<g clip-path=\\\"url(#clip3201)\\\">\\n<text style=\\\"fill:#000000; fill-opacity:1; font-family:Arial,Helvetica Neue,Helvetica,sans-serif; font-size:38px; text-anchor:start;\\\" transform=\\\"rotate(0, 326.075, 43.5613)\\\" x=\\\"326.075\\\" y=\\\"43.5613\\\">5<\\/text>\\n<\\/g>\\n<g clip-path=\\\"url(#clip3201)\\\">\\n<text style=\\\"fill:#000000; fill-opacity:1; font-family:Arial,Helvetica Neue,Helvetica,sans-serif; font-size:66px; text-anchor:middle;\\\" transform=\\\"rotate(0, 773.362, 790.4)\\\" x=\\\"773.362\\\" y=\\\"790.4\\\">Cost of G1<\\/text>\\n<\\/g>\\n<g clip-path=\\\"url(#clip3201)\\\">\\n<text style=\\\"fill:#000000; fill-opacity:1; font-family:Arial,Helvetica Neue,Helvetica,sans-serif; font-size:66px; text-anchor:middle;\\\" transform=\\\"rotate(-90, 57.6, 343.863)\\\" x=\\\"57.6\\\" y=\\\"343.863\\\">Total cost<\\/text>\\n<\\/g>\\n<polyline clip-path=\\\"url(#clip3203)\\\" style=\\\"stroke:#009af9; stroke-width:4; stroke-opacity:1; fill:none\\\" points=\\\"\\n  394.549,541.61 397.579,539.632 400.61,537.655 403.64,535.677 406.671,533.7 409.701,531.722 412.732,529.745 415.762,527.767 418.793,525.79 421.823,523.812 \\n  424.854,521.835 427.884,519.857 430.915,517.88 433.945,515.903 436.976,513.925 440.006,511.948 443.037,509.97 446.067,507.993 449.098,506.015 452.128,504.038 \\n  455.159,502.06 458.189,500.083 461.22,498.105 464.25,496.128 467.281,494.15 470.311,492.173 473.342,490.196 476.372,488.218 479.403,486.241 482.433,484.263 \\n  485.464,482.286 488.494,480.308 491.525,478.331 494.555,476.353 497.586,474.376 500.616,472.398 503.647,470.421 506.677,468.443 509.708,466.466 512.738,464.489 \\n  515.769,462.511 518.799,460.534 521.83,458.556 524.86,456.579 527.891,454.601 530.921,452.624 533.952,450.646 536.982,448.669 540.013,446.691 543.044,444.714 \\n  546.074,442.736 549.105,440.759 552.135,438.782 555.166,436.804 558.196,434.827 561.227,432.849 564.257,430.872 567.288,428.894 570.318,426.917 573.349,424.939 \\n  576.379,422.962 579.41,420.984 582.44,419.007 585.471,417.029 588.501,415.052 591.532,413.075 594.562,411.097 597.593,409.12 600.623,407.142 603.654,405.165 \\n  606.684,403.187 609.715,401.21 612.745,399.232 615.776,397.255 618.806,395.277 621.837,393.3 624.867,391.322 627.898,389.345 630.928,387.368 633.959,385.39 \\n  636.989,383.413 640.02,381.435 643.05,379.458 646.081,377.48 649.111,375.503 652.142,373.525 655.172,371.548 658.203,369.57 661.233,367.593 664.264,365.615 \\n  667.294,363.638 670.325,361.661 673.355,359.683 676.386,357.706 679.416,355.728 682.447,353.751 685.477,351.773 688.508,349.796 691.539,347.818 694.569,345.841 \\n  697.6,343.863 700.63,341.886 703.661,339.908 706.691,337.931 709.722,335.954 712.752,333.976 715.783,331.999 718.813,330.021 721.844,328.044 724.874,326.066 \\n  727.905,324.089 730.935,322.111 733.966,320.134 736.996,318.156 740.027,316.179 743.057,314.201 746.088,312.224 749.118,310.246 752.149,308.269 755.179,306.292 \\n  758.21,304.314 761.24,302.337 764.271,300.359 767.301,298.382 770.332,296.404 773.362,294.427 776.393,292.449 779.423,290.472 782.454,288.494 785.484,286.517 \\n  788.515,284.539 791.545,282.562 794.576,280.585 797.606,278.607 800.637,276.63 803.667,274.652 806.698,272.675 809.728,270.697 812.759,268.72 815.789,266.742 \\n  818.82,264.765 821.85,262.787 824.881,260.81 827.911,258.832 830.942,256.855 833.972,254.878 837.003,252.9 840.033,250.923 843.064,248.945 846.095,246.968 \\n  849.125,244.99 852.156,244.002 855.186,243.013 858.217,242.024 861.247,241.035 864.278,240.047 867.308,239.058 870.339,238.069 873.369,237.08 876.4,236.092 \\n  879.43,235.103 882.461,234.114 885.491,233.125 888.522,232.137 891.552,231.148 894.583,230.159 897.613,229.171 900.644,228.182 903.674,227.193 906.705,226.204 \\n  909.735,225.216 912.766,224.622 915.796,224.029 918.827,223.436 921.857,222.843 924.888,222.249 927.918,221.656 930.949,221.063 933.979,220.47 937.01,219.876 \\n  940.04,219.283 943.071,218.69 946.101,218.097 949.132,217.504 952.162,216.91 955.193,216.317 958.223,215.724 961.254,215.131 964.284,214.537 967.315,213.944 \\n  970.345,213.351 973.376,212.758 976.406,212.164 979.437,211.571 982.467,210.978 985.498,210.385 988.528,209.791 991.559,209.198 994.59,208.605 997.62,208.012 \\n  1000.65,207.418 1003.68,206.825 1006.71,206.232 1009.74,205.639 1012.77,205.046 1015.8,204.452 1018.83,203.859 1021.86,203.266 1024.89,202.673 1027.93,202.079 \\n  1030.96,201.486 1033.99,200.893 1037.02,200.3 1040.05,199.706 1043.08,199.113 1046.11,198.52 1049.14,197.927 1052.17,197.333 1055.2,196.74 1058.23,196.147 \\n  1061.26,195.554 1064.29,194.96 1067.32,194.367 1070.35,193.774 1073.38,193.181 1076.41,192.588 1079.44,191.994 1082.47,191.401 1085.5,190.808 1088.54,190.215 \\n  1091.57,189.621 1094.6,189.028 1097.63,188.435 1100.66,187.842 1103.69,187.248 1106.72,186.655 1109.75,186.062 1112.78,185.469 1115.81,184.875 1118.84,184.282 \\n  1121.87,183.689 1124.9,183.096 1127.93,182.502 1130.96,181.909 1133.99,181.316 1137.02,180.723 1140.05,180.13 1143.08,179.536 1146.12,178.943 1149.15,178.35 \\n  1152.18,177.757 \\n  \\\"\\/>\\n<polygon clip-path=\\\"url(#clip3201)\\\" points=\\\"\\n1518.17,640.483 2321.26,640.483 2321.26,47.2441 1518.17,47.2441 \\n  \\\" fill=\\\"#ffffff\\\" fill-rule=\\\"evenodd\\\" fill-opacity=\\\"1\\\"\\/>\\n<defs>\\n  <clipPath id=\\\"clip3204\\\">\\n    <rect x=\\\"1518\\\" y=\\\"47\\\" width=\\\"804\\\" height=\\\"594\\\"\\/>\\n  <\\/clipPath>\\n<\\/defs>\\n<polyline clip-path=\\\"url(#clip3204)\\\" style=\\\"stroke:#000000; stroke-width:2; stroke-opacity:0.1; fill:none\\\" points=\\\"\\n  1631.82,640.483 1631.82,47.2441 \\n  \\\"\\/>\\n<polyline clip-path=\\\"url(#clip3204)\\\" style=\\\"stroke:#000000; stroke-width:2; stroke-opacity:0.1; fill:none\\\" points=\\\"\\n  1753.04,640.483 1753.04,47.2441 \\n  \\\"\\/>\\n<polyline clip-path=\\\"url(#clip3204)\\\" style=\\\"stroke:#000000; stroke-width:2; stroke-opacity:0.1; fill:none\\\" points=\\\"\\n  1874.26,640.483 1874.26,47.2441 \\n  \\\"\\/>\\n<polyline clip-path=\\\"url(#clip3204)\\\" style=\\\"stroke:#000000; stroke-width:2; stroke-opacity:0.1; fill:none\\\" points=\\\"\\n  1995.48,640.483 1995.48,47.2441 \\n  \\\"\\/>\\n<polyline clip-path=\\\"url(#clip3204)\\\" style=\\\"stroke:#000000; stroke-width:2; stroke-opacity:0.1; fill:none\\\" points=\\\"\\n  2116.7,640.483 2116.7,47.2441 \\n  \\\"\\/>\\n<polyline clip-path=\\\"url(#clip3204)\\\" style=\\\"stroke:#000000; stroke-width:2; stroke-opacity:0.1; fill:none\\\" points=\\\"\\n  2237.92,640.483 2237.92,47.2441 \\n  \\\"\\/>\\n<polyline clip-path=\\\"url(#clip3204)\\\" style=\\\"stroke:#000000; stroke-width:2; stroke-opacity:0.1; fill:none\\\" points=\\\"\\n  1518.17,640.483 2321.26,640.483 \\n  \\\"\\/>\\n<polyline clip-path=\\\"url(#clip3204)\\\" style=\\\"stroke:#000000; stroke-width:2; stroke-opacity:0.1; fill:none\\\" points=\\\"\\n  1518.17,505.656 2321.26,505.656 \\n  \\\"\\/>\\n<polyline clip-path=\\\"url(#clip3204)\\\" style=\\\"stroke:#000000; stroke-width:2; stroke-opacity:0.1; fill:none\\\" points=\\\"\\n  1518.17,370.829 2321.26,370.829 \\n  \\\"\\/>\\n<polyline clip-path=\\\"url(#clip3204)\\\" style=\\\"stroke:#000000; stroke-width:2; stroke-opacity:0.1; fill:none\\\" points=\\\"\\n  1518.17,236.002 2321.26,236.002 \\n  \\\"\\/>\\n<polyline clip-path=\\\"url(#clip3204)\\\" style=\\\"stroke:#000000; stroke-width:2; stroke-opacity:0.1; fill:none\\\" points=\\\"\\n  1518.17,101.175 2321.26,101.175 \\n  \\\"\\/>\\n<polyline clip-path=\\\"url(#clip3201)\\\" style=\\\"stroke:#000000; stroke-width:4; stroke-opacity:1; fill:none\\\" points=\\\"\\n  1518.17,640.483 2321.26,640.483 \\n  \\\"\\/>\\n<polyline clip-path=\\\"url(#clip3201)\\\" style=\\\"stroke:#000000; stroke-width:4; stroke-opacity:1; fill:none\\\" points=\\\"\\n  1518.17,640.483 1518.17,47.2441 \\n  \\\"\\/>\\n<polyline clip-path=\\\"url(#clip3201)\\\" style=\\\"stroke:#000000; stroke-width:4; stroke-opacity:1; fill:none\\\" points=\\\"\\n  1631.82,640.483 1631.82,631.584 \\n  \\\"\\/>\\n<polyline clip-path=\\\"url(#clip3201)\\\" style=\\\"stroke:#000000; stroke-width:4; stroke-opacity:1; fill:none\\\" points=\\\"\\n  1753.04,640.483 1753.04,631.584 \\n  \\\"\\/>\\n<polyline clip-path=\\\"url(#clip3201)\\\" style=\\\"stroke:#000000; stroke-width:4; stroke-opacity:1; fill:none\\\" points=\\\"\\n  1874.26,640.483 1874.26,631.584 \\n  \\\"\\/>\\n<polyline clip-path=\\\"url(#clip3201)\\\" style=\\\"stroke:#000000; stroke-width:4; stroke-opacity:1; fill:none\\\" points=\\\"\\n  1995.48,640.483 1995.48,631.584 \\n  \\\"\\/>\\n<polyline clip-path=\\\"url(#clip3201)\\\" style=\\\"stroke:#000000; stroke-width:4; stroke-opacity:1; fill:none\\\" points=\\\"\\n  2116.7,640.483 2116.7,631.584 \\n  \\\"\\/>\\n<polyline clip-path=\\\"url(#clip3201)\\\" style=\\\"stroke:#000000; stroke-width:4; stroke-opacity:1; fill:none\\\" points=\\\"\\n  2237.92,640.483 2237.92,631.584 \\n  \\\"\\/>\\n<polyline clip-path=\\\"url(#clip3201)\\\" style=\\\"stroke:#000000; stroke-width:4; stroke-opacity:1; fill:none\\\" points=\\\"\\n  1518.17,640.483 1530.22,640.483 \\n  \\\"\\/>\\n<polyline clip-path=\\\"url(#clip3201)\\\" style=\\\"stroke:#000000; stroke-width:4; stroke-opacity:1; fill:none\\\" points=\\\"\\n  1518.17,505.656 1530.22,505.656 \\n  \\\"\\/>\\n<polyline clip-path=\\\"url(#clip3201)\\\" style=\\\"stroke:#000000; stroke-width:4; stroke-opacity:1; fill:none\\\" points=\\\"\\n  1518.17,370.829 1530.22,370.829 \\n  \\\"\\/>\\n<polyline clip-path=\\\"url(#clip3201)\\\" style=\\\"stroke:#000000; stroke-width:4; stroke-opacity:1; fill:none\\\" points=\\\"\\n  1518.17,236.002 1530.22,236.002 \\n  \\\"\\/>\\n<polyline clip-path=\\\"url(#clip3201)\\\" style=\\\"stroke:#000000; stroke-width:4; stroke-opacity:1; fill:none\\\" points=\\\"\\n  1518.17,101.175 1530.22,101.175 \\n  \\\"\\/>\\n<g clip-path=\\\"url(#clip3201)\\\">\\n<text style=\\\"fill:#000000; fill-opacity:1; font-family:Arial,Helvetica Neue,Helvetica,sans-serif; font-size:48px; text-anchor:middle;\\\" transform=\\\"rotate(0, 1631.82, 694.483)\\\" x=\\\"1631.82\\\" y=\\\"694.483\\\">40<\\/text>\\n<\\/g>\\n<g clip-path=\\\"url(#clip3201)\\\">\\n<text style=\\\"fill:#000000; fill-opacity:1; font-family:Arial,Helvetica Neue,Helvetica,sans-serif; font-size:48px; text-anchor:middle;\\\" transform=\\\"rotate(0, 1753.04, 694.483)\\\" x=\\\"1753.04\\\" y=\\\"694.483\\\">60<\\/text>\\n<\\/g>\\n<g clip-path=\\\"url(#clip3201)\\\">\\n<text style=\\\"fill:#000000; fill-opacity:1; font-family:Arial,Helvetica Neue,Helvetica,sans-serif; font-size:48px; text-anchor:middle;\\\" transform=\\\"rotate(0, 1874.26, 694.483)\\\" x=\\\"1874.26\\\" y=\\\"694.483\\\">80<\\/text>\\n<\\/g>\\n<g clip-path=\\\"url(#clip3201)\\\">\\n<text style=\\\"fill:#000000; fill-opacity:1; font-family:Arial,Helvetica Neue,Helvetica,sans-serif; font-size:48px; text-anchor:middle;\\\" transform=\\\"rotate(0, 1995.48, 694.483)\\\" x=\\\"1995.48\\\" y=\\\"694.483\\\">100<\\/text>\\n<\\/g>\\n<g clip-path=\\\"url(#clip3201)\\\">\\n<text style=\\\"fill:#000000; fill-opacity:1; font-family:Arial,Helvetica Neue,Helvetica,sans-serif; font-size:48px; text-anchor:middle;\\\" transform=\\\"rotate(0, 2116.7, 694.483)\\\" x=\\\"2116.7\\\" y=\\\"694.483\\\">120<\\/text>\\n<\\/g>\\n<g clip-path=\\\"url(#clip3201)\\\">\\n<text style=\\\"fill:#000000; fill-opacity:1; font-family:Arial,Helvetica Neue,Helvetica,sans-serif; font-size:48px; text-anchor:middle;\\\" transform=\\\"rotate(0, 2237.92, 694.483)\\\" x=\\\"2237.92\\\" y=\\\"694.483\\\">140<\\/text>\\n<\\/g>\\n<g clip-path=\\\"url(#clip3201)\\\">\\n<text style=\\\"fill:#000000; fill-opacity:1; font-family:Arial,Helvetica Neue,Helvetica,sans-serif; font-size:48px; text-anchor:end;\\\" transform=\\\"rotate(0, 1494.17, 657.983)\\\" x=\\\"1494.17\\\" y=\\\"657.983\\\">0<\\/text>\\n<\\/g>\\n<g clip-path=\\\"url(#clip3201)\\\">\\n<text style=\\\"fill:#000000; fill-opacity:1; font-family:Arial,Helvetica Neue,Helvetica,sans-serif; font-size:48px; text-anchor:end;\\\" transform=\\\"rotate(0, 1494.17, 523.156)\\\" x=\\\"1494.17\\\" y=\\\"523.156\\\">250<\\/text>\\n<\\/g>\\n<g clip-path=\\\"url(#clip3201)\\\">\\n<text style=\\\"fill:#000000; fill-opacity:1; font-family:Arial,Helvetica Neue,Helvetica,sans-serif; font-size:48px; text-anchor:end;\\\" transform=\\\"rotate(0, 1494.17, 388.329)\\\" x=\\\"1494.17\\\" y=\\\"388.329\\\">500<\\/text>\\n<\\/g>\\n<g clip-path=\\\"url(#clip3201)\\\">\\n<text style=\\\"fill:#000000; fill-opacity:1; font-family:Arial,Helvetica Neue,Helvetica,sans-serif; font-size:48px; text-anchor:end;\\\" transform=\\\"rotate(0, 1494.17, 253.502)\\\" x=\\\"1494.17\\\" y=\\\"253.502\\\">750<\\/text>\\n<\\/g>\\n<g clip-path=\\\"url(#clip3201)\\\">\\n<text style=\\\"fill:#000000; fill-opacity:1; font-family:Arial,Helvetica Neue,Helvetica,sans-serif; font-size:48px; text-anchor:end;\\\" transform=\\\"rotate(0, 1494.17, 118.675)\\\" x=\\\"1494.17\\\" y=\\\"118.675\\\">1000<\\/text>\\n<\\/g>\\n<g clip-path=\\\"url(#clip3201)\\\">\\n<text style=\\\"fill:#000000; fill-opacity:1; font-family:Arial,Helvetica Neue,Helvetica,sans-serif; font-size:66px; text-anchor:middle;\\\" transform=\\\"rotate(0, 1919.72, 790.4)\\\" x=\\\"1919.72\\\" y=\\\"790.4\\\">Cost of G1<\\/text>\\n<\\/g>\\n<g clip-path=\\\"url(#clip3201)\\\">\\n<text style=\\\"fill:#000000; fill-opacity:1; font-family:Arial,Helvetica Neue,Helvetica,sans-serif; font-size:66px; text-anchor:middle;\\\" transform=\\\"rotate(-90, 1311.25, 343.863)\\\" x=\\\"1311.25\\\" y=\\\"343.863\\\">Dispatch: G1<\\/text>\\n<\\/g>\\n<polyline clip-path=\\\"url(#clip3204)\\\" style=\\\"stroke:#009af9; stroke-width:4; stroke-opacity:1; fill:none\\\" points=\\\"\\n  1540.9,101.175 1543.93,101.175 1546.96,101.175 1550,101.175 1553.03,101.175 1556.06,101.175 1559.09,101.175 1562.12,101.175 1565.15,101.175 1568.18,101.175 \\n  1571.21,101.175 1574.24,101.175 1577.27,101.175 1580.3,101.175 1583.33,101.175 1586.36,101.175 1589.39,101.175 1592.42,101.175 1595.45,101.175 1598.48,101.175 \\n  1601.51,101.175 1604.54,101.175 1607.57,101.175 1610.61,101.175 1613.64,101.175 1616.67,101.175 1619.7,101.175 1622.73,101.175 1625.76,101.175 1628.79,101.175 \\n  1631.82,101.175 1634.85,101.175 1637.88,101.175 1640.91,101.175 1643.94,101.175 1646.97,101.175 1650,101.175 1653.03,101.175 1656.06,101.175 1659.09,101.175 \\n  1662.12,101.175 1665.15,101.175 1668.18,101.175 1671.22,101.175 1674.25,101.175 1677.28,101.175 1680.31,101.175 1683.34,101.175 1686.37,101.175 1689.4,101.175 \\n  1692.43,101.175 1695.46,101.175 1698.49,101.175 1701.52,101.175 1704.55,101.175 1707.58,101.175 1710.61,101.175 1713.64,101.175 1716.67,101.175 1719.7,101.175 \\n  1722.73,101.175 1725.76,101.175 1728.8,101.175 1731.83,101.175 1734.86,101.175 1737.89,101.175 1740.92,101.175 1743.95,101.175 1746.98,101.175 1750.01,101.175 \\n  1753.04,101.175 1756.07,101.175 1759.1,101.175 1762.13,101.175 1765.16,101.175 1768.19,101.175 1771.22,101.175 1774.25,101.175 1777.28,101.175 1780.31,101.175 \\n  1783.34,101.175 1786.37,101.175 1789.41,101.175 1792.44,101.175 1795.47,101.175 1798.5,101.175 1801.53,101.175 1804.56,101.175 1807.59,101.175 1810.62,101.175 \\n  1813.65,101.175 1816.68,101.175 1819.71,101.175 1822.74,101.175 1825.77,101.175 1828.8,101.175 1831.83,101.175 1834.86,101.175 1837.89,101.175 1840.92,101.175 \\n  1843.95,101.175 1846.99,101.175 1850.02,101.175 1853.05,101.175 1856.08,101.175 1859.11,101.175 1862.14,101.175 1865.17,101.175 1868.2,101.175 1871.23,101.175 \\n  1874.26,101.175 1877.29,101.175 1880.32,101.175 1883.35,101.175 1886.38,101.175 1889.41,101.175 1892.44,101.175 1895.47,101.175 1898.5,101.175 1901.53,101.175 \\n  1904.56,101.175 1907.6,101.175 1910.63,101.175 1913.66,101.175 1916.69,101.175 1919.72,101.175 1922.75,101.175 1925.78,101.175 1928.81,101.175 1931.84,101.175 \\n  1934.87,101.175 1937.9,101.175 1940.93,101.175 1943.96,101.175 1946.99,101.175 1950.02,101.175 1953.05,101.175 1956.08,101.175 1959.11,101.175 1962.14,101.175 \\n  1965.17,101.175 1968.21,101.175 1971.24,101.175 1974.27,101.175 1977.3,101.175 1980.33,101.175 1983.36,101.175 1986.39,101.175 1989.42,101.175 1992.45,101.175 \\n  1995.48,101.175 1998.51,370.829 2001.54,370.829 2004.57,370.829 2007.6,370.829 2010.63,370.829 2013.66,370.829 2016.69,370.829 2019.72,370.829 2022.75,370.829 \\n  2025.79,370.829 2028.82,370.829 2031.85,370.829 2034.88,370.829 2037.91,370.829 2040.94,370.829 2043.97,370.829 2047,370.829 2050.03,370.829 2053.06,370.829 \\n  2056.09,370.829 2059.12,478.69 2062.15,478.69 2065.18,478.69 2068.21,478.69 2071.24,478.69 2074.27,478.69 2077.3,478.69 2080.33,478.69 2083.36,478.69 \\n  2086.4,478.69 2089.43,478.69 2092.46,478.69 2095.49,478.69 2098.52,478.69 2101.55,478.69 2104.58,478.69 2107.61,478.69 2110.64,478.69 2113.67,478.69 \\n  2116.7,478.69 2119.73,478.69 2122.76,478.69 2125.79,478.69 2128.82,478.69 2131.85,478.69 2134.88,478.69 2137.91,478.69 2140.94,478.69 2143.98,478.69 \\n  2147.01,478.69 2150.04,478.69 2153.07,478.69 2156.1,478.69 2159.13,478.69 2162.16,478.69 2165.19,478.69 2168.22,478.69 2171.25,478.69 2174.28,478.69 \\n  2177.31,478.69 2180.34,478.69 2183.37,478.69 2186.4,478.69 2189.43,478.69 2192.46,478.69 2195.49,478.69 2198.52,478.69 2201.55,478.69 2204.59,478.69 \\n  2207.62,478.69 2210.65,478.69 2213.68,478.69 2216.71,478.69 2219.74,478.69 2222.77,478.69 2225.8,478.69 2228.83,478.69 2231.86,478.69 2234.89,478.69 \\n  2237.92,478.69 2240.95,478.69 2243.98,478.69 2247.01,478.69 2250.04,478.69 2253.07,478.69 2256.1,478.69 2259.13,478.69 2262.16,478.69 2265.2,478.69 \\n  2268.23,478.69 2271.26,478.69 2274.29,478.69 2277.32,478.69 2280.35,478.69 2283.38,478.69 2286.41,478.69 2289.44,478.69 2292.47,478.69 2295.5,478.69 \\n  2298.53,478.69 \\n  \\\"\\/>\\n<polygon clip-path=\\\"url(#clip3201)\\\" points=\\\"\\n371.82,1440.48 1174.9,1440.48 1174.9,847.244 371.82,847.244 \\n  \\\" fill=\\\"#ffffff\\\" fill-rule=\\\"evenodd\\\" fill-opacity=\\\"1\\\"\\/>\\n<defs>\\n  <clipPath id=\\\"clip3205\\\">\\n    <rect x=\\\"371\\\" y=\\\"847\\\" width=\\\"804\\\" height=\\\"594\\\"\\/>\\n  <\\/clipPath>\\n<\\/defs>\\n<polyline clip-path=\\\"url(#clip3205)\\\" style=\\\"stroke:#000000; stroke-width:2; stroke-opacity:0.1; fill:none\\\" points=\\\"\\n  485.464,1440.48 485.464,847.244 \\n  \\\"\\/>\\n<polyline clip-path=\\\"url(#clip3205)\\\" style=\\\"stroke:#000000; stroke-width:2; stroke-opacity:0.1; fill:none\\\" points=\\\"\\n  606.684,1440.48 606.684,847.244 \\n  \\\"\\/>\\n<polyline clip-path=\\\"url(#clip3205)\\\" style=\\\"stroke:#000000; stroke-width:2; stroke-opacity:0.1; fill:none\\\" points=\\\"\\n  727.905,1440.48 727.905,847.244 \\n  \\\"\\/>\\n<polyline clip-path=\\\"url(#clip3205)\\\" style=\\\"stroke:#000000; stroke-width:2; stroke-opacity:0.1; fill:none\\\" points=\\\"\\n  849.125,1440.48 849.125,847.244 \\n  \\\"\\/>\\n<polyline clip-path=\\\"url(#clip3205)\\\" style=\\\"stroke:#000000; stroke-width:2; stroke-opacity:0.1; fill:none\\\" points=\\\"\\n  970.345,1440.48 970.345,847.244 \\n  \\\"\\/>\\n<polyline clip-path=\\\"url(#clip3205)\\\" style=\\\"stroke:#000000; stroke-width:2; stroke-opacity:0.1; fill:none\\\" points=\\\"\\n  1091.57,1440.48 1091.57,847.244 \\n  \\\"\\/>\\n<polyline clip-path=\\\"url(#clip3205)\\\" style=\\\"stroke:#000000; stroke-width:2; stroke-opacity:0.1; fill:none\\\" points=\\\"\\n  371.82,1440.48 1174.9,1440.48 \\n  \\\"\\/>\\n<polyline clip-path=\\\"url(#clip3205)\\\" style=\\\"stroke:#000000; stroke-width:2; stroke-opacity:0.1; fill:none\\\" points=\\\"\\n  371.82,1255.1 1174.9,1255.1 \\n  \\\"\\/>\\n<polyline clip-path=\\\"url(#clip3205)\\\" style=\\\"stroke:#000000; stroke-width:2; stroke-opacity:0.1; fill:none\\\" points=\\\"\\n  371.82,1069.71 1174.9,1069.71 \\n  \\\"\\/>\\n<polyline clip-path=\\\"url(#clip3205)\\\" style=\\\"stroke:#000000; stroke-width:2; stroke-opacity:0.1; fill:none\\\" points=\\\"\\n  371.82,884.322 1174.9,884.322 \\n  \\\"\\/>\\n<polyline clip-path=\\\"url(#clip3201)\\\" style=\\\"stroke:#000000; stroke-width:4; stroke-opacity:1; fill:none\\\" points=\\\"\\n  371.82,1440.48 1174.9,1440.48 \\n  \\\"\\/>\\n<polyline clip-path=\\\"url(#clip3201)\\\" style=\\\"stroke:#000000; stroke-width:4; stroke-opacity:1; fill:none\\\" points=\\\"\\n  371.82,1440.48 371.82,847.244 \\n  \\\"\\/>\\n<polyline clip-path=\\\"url(#clip3201)\\\" style=\\\"stroke:#000000; stroke-width:4; stroke-opacity:1; fill:none\\\" points=\\\"\\n  485.464,1440.48 485.464,1431.58 \\n  \\\"\\/>\\n<polyline clip-path=\\\"url(#clip3201)\\\" style=\\\"stroke:#000000; stroke-width:4; stroke-opacity:1; fill:none\\\" points=\\\"\\n  606.684,1440.48 606.684,1431.58 \\n  \\\"\\/>\\n<polyline clip-path=\\\"url(#clip3201)\\\" style=\\\"stroke:#000000; stroke-width:4; stroke-opacity:1; fill:none\\\" points=\\\"\\n  727.905,1440.48 727.905,1431.58 \\n  \\\"\\/>\\n<polyline clip-path=\\\"url(#clip3201)\\\" style=\\\"stroke:#000000; stroke-width:4; stroke-opacity:1; fill:none\\\" points=\\\"\\n  849.125,1440.48 849.125,1431.58 \\n  \\\"\\/>\\n<polyline clip-path=\\\"url(#clip3201)\\\" style=\\\"stroke:#000000; stroke-width:4; stroke-opacity:1; fill:none\\\" points=\\\"\\n  970.345,1440.48 970.345,1431.58 \\n  \\\"\\/>\\n<polyline clip-path=\\\"url(#clip3201)\\\" style=\\\"stroke:#000000; stroke-width:4; stroke-opacity:1; fill:none\\\" points=\\\"\\n  1091.57,1440.48 1091.57,1431.58 \\n  \\\"\\/>\\n<polyline clip-path=\\\"url(#clip3201)\\\" style=\\\"stroke:#000000; stroke-width:4; stroke-opacity:1; fill:none\\\" points=\\\"\\n  371.82,1440.48 383.866,1440.48 \\n  \\\"\\/>\\n<polyline clip-path=\\\"url(#clip3201)\\\" style=\\\"stroke:#000000; stroke-width:4; stroke-opacity:1; fill:none\\\" points=\\\"\\n  371.82,1255.1 383.866,1255.1 \\n  \\\"\\/>\\n<polyline clip-path=\\\"url(#clip3201)\\\" style=\\\"stroke:#000000; stroke-width:4; stroke-opacity:1; fill:none\\\" points=\\\"\\n  371.82,1069.71 383.866,1069.71 \\n  \\\"\\/>\\n<polyline clip-path=\\\"url(#clip3201)\\\" style=\\\"stroke:#000000; stroke-width:4; stroke-opacity:1; fill:none\\\" points=\\\"\\n  371.82,884.322 383.866,884.322 \\n  \\\"\\/>\\n<g clip-path=\\\"url(#clip3201)\\\">\\n<text style=\\\"fill:#000000; fill-opacity:1; font-family:Arial,Helvetica Neue,Helvetica,sans-serif; font-size:48px; text-anchor:middle;\\\" transform=\\\"rotate(0, 485.464, 1494.48)\\\" x=\\\"485.464\\\" y=\\\"1494.48\\\">40<\\/text>\\n<\\/g>\\n<g clip-path=\\\"url(#clip3201)\\\">\\n<text style=\\\"fill:#000000; fill-opacity:1; font-family:Arial,Helvetica Neue,Helvetica,sans-serif; font-size:48px; text-anchor:middle;\\\" transform=\\\"rotate(0, 606.684, 1494.48)\\\" x=\\\"606.684\\\" y=\\\"1494.48\\\">60<\\/text>\\n<\\/g>\\n<g clip-path=\\\"url(#clip3201)\\\">\\n<text style=\\\"fill:#000000; fill-opacity:1; font-family:Arial,Helvetica Neue,Helvetica,sans-serif; font-size:48px; text-anchor:middle;\\\" transform=\\\"rotate(0, 727.905, 1494.48)\\\" x=\\\"727.905\\\" y=\\\"1494.48\\\">80<\\/text>\\n<\\/g>\\n<g clip-path=\\\"url(#clip3201)\\\">\\n<text style=\\\"fill:#000000; fill-opacity:1; font-family:Arial,Helvetica Neue,Helvetica,sans-serif; font-size:48px; text-anchor:middle;\\\" transform=\\\"rotate(0, 849.125, 1494.48)\\\" x=\\\"849.125\\\" y=\\\"1494.48\\\">100<\\/text>\\n<\\/g>\\n<g clip-path=\\\"url(#clip3201)\\\">\\n<text style=\\\"fill:#000000; fill-opacity:1; font-family:Arial,Helvetica Neue,Helvetica,sans-serif; font-size:48px; text-anchor:middle;\\\" transform=\\\"rotate(0, 970.345, 1494.48)\\\" x=\\\"970.345\\\" y=\\\"1494.48\\\">120<\\/text>\\n<\\/g>\\n<g clip-path=\\\"url(#clip3201)\\\">\\n<text style=\\\"fill:#000000; fill-opacity:1; font-family:Arial,Helvetica Neue,Helvetica,sans-serif; font-size:48px; text-anchor:middle;\\\" transform=\\\"rotate(0, 1091.57, 1494.48)\\\" x=\\\"1091.57\\\" y=\\\"1494.48\\\">140<\\/text>\\n<\\/g>\\n<g clip-path=\\\"url(#clip3201)\\\">\\n<text style=\\\"fill:#000000; fill-opacity:1; font-family:Arial,Helvetica Neue,Helvetica,sans-serif; font-size:48px; text-anchor:end;\\\" transform=\\\"rotate(0, 347.82, 1457.98)\\\" x=\\\"347.82\\\" y=\\\"1457.98\\\">0<\\/text>\\n<\\/g>\\n<g clip-path=\\\"url(#clip3201)\\\">\\n<text style=\\\"fill:#000000; fill-opacity:1; font-family:Arial,Helvetica Neue,Helvetica,sans-serif; font-size:48px; text-anchor:end;\\\" transform=\\\"rotate(0, 347.82, 1272.6)\\\" x=\\\"347.82\\\" y=\\\"1272.6\\\">500<\\/text>\\n<\\/g>\\n<g clip-path=\\\"url(#clip3201)\\\">\\n<text style=\\\"fill:#000000; fill-opacity:1; font-family:Arial,Helvetica Neue,Helvetica,sans-serif; font-size:48px; text-anchor:end;\\\" transform=\\\"rotate(0, 347.82, 1087.21)\\\" x=\\\"347.82\\\" y=\\\"1087.21\\\">1000<\\/text>\\n<\\/g>\\n<g clip-path=\\\"url(#clip3201)\\\">\\n<text style=\\\"fill:#000000; fill-opacity:1; font-family:Arial,Helvetica Neue,Helvetica,sans-serif; font-size:48px; text-anchor:end;\\\" transform=\\\"rotate(0, 347.82, 901.822)\\\" x=\\\"347.82\\\" y=\\\"901.822\\\">1500<\\/text>\\n<\\/g>\\n<g clip-path=\\\"url(#clip3201)\\\">\\n<text style=\\\"fill:#000000; fill-opacity:1; font-family:Arial,Helvetica Neue,Helvetica,sans-serif; font-size:66px; text-anchor:middle;\\\" transform=\\\"rotate(0, 773.362, 1590.4)\\\" x=\\\"773.362\\\" y=\\\"1590.4\\\">Cost of G1<\\/text>\\n<\\/g>\\n<g clip-path=\\\"url(#clip3201)\\\">\\n<text style=\\\"fill:#000000; fill-opacity:1; font-family:Arial,Helvetica Neue,Helvetica,sans-serif; font-size:66px; text-anchor:middle;\\\" transform=\\\"rotate(-90, 57.6, 1143.86)\\\" x=\\\"57.6\\\" y=\\\"1143.86\\\">Dispatch: G2<\\/text>\\n<\\/g>\\n<polyline clip-path=\\\"url(#clip3205)\\\" style=\\\"stroke:#009af9; stroke-width:4; stroke-opacity:1; fill:none\\\" points=\\\"\\n  394.549,1255.1 397.579,1255.1 400.61,1255.1 403.64,1255.1 406.671,1255.1 409.701,1255.1 412.732,1255.1 415.762,1255.1 418.793,1255.1 421.823,1255.1 \\n  424.854,1255.1 427.884,1255.1 430.915,1255.1 433.945,1255.1 436.976,1255.1 440.006,1255.1 443.037,1255.1 446.067,1255.1 449.098,1255.1 452.128,1255.1 \\n  455.159,1255.1 458.189,1255.1 461.22,1255.1 464.25,1255.1 467.281,1255.1 470.311,1255.1 473.342,1255.1 476.372,1255.1 479.403,1255.1 482.433,1255.1 \\n  485.464,1255.1 488.494,1255.1 491.525,1255.1 494.555,1255.1 497.586,1255.1 500.616,1255.1 503.647,1255.1 506.677,1255.1 509.708,1255.1 512.738,1255.1 \\n  515.769,1255.1 518.799,1255.1 521.83,1255.1 524.86,1255.1 527.891,1255.1 530.921,1255.1 533.952,1255.1 536.982,1255.1 540.013,1255.1 543.044,1255.1 \\n  546.074,1255.1 549.105,1255.1 552.135,1255.1 555.166,1255.1 558.196,1255.1 561.227,1255.1 564.257,1255.1 567.288,1255.1 570.318,1255.1 573.349,1255.1 \\n  576.379,1255.1 579.41,1255.1 582.44,1255.1 585.471,1255.1 588.501,1255.1 591.532,1255.1 594.562,1255.1 597.593,1255.1 600.623,1255.1 603.654,1255.1 \\n  606.684,1255.1 609.715,1255.1 612.745,1255.1 615.776,1255.1 618.806,1255.1 621.837,1255.1 624.867,1255.1 627.898,1255.1 630.928,1255.1 633.959,1255.1 \\n  636.989,1255.1 640.02,1255.1 643.05,1255.1 646.081,1255.1 649.111,1255.1 652.142,1255.1 655.172,1255.1 658.203,1255.1 661.233,1255.1 664.264,1255.1 \\n  667.294,1255.1 670.325,1255.1 673.355,1255.1 676.386,1255.1 679.416,1255.1 682.447,1255.1 685.477,1255.1 688.508,1255.1 691.539,1255.1 694.569,1255.1 \\n  697.6,1255.1 700.63,1255.1 703.661,1255.1 706.691,1255.1 709.722,1255.1 712.752,1255.1 715.783,1255.1 718.813,1255.1 721.844,1255.1 724.874,1255.1 \\n  727.905,1255.1 730.935,1255.1 733.966,1255.1 736.996,1255.1 740.027,1255.1 743.057,1255.1 746.088,1255.1 749.118,1255.1 752.149,1255.1 755.179,1255.1 \\n  758.21,1255.1 761.24,1255.1 764.271,1255.1 767.301,1255.1 770.332,1255.1 773.362,1255.1 776.393,1255.1 779.423,1255.1 782.454,1255.1 785.484,1255.1 \\n  788.515,1255.1 791.545,1255.1 794.576,1255.1 797.606,1255.1 800.637,1255.1 803.667,1255.1 806.698,1255.1 809.728,1255.1 812.759,1255.1 815.789,1255.1 \\n  818.82,1255.1 821.85,1255.1 824.881,1255.1 827.911,1255.1 830.942,1255.1 833.972,1255.1 837.003,1255.1 840.033,1255.1 843.064,1255.1 846.095,1255.1 \\n  849.125,1255.1 852.156,1069.71 855.186,1069.71 858.217,1069.71 861.247,1069.71 864.278,1069.71 867.308,1069.71 870.339,1069.71 873.369,1069.71 876.4,1069.71 \\n  879.43,1069.71 882.461,1069.71 885.491,1069.71 888.522,1069.71 891.552,1069.71 894.583,1069.71 897.613,1069.71 900.644,1069.71 903.674,1069.71 906.705,1069.71 \\n  909.735,1069.71 912.766,1069.71 915.796,1069.71 918.827,1069.71 921.857,1069.71 924.888,1069.71 927.918,1069.71 930.949,1069.71 933.979,1069.71 937.01,1069.71 \\n  940.04,1069.71 943.071,1069.71 946.101,1069.71 949.132,1069.71 952.162,1069.71 955.193,1069.71 958.223,1069.71 961.254,1069.71 964.284,1069.71 967.315,1069.71 \\n  970.345,1069.71 973.376,1069.71 976.406,1069.71 979.437,1069.71 982.467,1069.71 985.498,1069.71 988.528,1069.71 991.559,1069.71 994.59,1069.71 997.62,1069.71 \\n  1000.65,1069.71 1003.68,1069.71 1006.71,1069.71 1009.74,1069.71 1012.77,1069.71 1015.8,1069.71 1018.83,1069.71 1021.86,1069.71 1024.89,1069.71 1027.93,1069.71 \\n  1030.96,1069.71 1033.99,1069.71 1037.02,1069.71 1040.05,1069.71 1043.08,1069.71 1046.11,1069.71 1049.14,1069.71 1052.17,1069.71 1055.2,1069.71 1058.23,1069.71 \\n  1061.26,1069.71 1064.29,1069.71 1067.32,1069.71 1070.35,1069.71 1073.38,1069.71 1076.41,1069.71 1079.44,1069.71 1082.47,1069.71 1085.5,1069.71 1088.54,1069.71 \\n  1091.57,1069.71 1094.6,1069.71 1097.63,1069.71 1100.66,1069.71 1103.69,1069.71 1106.72,1069.71 1109.75,1069.71 1112.78,1069.71 1115.81,1069.71 1118.84,1069.71 \\n  1121.87,1069.71 1124.9,1069.71 1127.93,1069.71 1130.96,1069.71 1133.99,1069.71 1137.02,1069.71 1140.05,1069.71 1143.08,1069.71 1146.12,1069.71 1149.15,1069.71 \\n  1152.18,1069.71 \\n  \\\"\\/>\\n<polygon clip-path=\\\"url(#clip3201)\\\" points=\\\"\\n1491.41,1440.48 2321.26,1440.48 2321.26,847.244 1491.41,847.244 \\n  \\\" fill=\\\"#ffffff\\\" fill-rule=\\\"evenodd\\\" fill-opacity=\\\"1\\\"\\/>\\n<defs>\\n  <clipPath id=\\\"clip3206\\\">\\n    <rect x=\\\"1491\\\" y=\\\"847\\\" width=\\\"831\\\" height=\\\"594\\\"\\/>\\n  <\\/clipPath>\\n<\\/defs>\\n<polyline clip-path=\\\"url(#clip3206)\\\" style=\\\"stroke:#000000; stroke-width:2; stroke-opacity:0.1; fill:none\\\" points=\\\"\\n  1608.84,1440.48 1608.84,847.244 \\n  \\\"\\/>\\n<polyline clip-path=\\\"url(#clip3206)\\\" style=\\\"stroke:#000000; stroke-width:2; stroke-opacity:0.1; fill:none\\\" points=\\\"\\n  1734.1,1440.48 1734.1,847.244 \\n  \\\"\\/>\\n<polyline clip-path=\\\"url(#clip3206)\\\" style=\\\"stroke:#000000; stroke-width:2; stroke-opacity:0.1; fill:none\\\" points=\\\"\\n  1859.36,1440.48 1859.36,847.244 \\n  \\\"\\/>\\n<polyline clip-path=\\\"url(#clip3206)\\\" style=\\\"stroke:#000000; stroke-width:2; stroke-opacity:0.1; fill:none\\\" points=\\\"\\n  1984.62,1440.48 1984.62,847.244 \\n  \\\"\\/>\\n<polyline clip-path=\\\"url(#clip3206)\\\" style=\\\"stroke:#000000; stroke-width:2; stroke-opacity:0.1; fill:none\\\" points=\\\"\\n  2109.88,1440.48 2109.88,847.244 \\n  \\\"\\/>\\n<polyline clip-path=\\\"url(#clip3206)\\\" style=\\\"stroke:#000000; stroke-width:2; stroke-opacity:0.1; fill:none\\\" points=\\\"\\n  2235.14,1440.48 2235.14,847.244 \\n  \\\"\\/>\\n<polyline clip-path=\\\"url(#clip3206)\\\" style=\\\"stroke:#000000; stroke-width:2; stroke-opacity:0.1; fill:none\\\" points=\\\"\\n  1491.41,1440.48 2321.26,1440.48 \\n  \\\"\\/>\\n<polyline clip-path=\\\"url(#clip3206)\\\" style=\\\"stroke:#000000; stroke-width:2; stroke-opacity:0.1; fill:none\\\" points=\\\"\\n  1491.41,1321.83 2321.26,1321.83 \\n  \\\"\\/>\\n<polyline clip-path=\\\"url(#clip3206)\\\" style=\\\"stroke:#000000; stroke-width:2; stroke-opacity:0.1; fill:none\\\" points=\\\"\\n  1491.41,1203.19 2321.26,1203.19 \\n  \\\"\\/>\\n<polyline clip-path=\\\"url(#clip3206)\\\" style=\\\"stroke:#000000; stroke-width:2; stroke-opacity:0.1; fill:none\\\" points=\\\"\\n  1491.41,1084.54 2321.26,1084.54 \\n  \\\"\\/>\\n<polyline clip-path=\\\"url(#clip3206)\\\" style=\\\"stroke:#000000; stroke-width:2; stroke-opacity:0.1; fill:none\\\" points=\\\"\\n  1491.41,965.892 2321.26,965.892 \\n  \\\"\\/>\\n<polyline clip-path=\\\"url(#clip3206)\\\" style=\\\"stroke:#000000; stroke-width:2; stroke-opacity:0.1; fill:none\\\" points=\\\"\\n  1491.41,847.244 2321.26,847.244 \\n  \\\"\\/>\\n<polyline clip-path=\\\"url(#clip3201)\\\" style=\\\"stroke:#000000; stroke-width:4; stroke-opacity:1; fill:none\\\" points=\\\"\\n  1491.41,1440.48 2321.26,1440.48 \\n  \\\"\\/>\\n<polyline clip-path=\\\"url(#clip3201)\\\" style=\\\"stroke:#000000; stroke-width:4; stroke-opacity:1; fill:none\\\" points=\\\"\\n  1491.41,1440.48 1491.41,847.244 \\n  \\\"\\/>\\n<polyline clip-path=\\\"url(#clip3201)\\\" style=\\\"stroke:#000000; stroke-width:4; stroke-opacity:1; fill:none\\\" points=\\\"\\n  1608.84,1440.48 1608.84,1431.58 \\n  \\\"\\/>\\n<polyline clip-path=\\\"url(#clip3201)\\\" style=\\\"stroke:#000000; stroke-width:4; stroke-opacity:1; fill:none\\\" points=\\\"\\n  1734.1,1440.48 1734.1,1431.58 \\n  \\\"\\/>\\n<polyline clip-path=\\\"url(#clip3201)\\\" style=\\\"stroke:#000000; stroke-width:4; stroke-opacity:1; fill:none\\\" points=\\\"\\n  1859.36,1440.48 1859.36,1431.58 \\n  \\\"\\/>\\n<polyline clip-path=\\\"url(#clip3201)\\\" style=\\\"stroke:#000000; stroke-width:4; stroke-opacity:1; fill:none\\\" points=\\\"\\n  1984.62,1440.48 1984.62,1431.58 \\n  \\\"\\/>\\n<polyline clip-path=\\\"url(#clip3201)\\\" style=\\\"stroke:#000000; stroke-width:4; stroke-opacity:1; fill:none\\\" points=\\\"\\n  2109.88,1440.48 2109.88,1431.58 \\n  \\\"\\/>\\n<polyline clip-path=\\\"url(#clip3201)\\\" style=\\\"stroke:#000000; stroke-width:4; stroke-opacity:1; fill:none\\\" points=\\\"\\n  2235.14,1440.48 2235.14,1431.58 \\n  \\\"\\/>\\n<polyline clip-path=\\\"url(#clip3201)\\\" style=\\\"stroke:#000000; stroke-width:4; stroke-opacity:1; fill:none\\\" points=\\\"\\n  1491.41,1440.48 1503.86,1440.48 \\n  \\\"\\/>\\n<polyline clip-path=\\\"url(#clip3201)\\\" style=\\\"stroke:#000000; stroke-width:4; stroke-opacity:1; fill:none\\\" points=\\\"\\n  1491.41,1321.83 1503.86,1321.83 \\n  \\\"\\/>\\n<polyline clip-path=\\\"url(#clip3201)\\\" style=\\\"stroke:#000000; stroke-width:4; stroke-opacity:1; fill:none\\\" points=\\\"\\n  1491.41,1203.19 1503.86,1203.19 \\n  \\\"\\/>\\n<polyline clip-path=\\\"url(#clip3201)\\\" style=\\\"stroke:#000000; stroke-width:4; stroke-opacity:1; fill:none\\\" points=\\\"\\n  1491.41,1084.54 1503.86,1084.54 \\n  \\\"\\/>\\n<polyline clip-path=\\\"url(#clip3201)\\\" style=\\\"stroke:#000000; stroke-width:4; stroke-opacity:1; fill:none\\\" points=\\\"\\n  1491.41,965.892 1503.86,965.892 \\n  \\\"\\/>\\n<polyline clip-path=\\\"url(#clip3201)\\\" style=\\\"stroke:#000000; stroke-width:4; stroke-opacity:1; fill:none\\\" points=\\\"\\n  1491.41,847.244 1503.86,847.244 \\n  \\\"\\/>\\n<g clip-path=\\\"url(#clip3201)\\\">\\n<text style=\\\"fill:#000000; fill-opacity:1; font-family:Arial,Helvetica Neue,Helvetica,sans-serif; font-size:48px; text-anchor:middle;\\\" transform=\\\"rotate(0, 1608.84, 1494.48)\\\" x=\\\"1608.84\\\" y=\\\"1494.48\\\">40<\\/text>\\n<\\/g>\\n<g clip-path=\\\"url(#clip3201)\\\">\\n<text style=\\\"fill:#000000; fill-opacity:1; font-family:Arial,Helvetica Neue,Helvetica,sans-serif; font-size:48px; text-anchor:middle;\\\" transform=\\\"rotate(0, 1734.1, 1494.48)\\\" x=\\\"1734.1\\\" y=\\\"1494.48\\\">60<\\/text>\\n<\\/g>\\n<g clip-path=\\\"url(#clip3201)\\\">\\n<text style=\\\"fill:#000000; fill-opacity:1; font-family:Arial,Helvetica Neue,Helvetica,sans-serif; font-size:48px; text-anchor:middle;\\\" transform=\\\"rotate(0, 1859.36, 1494.48)\\\" x=\\\"1859.36\\\" y=\\\"1494.48\\\">80<\\/text>\\n<\\/g>\\n<g clip-path=\\\"url(#clip3201)\\\">\\n<text style=\\\"fill:#000000; fill-opacity:1; font-family:Arial,Helvetica Neue,Helvetica,sans-serif; font-size:48px; text-anchor:middle;\\\" transform=\\\"rotate(0, 1984.62, 1494.48)\\\" x=\\\"1984.62\\\" y=\\\"1494.48\\\">100<\\/text>\\n<\\/g>\\n<g clip-path=\\\"url(#clip3201)\\\">\\n<text style=\\\"fill:#000000; fill-opacity:1; font-family:Arial,Helvetica Neue,Helvetica,sans-serif; font-size:48px; text-anchor:middle;\\\" transform=\\\"rotate(0, 2109.88, 1494.48)\\\" x=\\\"2109.88\\\" y=\\\"1494.48\\\">120<\\/text>\\n<\\/g>\\n<g clip-path=\\\"url(#clip3201)\\\">\\n<text style=\\\"fill:#000000; fill-opacity:1; font-family:Arial,Helvetica Neue,Helvetica,sans-serif; font-size:48px; text-anchor:middle;\\\" transform=\\\"rotate(0, 2235.14, 1494.48)\\\" x=\\\"2235.14\\\" y=\\\"1494.48\\\">140<\\/text>\\n<\\/g>\\n<g clip-path=\\\"url(#clip3201)\\\">\\n<text style=\\\"fill:#000000; fill-opacity:1; font-family:Arial,Helvetica Neue,Helvetica,sans-serif; font-size:48px; text-anchor:end;\\\" transform=\\\"rotate(0, 1467.41, 1457.98)\\\" x=\\\"1467.41\\\" y=\\\"1457.98\\\">0<\\/text>\\n<\\/g>\\n<g clip-path=\\\"url(#clip3201)\\\">\\n<text style=\\\"fill:#000000; fill-opacity:1; font-family:Arial,Helvetica Neue,Helvetica,sans-serif; font-size:48px; text-anchor:end;\\\" transform=\\\"rotate(0, 1467.41, 1339.33)\\\" x=\\\"1467.41\\\" y=\\\"1339.33\\\">50<\\/text>\\n<\\/g>\\n<g clip-path=\\\"url(#clip3201)\\\">\\n<text style=\\\"fill:#000000; fill-opacity:1; font-family:Arial,Helvetica Neue,Helvetica,sans-serif; font-size:48px; text-anchor:end;\\\" transform=\\\"rotate(0, 1467.41, 1220.69)\\\" x=\\\"1467.41\\\" y=\\\"1220.69\\\">100<\\/text>\\n<\\/g>\\n<g clip-path=\\\"url(#clip3201)\\\">\\n<text style=\\\"fill:#000000; fill-opacity:1; font-family:Arial,Helvetica Neue,Helvetica,sans-serif; font-size:48px; text-anchor:end;\\\" transform=\\\"rotate(0, 1467.41, 1102.04)\\\" x=\\\"1467.41\\\" y=\\\"1102.04\\\">150<\\/text>\\n<\\/g>\\n<g clip-path=\\\"url(#clip3201)\\\">\\n<text style=\\\"fill:#000000; fill-opacity:1; font-family:Arial,Helvetica Neue,Helvetica,sans-serif; font-size:48px; text-anchor:end;\\\" transform=\\\"rotate(0, 1467.41, 983.392)\\\" x=\\\"1467.41\\\" y=\\\"983.392\\\">200<\\/text>\\n<\\/g>\\n<g clip-path=\\\"url(#clip3201)\\\">\\n<text style=\\\"fill:#000000; fill-opacity:1; font-family:Arial,Helvetica Neue,Helvetica,sans-serif; font-size:48px; text-anchor:end;\\\" transform=\\\"rotate(0, 1467.41, 864.744)\\\" x=\\\"1467.41\\\" y=\\\"864.744\\\">250<\\/text>\\n<\\/g>\\n<g clip-path=\\\"url(#clip3201)\\\">\\n<text style=\\\"fill:#000000; fill-opacity:1; font-family:Arial,Helvetica Neue,Helvetica,sans-serif; font-size:66px; text-anchor:middle;\\\" transform=\\\"rotate(0, 1906.34, 1590.4)\\\" x=\\\"1906.34\\\" y=\\\"1590.4\\\">Cost of G1<\\/text>\\n<\\/g>\\n<g clip-path=\\\"url(#clip3201)\\\">\\n<text style=\\\"fill:#000000; fill-opacity:1; font-family:Arial,Helvetica Neue,Helvetica,sans-serif; font-size:66px; text-anchor:middle;\\\" transform=\\\"rotate(-90, 1311.25, 1143.86)\\\" x=\\\"1311.25\\\" y=\\\"1143.86\\\">Dispatch: Wind<\\/text>\\n<\\/g>\\n<polyline clip-path=\\\"url(#clip3206)\\\" style=\\\"stroke:#009af9; stroke-width:4; stroke-opacity:1; fill:none\\\" points=\\\"\\n  1514.9,1440.48 1518.03,1440.48 1521.16,1440.48 1524.29,1440.48 1527.42,1440.48 1530.56,1440.48 1533.69,1440.48 1536.82,1440.48 1539.95,1440.48 1543.08,1440.48 \\n  1546.21,1440.48 1549.35,1440.48 1552.48,1440.48 1555.61,1440.48 1558.74,1440.48 1561.87,1440.48 1565,1440.48 1568.13,1440.48 1571.27,1440.48 1574.4,1440.48 \\n  1577.53,1440.48 1580.66,1440.48 1583.79,1440.48 1586.92,1440.48 1590.05,1440.48 1593.19,1440.48 1596.32,1440.48 1599.45,1440.48 1602.58,1440.48 1605.71,1440.48 \\n  1608.84,1440.48 1611.98,1440.48 1615.11,1440.48 1618.24,1440.48 1621.37,1440.48 1624.5,1440.48 1627.63,1440.48 1630.76,1440.48 1633.9,1440.48 1637.03,1440.48 \\n  1640.16,1440.48 1643.29,1440.48 1646.42,1440.48 1649.55,1440.48 1652.68,1440.48 1655.82,1440.48 1658.95,1440.48 1662.08,1440.48 1665.21,1440.48 1668.34,1440.48 \\n  1671.47,1440.48 1674.61,1440.48 1677.74,1440.48 1680.87,1440.48 1684,1440.48 1687.13,1440.48 1690.26,1440.48 1693.39,1440.48 1696.53,1440.48 1699.66,1440.48 \\n  1702.79,1440.48 1705.92,1440.48 1709.05,1440.48 1712.18,1440.48 1715.31,1440.48 1718.45,1440.48 1721.58,1440.48 1724.71,1440.48 1727.84,1440.48 1730.97,1440.48 \\n  1734.1,1440.48 1737.24,1440.48 1740.37,1440.48 1743.5,1440.48 1746.63,1440.48 1749.76,1440.48 1752.89,1440.48 1756.02,1440.48 1759.16,1440.48 1762.29,1440.48 \\n  1765.42,1440.48 1768.55,1440.48 1771.68,1440.48 1774.81,1440.48 1777.94,1440.48 1781.08,1440.48 1784.21,1440.48 1787.34,1440.48 1790.47,1440.48 1793.6,1440.48 \\n  1796.73,1440.48 1799.87,1440.48 1803,1440.48 1806.13,1440.48 1809.26,1440.48 1812.39,1440.48 1815.52,1440.48 1818.65,1440.48 1821.79,1440.48 1824.92,1440.48 \\n  1828.05,1440.48 1831.18,1440.48 1834.31,1440.48 1837.44,1440.48 1840.57,1440.48 1843.71,1440.48 1846.84,1440.48 1849.97,1440.48 1853.1,1440.48 1856.23,1440.48 \\n  1859.36,1440.48 1862.5,1440.48 1865.63,1440.48 1868.76,1440.48 1871.89,1440.48 1875.02,1440.48 1878.15,1440.48 1881.28,1440.48 1884.42,1440.48 1887.55,1440.48 \\n  1890.68,1440.48 1893.81,1440.48 1896.94,1440.48 1900.07,1440.48 1903.2,1440.48 1906.34,1440.48 1909.47,1440.48 1912.6,1440.48 1915.73,1440.48 1918.86,1440.48 \\n  1921.99,1440.48 1925.13,1440.48 1928.26,1440.48 1931.39,1440.48 1934.52,1440.48 1937.65,1440.48 1940.78,1440.48 1943.91,1440.48 1947.05,1440.48 1950.18,1440.48 \\n  1953.31,1440.48 1956.44,1440.48 1959.57,1440.48 1962.7,1440.48 1965.83,1440.48 1968.97,1440.48 1972.1,1440.48 1975.23,1440.48 1978.36,1440.48 1981.49,1440.48 \\n  1984.62,1440.48 1987.76,1440.48 1990.89,1440.48 1994.02,1440.48 1997.15,1440.48 2000.28,1440.48 2003.41,1440.48 2006.54,1440.48 2009.68,1440.48 2012.81,1440.48 \\n  2015.94,1440.48 2019.07,1440.48 2022.2,1440.48 2025.33,1440.48 2028.46,1440.48 2031.6,1440.48 2034.73,1440.48 2037.86,1440.48 2040.99,1440.48 2044.12,1440.48 \\n  2047.25,1440.48 2050.39,965.892 2053.52,965.892 2056.65,965.892 2059.78,965.892 2062.91,965.892 2066.04,965.892 2069.17,965.892 2072.31,965.892 2075.44,965.892 \\n  2078.57,965.892 2081.7,965.892 2084.83,965.892 2087.96,965.892 2091.09,965.892 2094.23,965.892 2097.36,965.892 2100.49,965.892 2103.62,965.892 2106.75,965.892 \\n  2109.88,965.892 2113.02,965.892 2116.15,965.892 2119.28,965.892 2122.41,965.892 2125.54,965.892 2128.67,965.892 2131.8,965.892 2134.94,965.892 2138.07,965.892 \\n  2141.2,965.892 2144.33,965.892 2147.46,965.892 2150.59,965.892 2153.72,965.892 2156.86,965.892 2159.99,965.892 2163.12,965.892 2166.25,965.892 2169.38,965.892 \\n  2172.51,965.892 2175.65,965.892 2178.78,965.892 2181.91,965.892 2185.04,965.892 2188.17,965.892 2191.3,965.892 2194.43,965.892 2197.57,965.892 2200.7,965.892 \\n  2203.83,965.892 2206.96,965.892 2210.09,965.892 2213.22,965.892 2216.35,965.892 2219.49,965.892 2222.62,965.892 2225.75,965.892 2228.88,965.892 2232.01,965.892 \\n  2235.14,965.892 2238.28,965.892 2241.41,965.892 2244.54,965.892 2247.67,965.892 2250.8,965.892 2253.93,965.892 2257.06,965.892 2260.2,965.892 2263.33,965.892 \\n  2266.46,965.892 2269.59,965.892 2272.72,965.892 2275.85,965.892 2278.98,965.892 2282.12,965.892 2285.25,965.892 2288.38,965.892 2291.51,965.892 2294.64,965.892 \\n  2297.77,965.892 \\n  \\\"\\/>\\n<\\/svg>\\n\"},\"nodeType\":\"DOM\",\"type\":\"node\",\"instanceArgs\":{\"namespace\":\"html\",\"tag\":\"div\"},\"children\":[]}]}}}},\"children\":[{\"props\":{},\"nodeType\":\"ObservableNode\",\"type\":\"node\",\"instanceArgs\":{\"id\":\"ob_48\",\"name\":\"obs-node\"},\"children\":[]}]}]},\n",
       "        );\n",
       "    } else {\n",
       "        document\n",
       "            .querySelector('[data-webio-mountpoint=\"7751023308265070118\"]')\n",
       "            .innerHTML = '<strong>WebIO not detected.</strong>';\n",
       "    }\n",
       "    </script>\n",
       "</div>\n"
      ],
      "text/plain": [
       "Widget{:manipulate,Any}(OrderedDict{Symbol,Any}(:cost_of_wind=>Widget{:slider,Float64}(OrderedDict{Symbol,Any}(:changes=>Observable{Int64} with 1 listeners. Value:\n",
       "0,:index=>Observable{Any} with 2 listeners. Value:\n",
       "13,:formatted_vals=>Observable{Any} with 1 listeners. Value:\n",
       "[\"50.0\", \"55.0\", \"60.0\", \"65.0\", \"70.0\", \"75.0\", \"80.0\", \"85.0\", \"90.0\", \"95.0\"  …  \"130.0\", \"135.0\", \"140.0\", \"145.0\", \"150.0\", \"155.0\", \"160.0\", \"165.0\", \"170.0\", \"175.0\"],:formatted_value=>Observable{String} with 1 listeners. Value:\n",
       "\"110.0\",:value=>Observable{Float64} with 2 listeners. Value:\n",
       "110.0), Observable{Float64} with 2 listeners. Value:\n",
       "110.0, Scope(\"knockout-component-a20e3c4e-598b-467c-8d93-f7be3dd51d2d\", Node{DOM}(DOM(:html, :div), Any[Node{DOM}(DOM(:html, :div), Any[Node{DOM}(DOM(:html, :label), Any[\"cost_of_wind\"], Dict{Symbol,Any}(:className=>\"interact \",:style=>Dict{Any,Any}(:padding=>\"5px 10px 0px 10px\")), 1)], Dict{Symbol,Any}(:attributes=>Dict(\"style\"=>\"text-align:right;width:18%\")), 2), Node{DOM}(DOM(:html, :div), Any[Node{DOM}(DOM(:html, :input), Any[], Dict{Symbol,Any}(:max=>26,:min=>1,:attributes=>Dict{Any,Any}(:type=>\"range\",Symbol(\"data-bind\")=>\"numericValue: index, valueUpdate: 'input', event: {change : function () {this.changes(this.changes()+1)}}\",\"orient\"=>\"horizontal\"),:step=>1,:className=>\"slider slider is-fullwidth\",:style=>Dict{Any,Any}()), 0)], Dict{Symbol,Any}(:attributes=>Dict(\"style\"=>\"flex-grow:1; margin: 0 2%\")), 1), Node{DOM}(DOM(:html, :div), Any[Node{DOM}(DOM(:html, :p), Any[], Dict{Symbol,Any}(:attributes=>Dict(\"data-bind\"=>\"text: formatted_value\")), 0)], Dict{Symbol,Any}(:attributes=>Dict(\"style\"=>\"width:18%\")), 1)], Dict{Symbol,Any}(:attributes=>Dict(\"style\"=>\"display:flex; justify-content:center; align-items:center;\")), 7), Dict{String,Tuple{Observables.AbstractObservable,Union{Nothing, Bool}}}(\"formatted_vals\"=>(Observable{Any} with 1 listeners. Value:\n",
       "[\"50.0\", \"55.0\", \"60.0\", \"65.0\", \"70.0\", \"75.0\", \"80.0\", \"85.0\", \"90.0\", \"95.0\"  …  \"130.0\", \"135.0\", \"140.0\", \"145.0\", \"150.0\", \"155.0\", \"160.0\", \"165.0\", \"170.0\", \"175.0\"], nothing),\"changes\"=>(Observable{Int64} with 1 listeners. Value:\n",
       "0, nothing),\"formatted_value\"=>(Observable{String} with 1 listeners. Value:\n",
       "\"110.0\", nothing),\"index\"=>(Observable{Any} with 2 listeners. Value:\n",
       "13, nothing)), Set(String[]), nothing, Any[\"knockout\"=>\"C:\\\\Users\\\\Oscar\\\\.julia\\\\packages\\\\Knockout\\\\JIqpG\\\\src\\\\..\\\\assets\\\\knockout.js\", \"knockout_punches\"=>\"C:\\\\Users\\\\Oscar\\\\.julia\\\\packages\\\\Knockout\\\\JIqpG\\\\src\\\\..\\\\assets\\\\knockout_punches.js\", \"C:\\\\Users\\\\Oscar\\\\.julia\\\\packages\\\\InteractBase\\\\Q4IkI\\\\src\\\\..\\\\assets\\\\all.js\", \"C:\\\\Users\\\\Oscar\\\\.julia\\\\packages\\\\InteractBase\\\\Q4IkI\\\\src\\\\..\\\\assets\\\\style.css\", \"C:\\\\Users\\\\Oscar\\\\.julia\\\\packages\\\\InteractBulma\\\\Ohu5Y\\\\src\\\\..\\\\assets\\\\main.css\"], Dict{Any,Any}(\"formatted_vals\"=>Any[JSString(\"(function (val){return (val!=this.model[\\\"formatted_vals\\\"]()) ? (this.valueFromJulia[\\\"formatted_vals\\\"]=true, this.model[\\\"formatted_vals\\\"](val)) : undefined})\")],\"_promises\"=>Dict{Any,Any}(\"importsLoaded\"=>Any[JSString(\"function (ko, koPunches) {\\n    ko.punches.enableAll();\\n    ko.bindingHandlers.numericValue = {\\n        init : function(element, valueAccessor, allBindings, data, context) {\\n            var stringified = ko.observable(ko.unwrap(valueAccessor()));\\n            stringified.subscribe(function(value) {\\n                var val = parseFloat(value);\\n                if (!isNaN(val)) {\\n                    valueAccessor()(val);\\n                }\\n            })\\n            valueAccessor().subscribe(function(value) {\\n                var str = JSON.stringify(value);\\n                if ((str == \\\"0\\\") && ([\\\"-0\\\", \\\"-0.\\\"].indexOf(stringified()) >= 0))\\n                     return;\\n                 if ([\\\"null\\\", \\\"\\\"].indexOf(str) >= 0)\\n                     return;\\n                stringified(str);\\n            })\\n            ko.applyBindingsToNode(element, { value: stringified, valueUpdate: allBindings.get('valueUpdate')}, context);\\n        }\\n    };\\n    var json_data = JSON.parse(\\\"{\\\\\\\"formatted_vals\\\\\\\":[\\\\\\\"50.0\\\\\\\",\\\\\\\"55.0\\\\\\\",\\\\\\\"60.0\\\\\\\",\\\\\\\"65.0\\\\\\\",\\\\\\\"70.0\\\\\\\",\\\\\\\"75.0\\\\\\\",\\\\\\\"80.0\\\\\\\",\\\\\\\"85.0\\\\\\\",\\\\\\\"90.0\\\\\\\",\\\\\\\"95.0\\\\\\\",\\\\\\\"100.0\\\\\\\",\\\\\\\"105.0\\\\\\\",\\\\\\\"110.0\\\\\\\",\\\\\\\"115.0\\\\\\\",\\\\\\\"120.0\\\\\\\",\\\\\\\"125.0\\\\\\\",\\\\\\\"130.0\\\\\\\",\\\\\\\"135.0\\\\\\\",\\\\\\\"140.0\\\\\\\",\\\\\\\"145.0\\\\\\\",\\\\\\\"150.0\\\\\\\",\\\\\\\"155.0\\\\\\\",\\\\\\\"160.0\\\\\\\",\\\\\\\"165.0\\\\\\\",\\\\\\\"170.0\\\\\\\",\\\\\\\"175.0\\\\\\\"],\\\\\\\"changes\\\\\\\":0,\\\\\\\"formatted_value\\\\\\\":\\\\\\\"110.0\\\\\\\",\\\\\\\"index\\\\\\\":13}\\\");\\n    var self = this;\\n    function AppViewModel() {\\n        for (var key in json_data) {\\n            var el = json_data[key];\\n            this[key] = Array.isArray(el) ? ko.observableArray(el) : ko.observable(el);\\n        }\\n        \\n        \\n        [this[\\\"formatted_vals\\\"].subscribe((function (val){!(this.valueFromJulia[\\\"formatted_vals\\\"]) ? (_webIOScope.setObservableValue({\\\"name\\\":\\\"formatted_vals\\\",\\\"scope\\\":\\\"knockout-component-a20e3c4e-598b-467c-8d93-f7be3dd51d2d\\\",\\\"id\\\":\\\"ob_43\\\",\\\"type\\\":\\\"observable\\\"},val)) : undefined; return this.valueFromJulia[\\\"formatted_vals\\\"]=false}),self),this[\\\"changes\\\"].subscribe((function (val){!(this.valueFromJulia[\\\"changes\\\"]) ? (_webIOScope.setObservableValue({\\\"name\\\":\\\"changes\\\",\\\"scope\\\":\\\"knockout-component-a20e3c4e-598b-467c-8d93-f7be3dd51d2d\\\",\\\"id\\\":\\\"ob_45\\\",\\\"type\\\":\\\"observable\\\"},val)) : undefined; return this.valueFromJulia[\\\"changes\\\"]=false}),self),this[\\\"formatted_value\\\"].subscribe((function (val){!(this.valueFromJulia[\\\"formatted_value\\\"]) ? (_webIOScope.setObservableValue({\\\"name\\\":\\\"formatted_value\\\",\\\"scope\\\":\\\"knockout-component-a20e3c4e-598b-467c-8d93-f7be3dd51d2d\\\",\\\"id\\\":\\\"ob_44\\\",\\\"type\\\":\\\"observable\\\"},val)) : undefined; return this.valueFromJulia[\\\"formatted_value\\\"]=false}),self),this[\\\"index\\\"].subscribe((function (val){!(this.valueFromJulia[\\\"index\\\"]) ? (_webIOScope.setObservableValue({\\\"name\\\":\\\"index\\\",\\\"scope\\\":\\\"knockout-component-a20e3c4e-598b-467c-8d93-f7be3dd51d2d\\\",\\\"id\\\":\\\"ob_42\\\",\\\"type\\\":\\\"observable\\\"},val)) : undefined; return this.valueFromJulia[\\\"index\\\"]=false}),self)]\\n        \\n    }\\n    self.model = new AppViewModel();\\n    self.valueFromJulia = {};\\n    for (var key in json_data) {\\n        self.valueFromJulia[key] = false;\\n    }\\n    ko.applyBindings(self.model, self.dom);\\n}\\n\")]),\"changes\"=>Any[JSString(\"(function (val){return (val!=this.model[\\\"changes\\\"]()) ? (this.valueFromJulia[\\\"changes\\\"]=true, this.model[\\\"changes\\\"](val)) : undefined})\")],\"formatted_value\"=>Any[JSString(\"(function (val){return (val!=this.model[\\\"formatted_value\\\"]()) ? (this.valueFromJulia[\\\"formatted_value\\\"]=true, this.model[\\\"formatted_value\\\"](val)) : undefined})\")],\"index\"=>Any[JSString(\"(function (val){return (val!=this.model[\\\"index\\\"]()) ? (this.valueFromJulia[\\\"index\\\"]=true, this.model[\\\"index\\\"](val)) : undefined})\"), JSString(\"(function (val){return _webIOScope.setObservableValue({\\\"name\\\":\\\"formatted_value\\\",\\\"scope\\\":\\\"knockout-component-a20e3c4e-598b-467c-8d93-f7be3dd51d2d\\\",\\\"id\\\":\\\"ob_44\\\",\\\"type\\\":\\\"observable\\\"},_webIOScope.getObservableValue({\\\"name\\\":\\\"formatted_vals\\\",\\\"scope\\\":\\\"knockout-component-a20e3c4e-598b-467c-8d93-f7be3dd51d2d\\\",\\\"id\\\":\\\"ob_43\\\",\\\"type\\\":\\\"observable\\\"})[(_webIOScope.getObservableValue({\\\"name\\\":\\\"index\\\",\\\"scope\\\":\\\"knockout-component-a20e3c4e-598b-467c-8d93-f7be3dd51d2d\\\",\\\"id\\\":\\\"ob_42\\\",\\\"type\\\":\\\"observable\\\"})-1)])})\")]), ConnectionPool(Channel{Any}(sz_max:9223372036854775807,sz_curr:0), Set(AbstractConnection[]), Channel{AbstractConnection}(sz_max:32,sz_curr:0))), ##52#53{#dom#13{##dom#11#12{Dict{Any,Any},DOM}},typeof(scope)}(#dom#13{##dom#11#12{Dict{Any,Any},DOM}}(##dom#11#12{Dict{Any,Any},DOM}(Dict{Any,Any}(:className=>\"field\"), DOM(:html, :div))), scope))), Observable{Any} with 0 listeners. Value:\n",
       "Plot{Plots.GRBackend() n=4}, nothing, getfield(Main, Symbol(\"##24#26\")){Observable{Any}}(Observable{Any} with 0 listeners. Value:\n",
       "Plot{Plots.GRBackend() n=4}))"
      ]
     },
     "execution_count": 95,
     "metadata": {
      "application/vnd.webio.node+json": {
       "kernelId": "37e05cd7-ffa5-4437-af5f-166661ced89b"
      }
     },
     "output_type": "execute_result"
    }
   ],
   "source": [
    "@manipulate for cost_of_wind in COST_WIND .* (1:0.1:3.5)\n",
    "    # Define the vectors of outputs\n",
    "    objectives = Float64[] \n",
    "    wind_dispatch = Float64[]\n",
    "    G1_dispatch = Float64[]\n",
    "    G2_dispatch = Float64[]\n",
    "    \n",
    "    cost_of_g1 = COST_GENERATION[1] .* (0.5:0.01:3.0)\n",
    "    for c_g1 in cost_of_g1\n",
    "        # update the incremental cost of the first generator at every iteration\n",
    "        solution = solve_economic_dispatch(\n",
    "            cost_of_thermal = [c_g1, COST_GENERATION[2]],\n",
    "            cost_of_wind = cost_of_wind\n",
    "        )\n",
    "        # Add the solution of the economic dispatch problem to the respective vectors\n",
    "        push!(objectives, solution.cost)\n",
    "        push!(wind_dispatch, solution.wind_generation)\n",
    "        push!(G1_dispatch, solution.generation[1])\n",
    "        push!(G2_dispatch, solution.generation[2])\n",
    "    end\n",
    "    \n",
    "    # Plot the outputs\n",
    "    plot(\n",
    "        # Plot the total cost\n",
    "        plot(cost_of_g1, objectives,\n",
    "            ylabel = \"Total cost\",\n",
    "            ylims = (50000, 200000)\n",
    "        ),\n",
    "        # Plot the power output of Generator 1\n",
    "        plot(cost_of_g1, G1_dispatch,\n",
    "            ylabel = \"Dispatch: G1\",\n",
    "            ylims = (0, 1100)\n",
    "        ),\n",
    "        # Plot the power output of Generator 2    \n",
    "        plot(cost_of_g1, G2_dispatch,\n",
    "            ylabel = \"Dispatch: G2\",\n",
    "            ylims = (0, 1600)\n",
    "        ),\n",
    "        # Plot the wind power output\n",
    "        plot(cost_of_g1, wind_dispatch,\n",
    "            ylabel = \"Dispatch: Wind\",\n",
    "            ylims = (0, 250)\n",
    "        ),\n",
    "        legend = false,\n",
    "        xlabel = \"Cost of G1\"\n",
    "    )\n",
    "end"
   ]
  },
  {
   "cell_type": "markdown",
   "metadata": {},
   "source": [
    "## Nonlinear example\n",
    "\n",
    "JuMP can also be used to solve non-linear problems (NLP). We saw a brief hint of this earlier when we used Ipopt and the `@NLobjective` macro. In the next example, we add nonlinearity to the cost of the second generator. The new cost of generation is\n",
    "$$\\text{generation_cost} = c_1^g\\times g_1 + \\frac{c_2^g\\times  g_2^{1.5}}{\\sqrt{1000}}.$$\n"
   ]
  },
  {
   "cell_type": "code",
   "execution_count": 98,
   "metadata": {},
   "outputs": [
    {
     "data": {
      "text/plain": [
       "solve_nonlinear_economic_dispatch"
      ]
     },
     "execution_count": 98,
     "metadata": {},
     "output_type": "execute_result"
    }
   ],
   "source": [
    "\"\"\"\n",
    "    solve_economic_dispatch(; cost_of_thermal::Vector, cost_of_wind)\n",
    "\n",
    "Formulate and solve the economic dispatch problem given the cost of generation \n",
    "for the two thermal generators and the cost of wind generation.\n",
    "\"\"\"\n",
    "function solve_nonlinear_economic_dispatch(;\n",
    "        cost_of_thermal = COST_GENERATION, \n",
    "        cost_of_wind = COST_WIND)\n",
    "    economic_dispatch = Model(solver = IPOPT_SOLVER) \n",
    "    \n",
    "    @variables(economic_dispatch, begin\n",
    "        g[i=1:2] >= 0\n",
    "        w >= 0\n",
    "    end)\n",
    "\n",
    "    # ===========================================================\n",
    "    # Look! This bit changed.\n",
    "    function generator_cost(g1, g2)\n",
    "        return cost_of_thermal[1] * g1 + cost_of_thermal[2] * g2^1.5 / sqrt(1000)\n",
    "    end\n",
    "    JuMP.register(economic_dispatch, :generator_cost, 2, generator_cost, autodiff=true)\n",
    "    @NLobjective(economic_dispatch, Min, generator_cost(g[1], g[2]) + cost_of_wind * w)\n",
    "    # ===========================================================\n",
    "    \n",
    "    for i in 1:2\n",
    "        @constraint(economic_dispatch, g[i] <= GENERATION_MAX[i])\n",
    "        @constraint(economic_dispatch, g[i] >= GENERATION_MIN[i])\n",
    "    end    \n",
    "    @constraints(economic_dispatch, begin\n",
    "        w <= WIND_MAX\n",
    "        sum(g[i] for i in 1:2) + w == DEMAND\n",
    "    end)\n",
    "    solve(economic_dispatch)\n",
    "    return (\n",
    "        generation = getvalue(g), \n",
    "        wind_generation = getvalue(w),\n",
    "        wind_spillage = WIND_MAX - getvalue(w),\n",
    "        cost = getobjectivevalue(economic_dispatch)\n",
    "    )\n",
    "end"
   ]
  },
  {
   "cell_type": "code",
   "execution_count": 99,
   "metadata": {},
   "outputs": [
    {
     "data": {
      "application/vnd.webio.node+json": {
       "children": [
        {
         "children": [
          {
           "children": [
            {
             "children": [
              {
               "children": [
                {
                 "children": [
                  "cost_of_wind"
                 ],
                 "instanceArgs": {
                  "namespace": "html",
                  "tag": "label"
                 },
                 "nodeType": "DOM",
                 "props": {
                  "className": "interact ",
                  "style": {
                   "padding": "5px 10px 0px 10px"
                  }
                 },
                 "type": "node"
                }
               ],
               "instanceArgs": {
                "namespace": "html",
                "tag": "div"
               },
               "nodeType": "DOM",
               "props": {
                "attributes": {
                 "style": "text-align:right;width:18%"
                }
               },
               "type": "node"
              },
              {
               "children": [
                {
                 "children": [],
                 "instanceArgs": {
                  "namespace": "html",
                  "tag": "input"
                 },
                 "nodeType": "DOM",
                 "props": {
                  "attributes": {
                   "data-bind": "numericValue: index, valueUpdate: 'input', event: {change : function () {this.changes(this.changes()+1)}}",
                   "orient": "horizontal",
                   "type": "range"
                  },
                  "className": "slider slider is-fullwidth",
                  "max": 21,
                  "min": 1,
                  "step": 1,
                  "style": {}
                 },
                 "type": "node"
                }
               ],
               "instanceArgs": {
                "namespace": "html",
                "tag": "div"
               },
               "nodeType": "DOM",
               "props": {
                "attributes": {
                 "style": "flex-grow:1; margin: 0 2%"
                }
               },
               "type": "node"
              },
              {
               "children": [
                {
                 "children": [],
                 "instanceArgs": {
                  "namespace": "html",
                  "tag": "p"
                 },
                 "nodeType": "DOM",
                 "props": {
                  "attributes": {
                   "data-bind": "text: formatted_value"
                  }
                 },
                 "type": "node"
                }
               ],
               "instanceArgs": {
                "namespace": "html",
                "tag": "div"
               },
               "nodeType": "DOM",
               "props": {
                "attributes": {
                 "style": "width:18%"
                }
               },
               "type": "node"
              }
             ],
             "instanceArgs": {
              "namespace": "html",
              "tag": "div"
             },
             "nodeType": "DOM",
             "props": {
              "attributes": {
               "style": "display:flex; justify-content:center; align-items:center;"
              }
             },
             "type": "node"
            }
           ],
           "instanceArgs": {
            "handlers": {
             "_promises": {
              "importsLoaded": [
               "function (ko, koPunches) {\n    ko.punches.enableAll();\n    ko.bindingHandlers.numericValue = {\n        init : function(element, valueAccessor, allBindings, data, context) {\n            var stringified = ko.observable(ko.unwrap(valueAccessor()));\n            stringified.subscribe(function(value) {\n                var val = parseFloat(value);\n                if (!isNaN(val)) {\n                    valueAccessor()(val);\n                }\n            })\n            valueAccessor().subscribe(function(value) {\n                var str = JSON.stringify(value);\n                if ((str == \"0\") && ([\"-0\", \"-0.\"].indexOf(stringified()) >= 0))\n                     return;\n                 if ([\"null\", \"\"].indexOf(str) >= 0)\n                     return;\n                stringified(str);\n            })\n            ko.applyBindingsToNode(element, { value: stringified, valueUpdate: allBindings.get('valueUpdate')}, context);\n        }\n    };\n    var json_data = JSON.parse(\"{\\\"formatted_vals\\\":[\\\"50.0\\\",\\\"55.0\\\",\\\"60.0\\\",\\\"65.0\\\",\\\"70.0\\\",\\\"75.0\\\",\\\"80.0\\\",\\\"85.0\\\",\\\"90.0\\\",\\\"95.0\\\",\\\"100.0\\\",\\\"105.0\\\",\\\"110.0\\\",\\\"115.0\\\",\\\"120.0\\\",\\\"125.0\\\",\\\"130.0\\\",\\\"135.0\\\",\\\"140.0\\\",\\\"145.0\\\",\\\"150.0\\\"],\\\"changes\\\":0,\\\"formatted_value\\\":\\\"100.0\\\",\\\"index\\\":11}\");\n    var self = this;\n    function AppViewModel() {\n        for (var key in json_data) {\n            var el = json_data[key];\n            this[key] = Array.isArray(el) ? ko.observableArray(el) : ko.observable(el);\n        }\n        \n        \n        [this[\"formatted_vals\"].subscribe((function (val){!(this.valueFromJulia[\"formatted_vals\"]) ? (_webIOScope.setObservableValue({\"name\":\"formatted_vals\",\"scope\":\"knockout-component-f67fed6a-0f0c-45ca-91f7-cef1fff56aa8\",\"id\":\"ob_63\",\"type\":\"observable\"},val)) : undefined; return this.valueFromJulia[\"formatted_vals\"]=false}),self),this[\"changes\"].subscribe((function (val){!(this.valueFromJulia[\"changes\"]) ? (_webIOScope.setObservableValue({\"name\":\"changes\",\"scope\":\"knockout-component-f67fed6a-0f0c-45ca-91f7-cef1fff56aa8\",\"id\":\"ob_65\",\"type\":\"observable\"},val)) : undefined; return this.valueFromJulia[\"changes\"]=false}),self),this[\"formatted_value\"].subscribe((function (val){!(this.valueFromJulia[\"formatted_value\"]) ? (_webIOScope.setObservableValue({\"name\":\"formatted_value\",\"scope\":\"knockout-component-f67fed6a-0f0c-45ca-91f7-cef1fff56aa8\",\"id\":\"ob_64\",\"type\":\"observable\"},val)) : undefined; return this.valueFromJulia[\"formatted_value\"]=false}),self),this[\"index\"].subscribe((function (val){!(this.valueFromJulia[\"index\"]) ? (_webIOScope.setObservableValue({\"name\":\"index\",\"scope\":\"knockout-component-f67fed6a-0f0c-45ca-91f7-cef1fff56aa8\",\"id\":\"ob_62\",\"type\":\"observable\"},val)) : undefined; return this.valueFromJulia[\"index\"]=false}),self)]\n        \n    }\n    self.model = new AppViewModel();\n    self.valueFromJulia = {};\n    for (var key in json_data) {\n        self.valueFromJulia[key] = false;\n    }\n    ko.applyBindings(self.model, self.dom);\n}\n"
              ]
             },
             "changes": [
              "(function (val){return (val!=this.model[\"changes\"]()) ? (this.valueFromJulia[\"changes\"]=true, this.model[\"changes\"](val)) : undefined})"
             ],
             "formatted_vals": [
              "(function (val){return (val!=this.model[\"formatted_vals\"]()) ? (this.valueFromJulia[\"formatted_vals\"]=true, this.model[\"formatted_vals\"](val)) : undefined})"
             ],
             "formatted_value": [
              "(function (val){return (val!=this.model[\"formatted_value\"]()) ? (this.valueFromJulia[\"formatted_value\"]=true, this.model[\"formatted_value\"](val)) : undefined})"
             ],
             "index": [
              "(function (val){return (val!=this.model[\"index\"]()) ? (this.valueFromJulia[\"index\"]=true, this.model[\"index\"](val)) : undefined})",
              "(function (val){return _webIOScope.setObservableValue({\"name\":\"formatted_value\",\"scope\":\"knockout-component-f67fed6a-0f0c-45ca-91f7-cef1fff56aa8\",\"id\":\"ob_64\",\"type\":\"observable\"},_webIOScope.getObservableValue({\"name\":\"formatted_vals\",\"scope\":\"knockout-component-f67fed6a-0f0c-45ca-91f7-cef1fff56aa8\",\"id\":\"ob_63\",\"type\":\"observable\"})[(_webIOScope.getObservableValue({\"name\":\"index\",\"scope\":\"knockout-component-f67fed6a-0f0c-45ca-91f7-cef1fff56aa8\",\"id\":\"ob_62\",\"type\":\"observable\"})-1)])})"
             ]
            },
            "id": "knockout-component-f67fed6a-0f0c-45ca-91f7-cef1fff56aa8",
            "imports": {
             "data": [
              {
               "name": "knockout",
               "type": "js",
               "url": "/assetserver/25899bae89003c9f86e9455b28fa31a2ae55d476-knockout.js"
              },
              {
               "name": "knockout_punches",
               "type": "js",
               "url": "/assetserver/fcb49798ed2cca503bfcbfacd04a1a3983159fc2-knockout_punches.js"
              },
              {
               "name": null,
               "type": "js",
               "url": "/assetserver/05b50923e654cdabbc53eb1f28137c1bac627139-all.js"
              },
              {
               "name": null,
               "type": "css",
               "url": "/assetserver/92e5308795e77213db1992d5f04bd12609a543ac-style.css"
              },
              {
               "name": null,
               "type": "css",
               "url": "/assetserver/8786809522076f1019d38a12fad8b081c302304d-main.css"
              }
             ],
             "type": "async_block"
            },
            "observables": {
             "changes": {
              "id": "ob_65",
              "sync": false,
              "value": 0
             },
             "formatted_vals": {
              "id": "ob_63",
              "sync": false,
              "value": [
               "50.0",
               "55.0",
               "60.0",
               "65.0",
               "70.0",
               "75.0",
               "80.0",
               "85.0",
               "90.0",
               "95.0",
               "100.0",
               "105.0",
               "110.0",
               "115.0",
               "120.0",
               "125.0",
               "130.0",
               "135.0",
               "140.0",
               "145.0",
               "150.0"
              ]
             },
             "formatted_value": {
              "id": "ob_64",
              "sync": false,
              "value": "100.0"
             },
             "index": {
              "id": "ob_62",
              "sync": true,
              "value": 11
             }
            },
            "systemjs_options": null
           },
           "nodeType": "Scope",
           "props": {},
           "type": "node"
          }
         ],
         "instanceArgs": {
          "namespace": "html",
          "tag": "div"
         },
         "nodeType": "DOM",
         "props": {
          "className": "field"
         },
         "type": "node"
        },
        {
         "children": [
          {
           "children": [],
           "instanceArgs": {
            "id": "ob_70",
            "name": "obs-node"
           },
           "nodeType": "ObservableNode",
           "props": {},
           "type": "node"
          }
         ],
         "instanceArgs": {
          "handlers": {},
          "id": "scope-7de87224-0c7a-4ae5-9f59-97f6f0cbe8a6",
          "imports": {
           "data": [],
           "type": "async_block"
          },
          "observables": {
           "obs-node": {
            "id": "ob_70",
            "sync": false,
            "value": {
             "children": [
              {
               "children": [],
               "instanceArgs": {
                "namespace": "html",
                "tag": "div"
               },
               "nodeType": "DOM",
               "props": {
                "setInnerHtml": "<?xml version=\"1.0\" encoding=\"utf-8\"?>\n<svg xmlns=\"http://www.w3.org/2000/svg\" xmlns:xlink=\"http://www.w3.org/1999/xlink\" width=\"600\" height=\"400\" viewBox=\"0 0 2400 1600\">\n<defs>\n  <clipPath id=\"clip4200\">\n    <rect x=\"0\" y=\"0\" width=\"2000\" height=\"2000\"/>\n  </clipPath>\n</defs>\n<defs>\n  <clipPath id=\"clip4201\">\n    <rect x=\"0\" y=\"0\" width=\"2400\" height=\"1600\"/>\n  </clipPath>\n</defs>\n<polygon clip-path=\"url(#clip4201)\" points=\"\n0,1600 2400,1600 2400,0 0,0 \n  \" fill=\"#ffffff\" fill-rule=\"evenodd\" fill-opacity=\"1\"/>\n<defs>\n  <clipPath id=\"clip4202\">\n    <rect x=\"480\" y=\"0\" width=\"1681\" height=\"1600\"/>\n  </clipPath>\n</defs>\n<polygon clip-path=\"url(#clip4201)\" points=\"\n371.82,640.483 1174.9,640.483 1174.9,47.2441 371.82,47.2441 \n  \" fill=\"#ffffff\" fill-rule=\"evenodd\" fill-opacity=\"1\"/>\n<defs>\n  <clipPath id=\"clip4203\">\n    <rect x=\"371\" y=\"47\" width=\"804\" height=\"594\"/>\n  </clipPath>\n</defs>\n<polyline clip-path=\"url(#clip4203)\" style=\"stroke:#000000; stroke-width:2; stroke-opacity:0.1; fill:none\" points=\"\n  485.464,640.483 485.464,47.2441 \n  \"/>\n<polyline clip-path=\"url(#clip4203)\" style=\"stroke:#000000; stroke-width:2; stroke-opacity:0.1; fill:none\" points=\"\n  606.684,640.483 606.684,47.2441 \n  \"/>\n<polyline clip-path=\"url(#clip4203)\" style=\"stroke:#000000; stroke-width:2; stroke-opacity:0.1; fill:none\" points=\"\n  727.905,640.483 727.905,47.2441 \n  \"/>\n<polyline clip-path=\"url(#clip4203)\" style=\"stroke:#000000; stroke-width:2; stroke-opacity:0.1; fill:none\" points=\"\n  849.125,640.483 849.125,47.2441 \n  \"/>\n<polyline clip-path=\"url(#clip4203)\" style=\"stroke:#000000; stroke-width:2; stroke-opacity:0.1; fill:none\" points=\"\n  970.345,640.483 970.345,47.2441 \n  \"/>\n<polyline clip-path=\"url(#clip4203)\" style=\"stroke:#000000; stroke-width:2; stroke-opacity:0.1; fill:none\" points=\"\n  1091.57,640.483 1091.57,47.2441 \n  \"/>\n<polyline clip-path=\"url(#clip4203)\" style=\"stroke:#000000; stroke-width:2; stroke-opacity:0.1; fill:none\" points=\"\n  371.82,640.483 1174.9,640.483 \n  \"/>\n<polyline clip-path=\"url(#clip4203)\" style=\"stroke:#000000; stroke-width:2; stroke-opacity:0.1; fill:none\" points=\"\n  371.82,442.736 1174.9,442.736 \n  \"/>\n<polyline clip-path=\"url(#clip4203)\" style=\"stroke:#000000; stroke-width:2; stroke-opacity:0.1; fill:none\" points=\"\n  371.82,244.99 1174.9,244.99 \n  \"/>\n<polyline clip-path=\"url(#clip4203)\" style=\"stroke:#000000; stroke-width:2; stroke-opacity:0.1; fill:none\" points=\"\n  371.82,47.2441 1174.9,47.2441 \n  \"/>\n<polyline clip-path=\"url(#clip4201)\" style=\"stroke:#000000; stroke-width:4; stroke-opacity:1; fill:none\" points=\"\n  371.82,640.483 1174.9,640.483 \n  \"/>\n<polyline clip-path=\"url(#clip4201)\" style=\"stroke:#000000; stroke-width:4; stroke-opacity:1; fill:none\" points=\"\n  371.82,640.483 371.82,47.2441 \n  \"/>\n<polyline clip-path=\"url(#clip4201)\" style=\"stroke:#000000; stroke-width:4; stroke-opacity:1; fill:none\" points=\"\n  485.464,640.483 485.464,631.584 \n  \"/>\n<polyline clip-path=\"url(#clip4201)\" style=\"stroke:#000000; stroke-width:4; stroke-opacity:1; fill:none\" points=\"\n  606.684,640.483 606.684,631.584 \n  \"/>\n<polyline clip-path=\"url(#clip4201)\" style=\"stroke:#000000; stroke-width:4; stroke-opacity:1; fill:none\" points=\"\n  727.905,640.483 727.905,631.584 \n  \"/>\n<polyline clip-path=\"url(#clip4201)\" style=\"stroke:#000000; stroke-width:4; stroke-opacity:1; fill:none\" points=\"\n  849.125,640.483 849.125,631.584 \n  \"/>\n<polyline clip-path=\"url(#clip4201)\" style=\"stroke:#000000; stroke-width:4; stroke-opacity:1; fill:none\" points=\"\n  970.345,640.483 970.345,631.584 \n  \"/>\n<polyline clip-path=\"url(#clip4201)\" style=\"stroke:#000000; stroke-width:4; stroke-opacity:1; fill:none\" points=\"\n  1091.57,640.483 1091.57,631.584 \n  \"/>\n<polyline clip-path=\"url(#clip4201)\" style=\"stroke:#000000; stroke-width:4; stroke-opacity:1; fill:none\" points=\"\n  371.82,640.483 383.866,640.483 \n  \"/>\n<polyline clip-path=\"url(#clip4201)\" style=\"stroke:#000000; stroke-width:4; stroke-opacity:1; fill:none\" points=\"\n  371.82,442.736 383.866,442.736 \n  \"/>\n<polyline clip-path=\"url(#clip4201)\" style=\"stroke:#000000; stroke-width:4; stroke-opacity:1; fill:none\" points=\"\n  371.82,244.99 383.866,244.99 \n  \"/>\n<polyline clip-path=\"url(#clip4201)\" style=\"stroke:#000000; stroke-width:4; stroke-opacity:1; fill:none\" points=\"\n  371.82,47.2441 383.866,47.2441 \n  \"/>\n<g clip-path=\"url(#clip4201)\">\n<text style=\"fill:#000000; fill-opacity:1; font-family:Arial,Helvetica Neue,Helvetica,sans-serif; font-size:48px; text-anchor:middle;\" transform=\"rotate(0, 485.464, 694.483)\" x=\"485.464\" y=\"694.483\">40</text>\n</g>\n<g clip-path=\"url(#clip4201)\">\n<text style=\"fill:#000000; fill-opacity:1; font-family:Arial,Helvetica Neue,Helvetica,sans-serif; font-size:48px; text-anchor:middle;\" transform=\"rotate(0, 606.684, 694.483)\" x=\"606.684\" y=\"694.483\">60</text>\n</g>\n<g clip-path=\"url(#clip4201)\">\n<text style=\"fill:#000000; fill-opacity:1; font-family:Arial,Helvetica Neue,Helvetica,sans-serif; font-size:48px; text-anchor:middle;\" transform=\"rotate(0, 727.905, 694.483)\" x=\"727.905\" y=\"694.483\">80</text>\n</g>\n<g clip-path=\"url(#clip4201)\">\n<text style=\"fill:#000000; fill-opacity:1; font-family:Arial,Helvetica Neue,Helvetica,sans-serif; font-size:48px; text-anchor:middle;\" transform=\"rotate(0, 849.125, 694.483)\" x=\"849.125\" y=\"694.483\">100</text>\n</g>\n<g clip-path=\"url(#clip4201)\">\n<text style=\"fill:#000000; fill-opacity:1; font-family:Arial,Helvetica Neue,Helvetica,sans-serif; font-size:48px; text-anchor:middle;\" transform=\"rotate(0, 970.345, 694.483)\" x=\"970.345\" y=\"694.483\">120</text>\n</g>\n<g clip-path=\"url(#clip4201)\">\n<text style=\"fill:#000000; fill-opacity:1; font-family:Arial,Helvetica Neue,Helvetica,sans-serif; font-size:48px; text-anchor:middle;\" transform=\"rotate(0, 1091.57, 694.483)\" x=\"1091.57\" y=\"694.483\">140</text>\n</g>\n<g clip-path=\"url(#clip4201)\">\n<text style=\"fill:#000000; fill-opacity:1; font-family:Arial,Helvetica Neue,Helvetica,sans-serif; font-size:48px; text-anchor:start;\" transform=\"rotate(0, 177.535, 664.21)\" x=\"177.535\" y=\"664.21\">5.0×10</text>\n</g>\n<g clip-path=\"url(#clip4201)\">\n<text style=\"fill:#000000; fill-opacity:1; font-family:Arial,Helvetica Neue,Helvetica,sans-serif; font-size:38px; text-anchor:start;\" transform=\"rotate(0, 326.075, 636.8)\" x=\"326.075\" y=\"636.8\">4</text>\n</g>\n<g clip-path=\"url(#clip4201)\">\n<text style=\"fill:#000000; fill-opacity:1; font-family:Arial,Helvetica Neue,Helvetica,sans-serif; font-size:48px; text-anchor:start;\" transform=\"rotate(0, 177.535, 466.464)\" x=\"177.535\" y=\"466.464\">1.0×10</text>\n</g>\n<g clip-path=\"url(#clip4201)\">\n<text style=\"fill:#000000; fill-opacity:1; font-family:Arial,Helvetica Neue,Helvetica,sans-serif; font-size:38px; text-anchor:start;\" transform=\"rotate(0, 326.075, 439.054)\" x=\"326.075\" y=\"439.054\">5</text>\n</g>\n<g clip-path=\"url(#clip4201)\">\n<text style=\"fill:#000000; fill-opacity:1; font-family:Arial,Helvetica Neue,Helvetica,sans-serif; font-size:48px; text-anchor:start;\" transform=\"rotate(0, 177.535, 268.718)\" x=\"177.535\" y=\"268.718\">1.5×10</text>\n</g>\n<g clip-path=\"url(#clip4201)\">\n<text style=\"fill:#000000; fill-opacity:1; font-family:Arial,Helvetica Neue,Helvetica,sans-serif; font-size:38px; text-anchor:start;\" transform=\"rotate(0, 326.075, 241.307)\" x=\"326.075\" y=\"241.307\">5</text>\n</g>\n<g clip-path=\"url(#clip4201)\">\n<text style=\"fill:#000000; fill-opacity:1; font-family:Arial,Helvetica Neue,Helvetica,sans-serif; font-size:48px; text-anchor:start;\" transform=\"rotate(0, 177.535, 70.9717)\" x=\"177.535\" y=\"70.9717\">2.0×10</text>\n</g>\n<g clip-path=\"url(#clip4201)\">\n<text style=\"fill:#000000; fill-opacity:1; font-family:Arial,Helvetica Neue,Helvetica,sans-serif; font-size:38px; text-anchor:start;\" transform=\"rotate(0, 326.075, 43.5613)\" x=\"326.075\" y=\"43.5613\">5</text>\n</g>\n<g clip-path=\"url(#clip4201)\">\n<text style=\"fill:#000000; fill-opacity:1; font-family:Arial,Helvetica Neue,Helvetica,sans-serif; font-size:66px; text-anchor:middle;\" transform=\"rotate(0, 773.362, 790.4)\" x=\"773.362\" y=\"790.4\">Cost of G1</text>\n</g>\n<g clip-path=\"url(#clip4201)\">\n<text style=\"fill:#000000; fill-opacity:1; font-family:Arial,Helvetica Neue,Helvetica,sans-serif; font-size:66px; text-anchor:middle;\" transform=\"rotate(-90, 57.6, 343.863)\" x=\"57.6\" y=\"343.863\">Total cost</text>\n</g>\n<polyline clip-path=\"url(#clip4203)\" style=\"stroke:#009af9; stroke-width:4; stroke-opacity:1; fill:none\" points=\"\n  394.549,600.201 424.854,580.426 455.159,560.652 485.464,540.877 515.769,521.103 546.074,501.328 576.379,481.553 606.684,461.779 636.989,442.004 667.294,422.229 \n  697.6,402.455 727.905,382.68 758.21,362.906 788.515,343.131 818.82,323.356 849.125,303.582 879.43,287.11 909.735,271.561 940.04,256.98 970.345,243.408 \n  1000.65,230.892 1030.96,219.474 1061.26,209.198 1091.57,200.109 1121.87,192.251 1152.18,185.666 \n  \"/>\n<polygon clip-path=\"url(#clip4201)\" points=\"\n1518.17,640.483 2321.26,640.483 2321.26,47.2441 1518.17,47.2441 \n  \" fill=\"#ffffff\" fill-rule=\"evenodd\" fill-opacity=\"1\"/>\n<defs>\n  <clipPath id=\"clip4204\">\n    <rect x=\"1518\" y=\"47\" width=\"804\" height=\"594\"/>\n  </clipPath>\n</defs>\n<polyline clip-path=\"url(#clip4204)\" style=\"stroke:#000000; stroke-width:2; stroke-opacity:0.1; fill:none\" points=\"\n  1631.82,640.483 1631.82,47.2441 \n  \"/>\n<polyline clip-path=\"url(#clip4204)\" style=\"stroke:#000000; stroke-width:2; stroke-opacity:0.1; fill:none\" points=\"\n  1753.04,640.483 1753.04,47.2441 \n  \"/>\n<polyline clip-path=\"url(#clip4204)\" style=\"stroke:#000000; stroke-width:2; stroke-opacity:0.1; fill:none\" points=\"\n  1874.26,640.483 1874.26,47.2441 \n  \"/>\n<polyline clip-path=\"url(#clip4204)\" style=\"stroke:#000000; stroke-width:2; stroke-opacity:0.1; fill:none\" points=\"\n  1995.48,640.483 1995.48,47.2441 \n  \"/>\n<polyline clip-path=\"url(#clip4204)\" style=\"stroke:#000000; stroke-width:2; stroke-opacity:0.1; fill:none\" points=\"\n  2116.7,640.483 2116.7,47.2441 \n  \"/>\n<polyline clip-path=\"url(#clip4204)\" style=\"stroke:#000000; stroke-width:2; stroke-opacity:0.1; fill:none\" points=\"\n  2237.92,640.483 2237.92,47.2441 \n  \"/>\n<polyline clip-path=\"url(#clip4204)\" style=\"stroke:#000000; stroke-width:2; stroke-opacity:0.1; fill:none\" points=\"\n  1518.17,640.483 2321.26,640.483 \n  \"/>\n<polyline clip-path=\"url(#clip4204)\" style=\"stroke:#000000; stroke-width:2; stroke-opacity:0.1; fill:none\" points=\"\n  1518.17,505.656 2321.26,505.656 \n  \"/>\n<polyline clip-path=\"url(#clip4204)\" style=\"stroke:#000000; stroke-width:2; stroke-opacity:0.1; fill:none\" points=\"\n  1518.17,370.829 2321.26,370.829 \n  \"/>\n<polyline clip-path=\"url(#clip4204)\" style=\"stroke:#000000; stroke-width:2; stroke-opacity:0.1; fill:none\" points=\"\n  1518.17,236.002 2321.26,236.002 \n  \"/>\n<polyline clip-path=\"url(#clip4204)\" style=\"stroke:#000000; stroke-width:2; stroke-opacity:0.1; fill:none\" points=\"\n  1518.17,101.175 2321.26,101.175 \n  \"/>\n<polyline clip-path=\"url(#clip4201)\" style=\"stroke:#000000; stroke-width:4; stroke-opacity:1; fill:none\" points=\"\n  1518.17,640.483 2321.26,640.483 \n  \"/>\n<polyline clip-path=\"url(#clip4201)\" style=\"stroke:#000000; stroke-width:4; stroke-opacity:1; fill:none\" points=\"\n  1518.17,640.483 1518.17,47.2441 \n  \"/>\n<polyline clip-path=\"url(#clip4201)\" style=\"stroke:#000000; stroke-width:4; stroke-opacity:1; fill:none\" points=\"\n  1631.82,640.483 1631.82,631.584 \n  \"/>\n<polyline clip-path=\"url(#clip4201)\" style=\"stroke:#000000; stroke-width:4; stroke-opacity:1; fill:none\" points=\"\n  1753.04,640.483 1753.04,631.584 \n  \"/>\n<polyline clip-path=\"url(#clip4201)\" style=\"stroke:#000000; stroke-width:4; stroke-opacity:1; fill:none\" points=\"\n  1874.26,640.483 1874.26,631.584 \n  \"/>\n<polyline clip-path=\"url(#clip4201)\" style=\"stroke:#000000; stroke-width:4; stroke-opacity:1; fill:none\" points=\"\n  1995.48,640.483 1995.48,631.584 \n  \"/>\n<polyline clip-path=\"url(#clip4201)\" style=\"stroke:#000000; stroke-width:4; stroke-opacity:1; fill:none\" points=\"\n  2116.7,640.483 2116.7,631.584 \n  \"/>\n<polyline clip-path=\"url(#clip4201)\" style=\"stroke:#000000; stroke-width:4; stroke-opacity:1; fill:none\" points=\"\n  2237.92,640.483 2237.92,631.584 \n  \"/>\n<polyline clip-path=\"url(#clip4201)\" style=\"stroke:#000000; stroke-width:4; stroke-opacity:1; fill:none\" points=\"\n  1518.17,640.483 1530.22,640.483 \n  \"/>\n<polyline clip-path=\"url(#clip4201)\" style=\"stroke:#000000; stroke-width:4; stroke-opacity:1; fill:none\" points=\"\n  1518.17,505.656 1530.22,505.656 \n  \"/>\n<polyline clip-path=\"url(#clip4201)\" style=\"stroke:#000000; stroke-width:4; stroke-opacity:1; fill:none\" points=\"\n  1518.17,370.829 1530.22,370.829 \n  \"/>\n<polyline clip-path=\"url(#clip4201)\" style=\"stroke:#000000; stroke-width:4; stroke-opacity:1; fill:none\" points=\"\n  1518.17,236.002 1530.22,236.002 \n  \"/>\n<polyline clip-path=\"url(#clip4201)\" style=\"stroke:#000000; stroke-width:4; stroke-opacity:1; fill:none\" points=\"\n  1518.17,101.175 1530.22,101.175 \n  \"/>\n<g clip-path=\"url(#clip4201)\">\n<text style=\"fill:#000000; fill-opacity:1; font-family:Arial,Helvetica Neue,Helvetica,sans-serif; font-size:48px; text-anchor:middle;\" transform=\"rotate(0, 1631.82, 694.483)\" x=\"1631.82\" y=\"694.483\">40</text>\n</g>\n<g clip-path=\"url(#clip4201)\">\n<text style=\"fill:#000000; fill-opacity:1; font-family:Arial,Helvetica Neue,Helvetica,sans-serif; font-size:48px; text-anchor:middle;\" transform=\"rotate(0, 1753.04, 694.483)\" x=\"1753.04\" y=\"694.483\">60</text>\n</g>\n<g clip-path=\"url(#clip4201)\">\n<text style=\"fill:#000000; fill-opacity:1; font-family:Arial,Helvetica Neue,Helvetica,sans-serif; font-size:48px; text-anchor:middle;\" transform=\"rotate(0, 1874.26, 694.483)\" x=\"1874.26\" y=\"694.483\">80</text>\n</g>\n<g clip-path=\"url(#clip4201)\">\n<text style=\"fill:#000000; fill-opacity:1; font-family:Arial,Helvetica Neue,Helvetica,sans-serif; font-size:48px; text-anchor:middle;\" transform=\"rotate(0, 1995.48, 694.483)\" x=\"1995.48\" y=\"694.483\">100</text>\n</g>\n<g clip-path=\"url(#clip4201)\">\n<text style=\"fill:#000000; fill-opacity:1; font-family:Arial,Helvetica Neue,Helvetica,sans-serif; font-size:48px; text-anchor:middle;\" transform=\"rotate(0, 2116.7, 694.483)\" x=\"2116.7\" y=\"694.483\">120</text>\n</g>\n<g clip-path=\"url(#clip4201)\">\n<text style=\"fill:#000000; fill-opacity:1; font-family:Arial,Helvetica Neue,Helvetica,sans-serif; font-size:48px; text-anchor:middle;\" transform=\"rotate(0, 2237.92, 694.483)\" x=\"2237.92\" y=\"694.483\">140</text>\n</g>\n<g clip-path=\"url(#clip4201)\">\n<text style=\"fill:#000000; fill-opacity:1; font-family:Arial,Helvetica Neue,Helvetica,sans-serif; font-size:48px; text-anchor:end;\" transform=\"rotate(0, 1494.17, 657.983)\" x=\"1494.17\" y=\"657.983\">0</text>\n</g>\n<g clip-path=\"url(#clip4201)\">\n<text style=\"fill:#000000; fill-opacity:1; font-family:Arial,Helvetica Neue,Helvetica,sans-serif; font-size:48px; text-anchor:end;\" transform=\"rotate(0, 1494.17, 523.156)\" x=\"1494.17\" y=\"523.156\">250</text>\n</g>\n<g clip-path=\"url(#clip4201)\">\n<text style=\"fill:#000000; fill-opacity:1; font-family:Arial,Helvetica Neue,Helvetica,sans-serif; font-size:48px; text-anchor:end;\" transform=\"rotate(0, 1494.17, 388.329)\" x=\"1494.17\" y=\"388.329\">500</text>\n</g>\n<g clip-path=\"url(#clip4201)\">\n<text style=\"fill:#000000; fill-opacity:1; font-family:Arial,Helvetica Neue,Helvetica,sans-serif; font-size:48px; text-anchor:end;\" transform=\"rotate(0, 1494.17, 253.502)\" x=\"1494.17\" y=\"253.502\">750</text>\n</g>\n<g clip-path=\"url(#clip4201)\">\n<text style=\"fill:#000000; fill-opacity:1; font-family:Arial,Helvetica Neue,Helvetica,sans-serif; font-size:48px; text-anchor:end;\" transform=\"rotate(0, 1494.17, 118.675)\" x=\"1494.17\" y=\"118.675\">1000</text>\n</g>\n<g clip-path=\"url(#clip4201)\">\n<text style=\"fill:#000000; fill-opacity:1; font-family:Arial,Helvetica Neue,Helvetica,sans-serif; font-size:66px; text-anchor:middle;\" transform=\"rotate(0, 1919.72, 790.4)\" x=\"1919.72\" y=\"790.4\">Cost of G1</text>\n</g>\n<g clip-path=\"url(#clip4201)\">\n<text style=\"fill:#000000; fill-opacity:1; font-family:Arial,Helvetica Neue,Helvetica,sans-serif; font-size:66px; text-anchor:middle;\" transform=\"rotate(-90, 1311.25, 343.863)\" x=\"1311.25\" y=\"343.863\">Dispatch: G1</text>\n</g>\n<polyline clip-path=\"url(#clip4204)\" style=\"stroke:#009af9; stroke-width:4; stroke-opacity:1; fill:none\" points=\"\n  1540.9,101.175 1571.21,101.175 1601.51,101.175 1631.82,101.175 1662.12,101.175 1692.43,101.175 1722.73,101.175 1753.04,101.175 1783.34,101.175 1813.65,101.175 \n  1843.95,101.175 1874.26,101.175 1904.56,101.175 1934.87,101.175 1965.17,101.175 1995.48,137.491 2025.79,203.643 2056.09,229.41 2086.4,256.376 2116.7,284.539 \n  2147.01,313.902 2177.31,344.463 2207.62,376.222 2237.92,409.18 2268.23,443.336 2298.53,478.69 \n  \"/>\n<polygon clip-path=\"url(#clip4201)\" points=\"\n371.82,1440.48 1174.9,1440.48 1174.9,847.244 371.82,847.244 \n  \" fill=\"#ffffff\" fill-rule=\"evenodd\" fill-opacity=\"1\"/>\n<defs>\n  <clipPath id=\"clip4205\">\n    <rect x=\"371\" y=\"847\" width=\"804\" height=\"594\"/>\n  </clipPath>\n</defs>\n<polyline clip-path=\"url(#clip4205)\" style=\"stroke:#000000; stroke-width:2; stroke-opacity:0.1; fill:none\" points=\"\n  485.464,1440.48 485.464,847.244 \n  \"/>\n<polyline clip-path=\"url(#clip4205)\" style=\"stroke:#000000; stroke-width:2; stroke-opacity:0.1; fill:none\" points=\"\n  606.684,1440.48 606.684,847.244 \n  \"/>\n<polyline clip-path=\"url(#clip4205)\" style=\"stroke:#000000; stroke-width:2; stroke-opacity:0.1; fill:none\" points=\"\n  727.905,1440.48 727.905,847.244 \n  \"/>\n<polyline clip-path=\"url(#clip4205)\" style=\"stroke:#000000; stroke-width:2; stroke-opacity:0.1; fill:none\" points=\"\n  849.125,1440.48 849.125,847.244 \n  \"/>\n<polyline clip-path=\"url(#clip4205)\" style=\"stroke:#000000; stroke-width:2; stroke-opacity:0.1; fill:none\" points=\"\n  970.345,1440.48 970.345,847.244 \n  \"/>\n<polyline clip-path=\"url(#clip4205)\" style=\"stroke:#000000; stroke-width:2; stroke-opacity:0.1; fill:none\" points=\"\n  1091.57,1440.48 1091.57,847.244 \n  \"/>\n<polyline clip-path=\"url(#clip4205)\" style=\"stroke:#000000; stroke-width:2; stroke-opacity:0.1; fill:none\" points=\"\n  371.82,1440.48 1174.9,1440.48 \n  \"/>\n<polyline clip-path=\"url(#clip4205)\" style=\"stroke:#000000; stroke-width:2; stroke-opacity:0.1; fill:none\" points=\"\n  371.82,1255.1 1174.9,1255.1 \n  \"/>\n<polyline clip-path=\"url(#clip4205)\" style=\"stroke:#000000; stroke-width:2; stroke-opacity:0.1; fill:none\" points=\"\n  371.82,1069.71 1174.9,1069.71 \n  \"/>\n<polyline clip-path=\"url(#clip4205)\" style=\"stroke:#000000; stroke-width:2; stroke-opacity:0.1; fill:none\" points=\"\n  371.82,884.322 1174.9,884.322 \n  \"/>\n<polyline clip-path=\"url(#clip4201)\" style=\"stroke:#000000; stroke-width:4; stroke-opacity:1; fill:none\" points=\"\n  371.82,1440.48 1174.9,1440.48 \n  \"/>\n<polyline clip-path=\"url(#clip4201)\" style=\"stroke:#000000; stroke-width:4; stroke-opacity:1; fill:none\" points=\"\n  371.82,1440.48 371.82,847.244 \n  \"/>\n<polyline clip-path=\"url(#clip4201)\" style=\"stroke:#000000; stroke-width:4; stroke-opacity:1; fill:none\" points=\"\n  485.464,1440.48 485.464,1431.58 \n  \"/>\n<polyline clip-path=\"url(#clip4201)\" style=\"stroke:#000000; stroke-width:4; stroke-opacity:1; fill:none\" points=\"\n  606.684,1440.48 606.684,1431.58 \n  \"/>\n<polyline clip-path=\"url(#clip4201)\" style=\"stroke:#000000; stroke-width:4; stroke-opacity:1; fill:none\" points=\"\n  727.905,1440.48 727.905,1431.58 \n  \"/>\n<polyline clip-path=\"url(#clip4201)\" style=\"stroke:#000000; stroke-width:4; stroke-opacity:1; fill:none\" points=\"\n  849.125,1440.48 849.125,1431.58 \n  \"/>\n<polyline clip-path=\"url(#clip4201)\" style=\"stroke:#000000; stroke-width:4; stroke-opacity:1; fill:none\" points=\"\n  970.345,1440.48 970.345,1431.58 \n  \"/>\n<polyline clip-path=\"url(#clip4201)\" style=\"stroke:#000000; stroke-width:4; stroke-opacity:1; fill:none\" points=\"\n  1091.57,1440.48 1091.57,1431.58 \n  \"/>\n<polyline clip-path=\"url(#clip4201)\" style=\"stroke:#000000; stroke-width:4; stroke-opacity:1; fill:none\" points=\"\n  371.82,1440.48 383.866,1440.48 \n  \"/>\n<polyline clip-path=\"url(#clip4201)\" style=\"stroke:#000000; stroke-width:4; stroke-opacity:1; fill:none\" points=\"\n  371.82,1255.1 383.866,1255.1 \n  \"/>\n<polyline clip-path=\"url(#clip4201)\" style=\"stroke:#000000; stroke-width:4; stroke-opacity:1; fill:none\" points=\"\n  371.82,1069.71 383.866,1069.71 \n  \"/>\n<polyline clip-path=\"url(#clip4201)\" style=\"stroke:#000000; stroke-width:4; stroke-opacity:1; fill:none\" points=\"\n  371.82,884.322 383.866,884.322 \n  \"/>\n<g clip-path=\"url(#clip4201)\">\n<text style=\"fill:#000000; fill-opacity:1; font-family:Arial,Helvetica Neue,Helvetica,sans-serif; font-size:48px; text-anchor:middle;\" transform=\"rotate(0, 485.464, 1494.48)\" x=\"485.464\" y=\"1494.48\">40</text>\n</g>\n<g clip-path=\"url(#clip4201)\">\n<text style=\"fill:#000000; fill-opacity:1; font-family:Arial,Helvetica Neue,Helvetica,sans-serif; font-size:48px; text-anchor:middle;\" transform=\"rotate(0, 606.684, 1494.48)\" x=\"606.684\" y=\"1494.48\">60</text>\n</g>\n<g clip-path=\"url(#clip4201)\">\n<text style=\"fill:#000000; fill-opacity:1; font-family:Arial,Helvetica Neue,Helvetica,sans-serif; font-size:48px; text-anchor:middle;\" transform=\"rotate(0, 727.905, 1494.48)\" x=\"727.905\" y=\"1494.48\">80</text>\n</g>\n<g clip-path=\"url(#clip4201)\">\n<text style=\"fill:#000000; fill-opacity:1; font-family:Arial,Helvetica Neue,Helvetica,sans-serif; font-size:48px; text-anchor:middle;\" transform=\"rotate(0, 849.125, 1494.48)\" x=\"849.125\" y=\"1494.48\">100</text>\n</g>\n<g clip-path=\"url(#clip4201)\">\n<text style=\"fill:#000000; fill-opacity:1; font-family:Arial,Helvetica Neue,Helvetica,sans-serif; font-size:48px; text-anchor:middle;\" transform=\"rotate(0, 970.345, 1494.48)\" x=\"970.345\" y=\"1494.48\">120</text>\n</g>\n<g clip-path=\"url(#clip4201)\">\n<text style=\"fill:#000000; fill-opacity:1; font-family:Arial,Helvetica Neue,Helvetica,sans-serif; font-size:48px; text-anchor:middle;\" transform=\"rotate(0, 1091.57, 1494.48)\" x=\"1091.57\" y=\"1494.48\">140</text>\n</g>\n<g clip-path=\"url(#clip4201)\">\n<text style=\"fill:#000000; fill-opacity:1; font-family:Arial,Helvetica Neue,Helvetica,sans-serif; font-size:48px; text-anchor:end;\" transform=\"rotate(0, 347.82, 1457.98)\" x=\"347.82\" y=\"1457.98\">0</text>\n</g>\n<g clip-path=\"url(#clip4201)\">\n<text style=\"fill:#000000; fill-opacity:1; font-family:Arial,Helvetica Neue,Helvetica,sans-serif; font-size:48px; text-anchor:end;\" transform=\"rotate(0, 347.82, 1272.6)\" x=\"347.82\" y=\"1272.6\">500</text>\n</g>\n<g clip-path=\"url(#clip4201)\">\n<text style=\"fill:#000000; fill-opacity:1; font-family:Arial,Helvetica Neue,Helvetica,sans-serif; font-size:48px; text-anchor:end;\" transform=\"rotate(0, 347.82, 1087.21)\" x=\"347.82\" y=\"1087.21\">1000</text>\n</g>\n<g clip-path=\"url(#clip4201)\">\n<text style=\"fill:#000000; fill-opacity:1; font-family:Arial,Helvetica Neue,Helvetica,sans-serif; font-size:48px; text-anchor:end;\" transform=\"rotate(0, 347.82, 901.822)\" x=\"347.82\" y=\"901.822\">1500</text>\n</g>\n<g clip-path=\"url(#clip4201)\">\n<text style=\"fill:#000000; fill-opacity:1; font-family:Arial,Helvetica Neue,Helvetica,sans-serif; font-size:66px; text-anchor:middle;\" transform=\"rotate(0, 773.362, 1590.4)\" x=\"773.362\" y=\"1590.4\">Cost of G1</text>\n</g>\n<g clip-path=\"url(#clip4201)\">\n<text style=\"fill:#000000; fill-opacity:1; font-family:Arial,Helvetica Neue,Helvetica,sans-serif; font-size:66px; text-anchor:middle;\" transform=\"rotate(-90, 57.6, 1143.86)\" x=\"57.6\" y=\"1143.86\">Dispatch: G2</text>\n</g>\n<polyline clip-path=\"url(#clip4205)\" style=\"stroke:#009af9; stroke-width:4; stroke-opacity:1; fill:none\" points=\"\n  394.549,1275.69 424.854,1275.69 455.159,1275.69 485.464,1275.69 515.769,1275.69 546.074,1275.69 576.379,1275.69 606.684,1275.69 636.989,1275.69 667.294,1275.69 \n  697.6,1275.69 727.905,1275.69 758.21,1275.69 788.515,1275.69 818.82,1275.69 849.125,1275.69 879.43,1258.8 909.735,1241.09 940.04,1222.55 970.345,1203.19 \n  1000.65,1183 1030.96,1161.99 1061.26,1140.16 1091.57,1117.5 1121.87,1094.01 1152.18,1069.71 \n  \"/>\n<polygon clip-path=\"url(#clip4201)\" points=\"\n1491.41,1440.48 2321.26,1440.48 2321.26,847.244 1491.41,847.244 \n  \" fill=\"#ffffff\" fill-rule=\"evenodd\" fill-opacity=\"1\"/>\n<defs>\n  <clipPath id=\"clip4206\">\n    <rect x=\"1491\" y=\"847\" width=\"831\" height=\"594\"/>\n  </clipPath>\n</defs>\n<polyline clip-path=\"url(#clip4206)\" style=\"stroke:#000000; stroke-width:2; stroke-opacity:0.1; fill:none\" points=\"\n  1608.84,1440.48 1608.84,847.244 \n  \"/>\n<polyline clip-path=\"url(#clip4206)\" style=\"stroke:#000000; stroke-width:2; stroke-opacity:0.1; fill:none\" points=\"\n  1734.1,1440.48 1734.1,847.244 \n  \"/>\n<polyline clip-path=\"url(#clip4206)\" style=\"stroke:#000000; stroke-width:2; stroke-opacity:0.1; fill:none\" points=\"\n  1859.36,1440.48 1859.36,847.244 \n  \"/>\n<polyline clip-path=\"url(#clip4206)\" style=\"stroke:#000000; stroke-width:2; stroke-opacity:0.1; fill:none\" points=\"\n  1984.62,1440.48 1984.62,847.244 \n  \"/>\n<polyline clip-path=\"url(#clip4206)\" style=\"stroke:#000000; stroke-width:2; stroke-opacity:0.1; fill:none\" points=\"\n  2109.88,1440.48 2109.88,847.244 \n  \"/>\n<polyline clip-path=\"url(#clip4206)\" style=\"stroke:#000000; stroke-width:2; stroke-opacity:0.1; fill:none\" points=\"\n  2235.14,1440.48 2235.14,847.244 \n  \"/>\n<polyline clip-path=\"url(#clip4206)\" style=\"stroke:#000000; stroke-width:2; stroke-opacity:0.1; fill:none\" points=\"\n  1491.41,1440.48 2321.26,1440.48 \n  \"/>\n<polyline clip-path=\"url(#clip4206)\" style=\"stroke:#000000; stroke-width:2; stroke-opacity:0.1; fill:none\" points=\"\n  1491.41,1321.83 2321.26,1321.83 \n  \"/>\n<polyline clip-path=\"url(#clip4206)\" style=\"stroke:#000000; stroke-width:2; stroke-opacity:0.1; fill:none\" points=\"\n  1491.41,1203.19 2321.26,1203.19 \n  \"/>\n<polyline clip-path=\"url(#clip4206)\" style=\"stroke:#000000; stroke-width:2; stroke-opacity:0.1; fill:none\" points=\"\n  1491.41,1084.54 2321.26,1084.54 \n  \"/>\n<polyline clip-path=\"url(#clip4206)\" style=\"stroke:#000000; stroke-width:2; stroke-opacity:0.1; fill:none\" points=\"\n  1491.41,965.892 2321.26,965.892 \n  \"/>\n<polyline clip-path=\"url(#clip4206)\" style=\"stroke:#000000; stroke-width:2; stroke-opacity:0.1; fill:none\" points=\"\n  1491.41,847.244 2321.26,847.244 \n  \"/>\n<polyline clip-path=\"url(#clip4201)\" style=\"stroke:#000000; stroke-width:4; stroke-opacity:1; fill:none\" points=\"\n  1491.41,1440.48 2321.26,1440.48 \n  \"/>\n<polyline clip-path=\"url(#clip4201)\" style=\"stroke:#000000; stroke-width:4; stroke-opacity:1; fill:none\" points=\"\n  1491.41,1440.48 1491.41,847.244 \n  \"/>\n<polyline clip-path=\"url(#clip4201)\" style=\"stroke:#000000; stroke-width:4; stroke-opacity:1; fill:none\" points=\"\n  1608.84,1440.48 1608.84,1431.58 \n  \"/>\n<polyline clip-path=\"url(#clip4201)\" style=\"stroke:#000000; stroke-width:4; stroke-opacity:1; fill:none\" points=\"\n  1734.1,1440.48 1734.1,1431.58 \n  \"/>\n<polyline clip-path=\"url(#clip4201)\" style=\"stroke:#000000; stroke-width:4; stroke-opacity:1; fill:none\" points=\"\n  1859.36,1440.48 1859.36,1431.58 \n  \"/>\n<polyline clip-path=\"url(#clip4201)\" style=\"stroke:#000000; stroke-width:4; stroke-opacity:1; fill:none\" points=\"\n  1984.62,1440.48 1984.62,1431.58 \n  \"/>\n<polyline clip-path=\"url(#clip4201)\" style=\"stroke:#000000; stroke-width:4; stroke-opacity:1; fill:none\" points=\"\n  2109.88,1440.48 2109.88,1431.58 \n  \"/>\n<polyline clip-path=\"url(#clip4201)\" style=\"stroke:#000000; stroke-width:4; stroke-opacity:1; fill:none\" points=\"\n  2235.14,1440.48 2235.14,1431.58 \n  \"/>\n<polyline clip-path=\"url(#clip4201)\" style=\"stroke:#000000; stroke-width:4; stroke-opacity:1; fill:none\" points=\"\n  1491.41,1440.48 1503.86,1440.48 \n  \"/>\n<polyline clip-path=\"url(#clip4201)\" style=\"stroke:#000000; stroke-width:4; stroke-opacity:1; fill:none\" points=\"\n  1491.41,1321.83 1503.86,1321.83 \n  \"/>\n<polyline clip-path=\"url(#clip4201)\" style=\"stroke:#000000; stroke-width:4; stroke-opacity:1; fill:none\" points=\"\n  1491.41,1203.19 1503.86,1203.19 \n  \"/>\n<polyline clip-path=\"url(#clip4201)\" style=\"stroke:#000000; stroke-width:4; stroke-opacity:1; fill:none\" points=\"\n  1491.41,1084.54 1503.86,1084.54 \n  \"/>\n<polyline clip-path=\"url(#clip4201)\" style=\"stroke:#000000; stroke-width:4; stroke-opacity:1; fill:none\" points=\"\n  1491.41,965.892 1503.86,965.892 \n  \"/>\n<polyline clip-path=\"url(#clip4201)\" style=\"stroke:#000000; stroke-width:4; stroke-opacity:1; fill:none\" points=\"\n  1491.41,847.244 1503.86,847.244 \n  \"/>\n<g clip-path=\"url(#clip4201)\">\n<text style=\"fill:#000000; fill-opacity:1; font-family:Arial,Helvetica Neue,Helvetica,sans-serif; font-size:48px; text-anchor:middle;\" transform=\"rotate(0, 1608.84, 1494.48)\" x=\"1608.84\" y=\"1494.48\">40</text>\n</g>\n<g clip-path=\"url(#clip4201)\">\n<text style=\"fill:#000000; fill-opacity:1; font-family:Arial,Helvetica Neue,Helvetica,sans-serif; font-size:48px; text-anchor:middle;\" transform=\"rotate(0, 1734.1, 1494.48)\" x=\"1734.1\" y=\"1494.48\">60</text>\n</g>\n<g clip-path=\"url(#clip4201)\">\n<text style=\"fill:#000000; fill-opacity:1; font-family:Arial,Helvetica Neue,Helvetica,sans-serif; font-size:48px; text-anchor:middle;\" transform=\"rotate(0, 1859.36, 1494.48)\" x=\"1859.36\" y=\"1494.48\">80</text>\n</g>\n<g clip-path=\"url(#clip4201)\">\n<text style=\"fill:#000000; fill-opacity:1; font-family:Arial,Helvetica Neue,Helvetica,sans-serif; font-size:48px; text-anchor:middle;\" transform=\"rotate(0, 1984.62, 1494.48)\" x=\"1984.62\" y=\"1494.48\">100</text>\n</g>\n<g clip-path=\"url(#clip4201)\">\n<text style=\"fill:#000000; fill-opacity:1; font-family:Arial,Helvetica Neue,Helvetica,sans-serif; font-size:48px; text-anchor:middle;\" transform=\"rotate(0, 2109.88, 1494.48)\" x=\"2109.88\" y=\"1494.48\">120</text>\n</g>\n<g clip-path=\"url(#clip4201)\">\n<text style=\"fill:#000000; fill-opacity:1; font-family:Arial,Helvetica Neue,Helvetica,sans-serif; font-size:48px; text-anchor:middle;\" transform=\"rotate(0, 2235.14, 1494.48)\" x=\"2235.14\" y=\"1494.48\">140</text>\n</g>\n<g clip-path=\"url(#clip4201)\">\n<text style=\"fill:#000000; fill-opacity:1; font-family:Arial,Helvetica Neue,Helvetica,sans-serif; font-size:48px; text-anchor:end;\" transform=\"rotate(0, 1467.41, 1457.98)\" x=\"1467.41\" y=\"1457.98\">0</text>\n</g>\n<g clip-path=\"url(#clip4201)\">\n<text style=\"fill:#000000; fill-opacity:1; font-family:Arial,Helvetica Neue,Helvetica,sans-serif; font-size:48px; text-anchor:end;\" transform=\"rotate(0, 1467.41, 1339.33)\" x=\"1467.41\" y=\"1339.33\">50</text>\n</g>\n<g clip-path=\"url(#clip4201)\">\n<text style=\"fill:#000000; fill-opacity:1; font-family:Arial,Helvetica Neue,Helvetica,sans-serif; font-size:48px; text-anchor:end;\" transform=\"rotate(0, 1467.41, 1220.69)\" x=\"1467.41\" y=\"1220.69\">100</text>\n</g>\n<g clip-path=\"url(#clip4201)\">\n<text style=\"fill:#000000; fill-opacity:1; font-family:Arial,Helvetica Neue,Helvetica,sans-serif; font-size:48px; text-anchor:end;\" transform=\"rotate(0, 1467.41, 1102.04)\" x=\"1467.41\" y=\"1102.04\">150</text>\n</g>\n<g clip-path=\"url(#clip4201)\">\n<text style=\"fill:#000000; fill-opacity:1; font-family:Arial,Helvetica Neue,Helvetica,sans-serif; font-size:48px; text-anchor:end;\" transform=\"rotate(0, 1467.41, 983.392)\" x=\"1467.41\" y=\"983.392\">200</text>\n</g>\n<g clip-path=\"url(#clip4201)\">\n<text style=\"fill:#000000; fill-opacity:1; font-family:Arial,Helvetica Neue,Helvetica,sans-serif; font-size:48px; text-anchor:end;\" transform=\"rotate(0, 1467.41, 864.744)\" x=\"1467.41\" y=\"864.744\">250</text>\n</g>\n<g clip-path=\"url(#clip4201)\">\n<text style=\"fill:#000000; fill-opacity:1; font-family:Arial,Helvetica Neue,Helvetica,sans-serif; font-size:66px; text-anchor:middle;\" transform=\"rotate(0, 1906.34, 1590.4)\" x=\"1906.34\" y=\"1590.4\">Cost of G1</text>\n</g>\n<g clip-path=\"url(#clip4201)\">\n<text style=\"fill:#000000; fill-opacity:1; font-family:Arial,Helvetica Neue,Helvetica,sans-serif; font-size:66px; text-anchor:middle;\" transform=\"rotate(-90, 1311.25, 1143.86)\" x=\"1311.25\" y=\"1143.86\">Dispatch: Wind</text>\n</g>\n<polyline clip-path=\"url(#clip4206)\" style=\"stroke:#009af9; stroke-width:4; stroke-opacity:1; fill:none\" points=\"\n  1514.9,1308.65 1546.21,1308.65 1577.53,1308.65 1608.84,1308.65 1640.16,1308.65 1671.47,1308.65 1702.79,1308.65 1734.1,1308.65 1765.42,1308.65 1796.73,1308.65 \n  1828.05,1308.65 1859.36,1308.65 1890.68,1308.65 1921.99,1308.65 1953.31,1308.65 1984.62,1148.86 2015.94,965.892 2047.25,965.892 2078.57,965.892 2109.88,965.892 \n  2141.2,965.892 2172.51,965.892 2203.83,965.892 2235.14,965.892 2266.46,965.892 2297.77,965.892 \n  \"/>\n</svg>\n"
               },
               "type": "node"
              }
             ],
             "instanceArgs": {
              "namespace": "html",
              "tag": "div"
             },
             "nodeType": "DOM",
             "props": {
              "attributes": {
               "style": "display:flex; justify-content:center; align-items:center;"
              }
             },
             "type": "node"
            }
           }
          },
          "systemjs_options": null
         },
         "nodeType": "Scope",
         "props": {},
         "type": "node"
        }
       ],
       "instanceArgs": {
        "namespace": "html",
        "tag": "div"
       },
       "nodeType": "DOM",
       "props": {},
       "type": "node"
      },
      "text/html": [
       "<div\n",
       "    class=\"webio-mountpoint\"\n",
       "    data-webio-mountpoint=\"16290156869776738312\"\n",
       ">\n",
       "    <script>\n",
       "    if (window.require && require.defined && require.defined(\"nbextensions/webio/main\")) {\n",
       "        console.log(\"Jupyter WebIO extension detected, not mounting.\");\n",
       "    } else if (window.WebIO) {\n",
       "        WebIO.mount(\n",
       "            document.querySelector('[data-webio-mountpoint=\"16290156869776738312\"]'),\n",
       "            {\"props\":{},\"nodeType\":\"DOM\",\"type\":\"node\",\"instanceArgs\":{\"namespace\":\"html\",\"tag\":\"div\"},\"children\":[{\"props\":{\"className\":\"field\"},\"nodeType\":\"DOM\",\"type\":\"node\",\"instanceArgs\":{\"namespace\":\"html\",\"tag\":\"div\"},\"children\":[{\"props\":{},\"nodeType\":\"Scope\",\"type\":\"node\",\"instanceArgs\":{\"imports\":{\"data\":[{\"name\":\"knockout\",\"type\":\"js\",\"url\":\"\\/assetserver\\/25899bae89003c9f86e9455b28fa31a2ae55d476-knockout.js\"},{\"name\":\"knockout_punches\",\"type\":\"js\",\"url\":\"\\/assetserver\\/fcb49798ed2cca503bfcbfacd04a1a3983159fc2-knockout_punches.js\"},{\"name\":null,\"type\":\"js\",\"url\":\"\\/assetserver\\/05b50923e654cdabbc53eb1f28137c1bac627139-all.js\"},{\"name\":null,\"type\":\"css\",\"url\":\"\\/assetserver\\/92e5308795e77213db1992d5f04bd12609a543ac-style.css\"},{\"name\":null,\"type\":\"css\",\"url\":\"\\/assetserver\\/8786809522076f1019d38a12fad8b081c302304d-main.css\"}],\"type\":\"async_block\"},\"id\":\"knockout-component-f67fed6a-0f0c-45ca-91f7-cef1fff56aa8\",\"handlers\":{\"formatted_vals\":[\"(function (val){return (val!=this.model[\\\"formatted_vals\\\"]()) ? (this.valueFromJulia[\\\"formatted_vals\\\"]=true, this.model[\\\"formatted_vals\\\"](val)) : undefined})\"],\"_promises\":{\"importsLoaded\":[\"function (ko, koPunches) {\\n    ko.punches.enableAll();\\n    ko.bindingHandlers.numericValue = {\\n        init : function(element, valueAccessor, allBindings, data, context) {\\n            var stringified = ko.observable(ko.unwrap(valueAccessor()));\\n            stringified.subscribe(function(value) {\\n                var val = parseFloat(value);\\n                if (!isNaN(val)) {\\n                    valueAccessor()(val);\\n                }\\n            })\\n            valueAccessor().subscribe(function(value) {\\n                var str = JSON.stringify(value);\\n                if ((str == \\\"0\\\") && ([\\\"-0\\\", \\\"-0.\\\"].indexOf(stringified()) >= 0))\\n                     return;\\n                 if ([\\\"null\\\", \\\"\\\"].indexOf(str) >= 0)\\n                     return;\\n                stringified(str);\\n            })\\n            ko.applyBindingsToNode(element, { value: stringified, valueUpdate: allBindings.get('valueUpdate')}, context);\\n        }\\n    };\\n    var json_data = JSON.parse(\\\"{\\\\\\\"formatted_vals\\\\\\\":[\\\\\\\"50.0\\\\\\\",\\\\\\\"55.0\\\\\\\",\\\\\\\"60.0\\\\\\\",\\\\\\\"65.0\\\\\\\",\\\\\\\"70.0\\\\\\\",\\\\\\\"75.0\\\\\\\",\\\\\\\"80.0\\\\\\\",\\\\\\\"85.0\\\\\\\",\\\\\\\"90.0\\\\\\\",\\\\\\\"95.0\\\\\\\",\\\\\\\"100.0\\\\\\\",\\\\\\\"105.0\\\\\\\",\\\\\\\"110.0\\\\\\\",\\\\\\\"115.0\\\\\\\",\\\\\\\"120.0\\\\\\\",\\\\\\\"125.0\\\\\\\",\\\\\\\"130.0\\\\\\\",\\\\\\\"135.0\\\\\\\",\\\\\\\"140.0\\\\\\\",\\\\\\\"145.0\\\\\\\",\\\\\\\"150.0\\\\\\\"],\\\\\\\"changes\\\\\\\":0,\\\\\\\"formatted_value\\\\\\\":\\\\\\\"100.0\\\\\\\",\\\\\\\"index\\\\\\\":11}\\\");\\n    var self = this;\\n    function AppViewModel() {\\n        for (var key in json_data) {\\n            var el = json_data[key];\\n            this[key] = Array.isArray(el) ? ko.observableArray(el) : ko.observable(el);\\n        }\\n        \\n        \\n        [this[\\\"formatted_vals\\\"].subscribe((function (val){!(this.valueFromJulia[\\\"formatted_vals\\\"]) ? (_webIOScope.setObservableValue({\\\"name\\\":\\\"formatted_vals\\\",\\\"scope\\\":\\\"knockout-component-f67fed6a-0f0c-45ca-91f7-cef1fff56aa8\\\",\\\"id\\\":\\\"ob_63\\\",\\\"type\\\":\\\"observable\\\"},val)) : undefined; return this.valueFromJulia[\\\"formatted_vals\\\"]=false}),self),this[\\\"changes\\\"].subscribe((function (val){!(this.valueFromJulia[\\\"changes\\\"]) ? (_webIOScope.setObservableValue({\\\"name\\\":\\\"changes\\\",\\\"scope\\\":\\\"knockout-component-f67fed6a-0f0c-45ca-91f7-cef1fff56aa8\\\",\\\"id\\\":\\\"ob_65\\\",\\\"type\\\":\\\"observable\\\"},val)) : undefined; return this.valueFromJulia[\\\"changes\\\"]=false}),self),this[\\\"formatted_value\\\"].subscribe((function (val){!(this.valueFromJulia[\\\"formatted_value\\\"]) ? (_webIOScope.setObservableValue({\\\"name\\\":\\\"formatted_value\\\",\\\"scope\\\":\\\"knockout-component-f67fed6a-0f0c-45ca-91f7-cef1fff56aa8\\\",\\\"id\\\":\\\"ob_64\\\",\\\"type\\\":\\\"observable\\\"},val)) : undefined; return this.valueFromJulia[\\\"formatted_value\\\"]=false}),self),this[\\\"index\\\"].subscribe((function (val){!(this.valueFromJulia[\\\"index\\\"]) ? (_webIOScope.setObservableValue({\\\"name\\\":\\\"index\\\",\\\"scope\\\":\\\"knockout-component-f67fed6a-0f0c-45ca-91f7-cef1fff56aa8\\\",\\\"id\\\":\\\"ob_62\\\",\\\"type\\\":\\\"observable\\\"},val)) : undefined; return this.valueFromJulia[\\\"index\\\"]=false}),self)]\\n        \\n    }\\n    self.model = new AppViewModel();\\n    self.valueFromJulia = {};\\n    for (var key in json_data) {\\n        self.valueFromJulia[key] = false;\\n    }\\n    ko.applyBindings(self.model, self.dom);\\n}\\n\"]},\"changes\":[\"(function (val){return (val!=this.model[\\\"changes\\\"]()) ? (this.valueFromJulia[\\\"changes\\\"]=true, this.model[\\\"changes\\\"](val)) : undefined})\"],\"formatted_value\":[\"(function (val){return (val!=this.model[\\\"formatted_value\\\"]()) ? (this.valueFromJulia[\\\"formatted_value\\\"]=true, this.model[\\\"formatted_value\\\"](val)) : undefined})\"],\"index\":[\"(function (val){return (val!=this.model[\\\"index\\\"]()) ? (this.valueFromJulia[\\\"index\\\"]=true, this.model[\\\"index\\\"](val)) : undefined})\",\"(function (val){return _webIOScope.setObservableValue({\\\"name\\\":\\\"formatted_value\\\",\\\"scope\\\":\\\"knockout-component-f67fed6a-0f0c-45ca-91f7-cef1fff56aa8\\\",\\\"id\\\":\\\"ob_64\\\",\\\"type\\\":\\\"observable\\\"},_webIOScope.getObservableValue({\\\"name\\\":\\\"formatted_vals\\\",\\\"scope\\\":\\\"knockout-component-f67fed6a-0f0c-45ca-91f7-cef1fff56aa8\\\",\\\"id\\\":\\\"ob_63\\\",\\\"type\\\":\\\"observable\\\"})[(_webIOScope.getObservableValue({\\\"name\\\":\\\"index\\\",\\\"scope\\\":\\\"knockout-component-f67fed6a-0f0c-45ca-91f7-cef1fff56aa8\\\",\\\"id\\\":\\\"ob_62\\\",\\\"type\\\":\\\"observable\\\"})-1)])})\"]},\"systemjs_options\":null,\"observables\":{\"formatted_vals\":{\"sync\":false,\"id\":\"ob_63\",\"value\":[\"50.0\",\"55.0\",\"60.0\",\"65.0\",\"70.0\",\"75.0\",\"80.0\",\"85.0\",\"90.0\",\"95.0\",\"100.0\",\"105.0\",\"110.0\",\"115.0\",\"120.0\",\"125.0\",\"130.0\",\"135.0\",\"140.0\",\"145.0\",\"150.0\"]},\"changes\":{\"sync\":false,\"id\":\"ob_65\",\"value\":0},\"formatted_value\":{\"sync\":false,\"id\":\"ob_64\",\"value\":\"100.0\"},\"index\":{\"sync\":true,\"id\":\"ob_62\",\"value\":11}}},\"children\":[{\"props\":{\"attributes\":{\"style\":\"display:flex; justify-content:center; align-items:center;\"}},\"nodeType\":\"DOM\",\"type\":\"node\",\"instanceArgs\":{\"namespace\":\"html\",\"tag\":\"div\"},\"children\":[{\"props\":{\"attributes\":{\"style\":\"text-align:right;width:18%\"}},\"nodeType\":\"DOM\",\"type\":\"node\",\"instanceArgs\":{\"namespace\":\"html\",\"tag\":\"div\"},\"children\":[{\"props\":{\"className\":\"interact \",\"style\":{\"padding\":\"5px 10px 0px 10px\"}},\"nodeType\":\"DOM\",\"type\":\"node\",\"instanceArgs\":{\"namespace\":\"html\",\"tag\":\"label\"},\"children\":[\"cost_of_wind\"]}]},{\"props\":{\"attributes\":{\"style\":\"flex-grow:1; margin: 0 2%\"}},\"nodeType\":\"DOM\",\"type\":\"node\",\"instanceArgs\":{\"namespace\":\"html\",\"tag\":\"div\"},\"children\":[{\"props\":{\"max\":21,\"min\":1,\"attributes\":{\"type\":\"range\",\"data-bind\":\"numericValue: index, valueUpdate: 'input', event: {change : function () {this.changes(this.changes()+1)}}\",\"orient\":\"horizontal\"},\"step\":1,\"className\":\"slider slider is-fullwidth\",\"style\":{}},\"nodeType\":\"DOM\",\"type\":\"node\",\"instanceArgs\":{\"namespace\":\"html\",\"tag\":\"input\"},\"children\":[]}]},{\"props\":{\"attributes\":{\"style\":\"width:18%\"}},\"nodeType\":\"DOM\",\"type\":\"node\",\"instanceArgs\":{\"namespace\":\"html\",\"tag\":\"div\"},\"children\":[{\"props\":{\"attributes\":{\"data-bind\":\"text: formatted_value\"}},\"nodeType\":\"DOM\",\"type\":\"node\",\"instanceArgs\":{\"namespace\":\"html\",\"tag\":\"p\"},\"children\":[]}]}]}]}]},{\"props\":{},\"nodeType\":\"Scope\",\"type\":\"node\",\"instanceArgs\":{\"imports\":{\"data\":[],\"type\":\"async_block\"},\"id\":\"scope-3e3d92d7-d8f1-4cd8-a59a-25f3a8aabaf2\",\"handlers\":{},\"systemjs_options\":null,\"observables\":{\"obs-node\":{\"sync\":false,\"id\":\"ob_68\",\"value\":{\"props\":{\"attributes\":{\"style\":\"display:flex; justify-content:center; align-items:center;\"}},\"nodeType\":\"DOM\",\"type\":\"node\",\"instanceArgs\":{\"namespace\":\"html\",\"tag\":\"div\"},\"children\":[{\"props\":{\"setInnerHtml\":\"<?xml version=\\\"1.0\\\" encoding=\\\"utf-8\\\"?>\\n<svg xmlns=\\\"http:\\/\\/www.w3.org\\/2000\\/svg\\\" xmlns:xlink=\\\"http:\\/\\/www.w3.org\\/1999\\/xlink\\\" width=\\\"600\\\" height=\\\"400\\\" viewBox=\\\"0 0 2400 1600\\\">\\n<defs>\\n  <clipPath id=\\\"clip4000\\\">\\n    <rect x=\\\"0\\\" y=\\\"0\\\" width=\\\"2000\\\" height=\\\"2000\\\"\\/>\\n  <\\/clipPath>\\n<\\/defs>\\n<defs>\\n  <clipPath id=\\\"clip4001\\\">\\n    <rect x=\\\"0\\\" y=\\\"0\\\" width=\\\"2400\\\" height=\\\"1600\\\"\\/>\\n  <\\/clipPath>\\n<\\/defs>\\n<polygon clip-path=\\\"url(#clip4001)\\\" points=\\\"\\n0,1600 2400,1600 2400,0 0,0 \\n  \\\" fill=\\\"#ffffff\\\" fill-rule=\\\"evenodd\\\" fill-opacity=\\\"1\\\"\\/>\\n<defs>\\n  <clipPath id=\\\"clip4002\\\">\\n    <rect x=\\\"480\\\" y=\\\"0\\\" width=\\\"1681\\\" height=\\\"1600\\\"\\/>\\n  <\\/clipPath>\\n<\\/defs>\\n<polygon clip-path=\\\"url(#clip4001)\\\" points=\\\"\\n371.82,640.483 1174.9,640.483 1174.9,47.2441 371.82,47.2441 \\n  \\\" fill=\\\"#ffffff\\\" fill-rule=\\\"evenodd\\\" fill-opacity=\\\"1\\\"\\/>\\n<defs>\\n  <clipPath id=\\\"clip4003\\\">\\n    <rect x=\\\"371\\\" y=\\\"47\\\" width=\\\"804\\\" height=\\\"594\\\"\\/>\\n  <\\/clipPath>\\n<\\/defs>\\n<polyline clip-path=\\\"url(#clip4003)\\\" style=\\\"stroke:#000000; stroke-width:2; stroke-opacity:0.1; fill:none\\\" points=\\\"\\n  485.464,640.483 485.464,47.2441 \\n  \\\"\\/>\\n<polyline clip-path=\\\"url(#clip4003)\\\" style=\\\"stroke:#000000; stroke-width:2; stroke-opacity:0.1; fill:none\\\" points=\\\"\\n  606.684,640.483 606.684,47.2441 \\n  \\\"\\/>\\n<polyline clip-path=\\\"url(#clip4003)\\\" style=\\\"stroke:#000000; stroke-width:2; stroke-opacity:0.1; fill:none\\\" points=\\\"\\n  727.905,640.483 727.905,47.2441 \\n  \\\"\\/>\\n<polyline clip-path=\\\"url(#clip4003)\\\" style=\\\"stroke:#000000; stroke-width:2; stroke-opacity:0.1; fill:none\\\" points=\\\"\\n  849.125,640.483 849.125,47.2441 \\n  \\\"\\/>\\n<polyline clip-path=\\\"url(#clip4003)\\\" style=\\\"stroke:#000000; stroke-width:2; stroke-opacity:0.1; fill:none\\\" points=\\\"\\n  970.345,640.483 970.345,47.2441 \\n  \\\"\\/>\\n<polyline clip-path=\\\"url(#clip4003)\\\" style=\\\"stroke:#000000; stroke-width:2; stroke-opacity:0.1; fill:none\\\" points=\\\"\\n  1091.57,640.483 1091.57,47.2441 \\n  \\\"\\/>\\n<polyline clip-path=\\\"url(#clip4003)\\\" style=\\\"stroke:#000000; stroke-width:2; stroke-opacity:0.1; fill:none\\\" points=\\\"\\n  371.82,640.483 1174.9,640.483 \\n  \\\"\\/>\\n<polyline clip-path=\\\"url(#clip4003)\\\" style=\\\"stroke:#000000; stroke-width:2; stroke-opacity:0.1; fill:none\\\" points=\\\"\\n  371.82,442.736 1174.9,442.736 \\n  \\\"\\/>\\n<polyline clip-path=\\\"url(#clip4003)\\\" style=\\\"stroke:#000000; stroke-width:2; stroke-opacity:0.1; fill:none\\\" points=\\\"\\n  371.82,244.99 1174.9,244.99 \\n  \\\"\\/>\\n<polyline clip-path=\\\"url(#clip4003)\\\" style=\\\"stroke:#000000; stroke-width:2; stroke-opacity:0.1; fill:none\\\" points=\\\"\\n  371.82,47.2441 1174.9,47.2441 \\n  \\\"\\/>\\n<polyline clip-path=\\\"url(#clip4001)\\\" style=\\\"stroke:#000000; stroke-width:4; stroke-opacity:1; fill:none\\\" points=\\\"\\n  371.82,640.483 1174.9,640.483 \\n  \\\"\\/>\\n<polyline clip-path=\\\"url(#clip4001)\\\" style=\\\"stroke:#000000; stroke-width:4; stroke-opacity:1; fill:none\\\" points=\\\"\\n  371.82,640.483 371.82,47.2441 \\n  \\\"\\/>\\n<polyline clip-path=\\\"url(#clip4001)\\\" style=\\\"stroke:#000000; stroke-width:4; stroke-opacity:1; fill:none\\\" points=\\\"\\n  485.464,640.483 485.464,631.584 \\n  \\\"\\/>\\n<polyline clip-path=\\\"url(#clip4001)\\\" style=\\\"stroke:#000000; stroke-width:4; stroke-opacity:1; fill:none\\\" points=\\\"\\n  606.684,640.483 606.684,631.584 \\n  \\\"\\/>\\n<polyline clip-path=\\\"url(#clip4001)\\\" style=\\\"stroke:#000000; stroke-width:4; stroke-opacity:1; fill:none\\\" points=\\\"\\n  727.905,640.483 727.905,631.584 \\n  \\\"\\/>\\n<polyline clip-path=\\\"url(#clip4001)\\\" style=\\\"stroke:#000000; stroke-width:4; stroke-opacity:1; fill:none\\\" points=\\\"\\n  849.125,640.483 849.125,631.584 \\n  \\\"\\/>\\n<polyline clip-path=\\\"url(#clip4001)\\\" style=\\\"stroke:#000000; stroke-width:4; stroke-opacity:1; fill:none\\\" points=\\\"\\n  970.345,640.483 970.345,631.584 \\n  \\\"\\/>\\n<polyline clip-path=\\\"url(#clip4001)\\\" style=\\\"stroke:#000000; stroke-width:4; stroke-opacity:1; fill:none\\\" points=\\\"\\n  1091.57,640.483 1091.57,631.584 \\n  \\\"\\/>\\n<polyline clip-path=\\\"url(#clip4001)\\\" style=\\\"stroke:#000000; stroke-width:4; stroke-opacity:1; fill:none\\\" points=\\\"\\n  371.82,640.483 383.866,640.483 \\n  \\\"\\/>\\n<polyline clip-path=\\\"url(#clip4001)\\\" style=\\\"stroke:#000000; stroke-width:4; stroke-opacity:1; fill:none\\\" points=\\\"\\n  371.82,442.736 383.866,442.736 \\n  \\\"\\/>\\n<polyline clip-path=\\\"url(#clip4001)\\\" style=\\\"stroke:#000000; stroke-width:4; stroke-opacity:1; fill:none\\\" points=\\\"\\n  371.82,244.99 383.866,244.99 \\n  \\\"\\/>\\n<polyline clip-path=\\\"url(#clip4001)\\\" style=\\\"stroke:#000000; stroke-width:4; stroke-opacity:1; fill:none\\\" points=\\\"\\n  371.82,47.2441 383.866,47.2441 \\n  \\\"\\/>\\n<g clip-path=\\\"url(#clip4001)\\\">\\n<text style=\\\"fill:#000000; fill-opacity:1; font-family:Arial,Helvetica Neue,Helvetica,sans-serif; font-size:48px; text-anchor:middle;\\\" transform=\\\"rotate(0, 485.464, 694.483)\\\" x=\\\"485.464\\\" y=\\\"694.483\\\">40<\\/text>\\n<\\/g>\\n<g clip-path=\\\"url(#clip4001)\\\">\\n<text style=\\\"fill:#000000; fill-opacity:1; font-family:Arial,Helvetica Neue,Helvetica,sans-serif; font-size:48px; text-anchor:middle;\\\" transform=\\\"rotate(0, 606.684, 694.483)\\\" x=\\\"606.684\\\" y=\\\"694.483\\\">60<\\/text>\\n<\\/g>\\n<g clip-path=\\\"url(#clip4001)\\\">\\n<text style=\\\"fill:#000000; fill-opacity:1; font-family:Arial,Helvetica Neue,Helvetica,sans-serif; font-size:48px; text-anchor:middle;\\\" transform=\\\"rotate(0, 727.905, 694.483)\\\" x=\\\"727.905\\\" y=\\\"694.483\\\">80<\\/text>\\n<\\/g>\\n<g clip-path=\\\"url(#clip4001)\\\">\\n<text style=\\\"fill:#000000; fill-opacity:1; font-family:Arial,Helvetica Neue,Helvetica,sans-serif; font-size:48px; text-anchor:middle;\\\" transform=\\\"rotate(0, 849.125, 694.483)\\\" x=\\\"849.125\\\" y=\\\"694.483\\\">100<\\/text>\\n<\\/g>\\n<g clip-path=\\\"url(#clip4001)\\\">\\n<text style=\\\"fill:#000000; fill-opacity:1; font-family:Arial,Helvetica Neue,Helvetica,sans-serif; font-size:48px; text-anchor:middle;\\\" transform=\\\"rotate(0, 970.345, 694.483)\\\" x=\\\"970.345\\\" y=\\\"694.483\\\">120<\\/text>\\n<\\/g>\\n<g clip-path=\\\"url(#clip4001)\\\">\\n<text style=\\\"fill:#000000; fill-opacity:1; font-family:Arial,Helvetica Neue,Helvetica,sans-serif; font-size:48px; text-anchor:middle;\\\" transform=\\\"rotate(0, 1091.57, 694.483)\\\" x=\\\"1091.57\\\" y=\\\"694.483\\\">140<\\/text>\\n<\\/g>\\n<g clip-path=\\\"url(#clip4001)\\\">\\n<text style=\\\"fill:#000000; fill-opacity:1; font-family:Arial,Helvetica Neue,Helvetica,sans-serif; font-size:48px; text-anchor:start;\\\" transform=\\\"rotate(0, 177.535, 664.21)\\\" x=\\\"177.535\\\" y=\\\"664.21\\\">5.0×10<\\/text>\\n<\\/g>\\n<g clip-path=\\\"url(#clip4001)\\\">\\n<text style=\\\"fill:#000000; fill-opacity:1; font-family:Arial,Helvetica Neue,Helvetica,sans-serif; font-size:38px; text-anchor:start;\\\" transform=\\\"rotate(0, 326.075, 636.8)\\\" x=\\\"326.075\\\" y=\\\"636.8\\\">4<\\/text>\\n<\\/g>\\n<g clip-path=\\\"url(#clip4001)\\\">\\n<text style=\\\"fill:#000000; fill-opacity:1; font-family:Arial,Helvetica Neue,Helvetica,sans-serif; font-size:48px; text-anchor:start;\\\" transform=\\\"rotate(0, 177.535, 466.464)\\\" x=\\\"177.535\\\" y=\\\"466.464\\\">1.0×10<\\/text>\\n<\\/g>\\n<g clip-path=\\\"url(#clip4001)\\\">\\n<text style=\\\"fill:#000000; fill-opacity:1; font-family:Arial,Helvetica Neue,Helvetica,sans-serif; font-size:38px; text-anchor:start;\\\" transform=\\\"rotate(0, 326.075, 439.054)\\\" x=\\\"326.075\\\" y=\\\"439.054\\\">5<\\/text>\\n<\\/g>\\n<g clip-path=\\\"url(#clip4001)\\\">\\n<text style=\\\"fill:#000000; fill-opacity:1; font-family:Arial,Helvetica Neue,Helvetica,sans-serif; font-size:48px; text-anchor:start;\\\" transform=\\\"rotate(0, 177.535, 268.718)\\\" x=\\\"177.535\\\" y=\\\"268.718\\\">1.5×10<\\/text>\\n<\\/g>\\n<g clip-path=\\\"url(#clip4001)\\\">\\n<text style=\\\"fill:#000000; fill-opacity:1; font-family:Arial,Helvetica Neue,Helvetica,sans-serif; font-size:38px; text-anchor:start;\\\" transform=\\\"rotate(0, 326.075, 241.307)\\\" x=\\\"326.075\\\" y=\\\"241.307\\\">5<\\/text>\\n<\\/g>\\n<g clip-path=\\\"url(#clip4001)\\\">\\n<text style=\\\"fill:#000000; fill-opacity:1; font-family:Arial,Helvetica Neue,Helvetica,sans-serif; font-size:48px; text-anchor:start;\\\" transform=\\\"rotate(0, 177.535, 70.9717)\\\" x=\\\"177.535\\\" y=\\\"70.9717\\\">2.0×10<\\/text>\\n<\\/g>\\n<g clip-path=\\\"url(#clip4001)\\\">\\n<text style=\\\"fill:#000000; fill-opacity:1; font-family:Arial,Helvetica Neue,Helvetica,sans-serif; font-size:38px; text-anchor:start;\\\" transform=\\\"rotate(0, 326.075, 43.5613)\\\" x=\\\"326.075\\\" y=\\\"43.5613\\\">5<\\/text>\\n<\\/g>\\n<g clip-path=\\\"url(#clip4001)\\\">\\n<text style=\\\"fill:#000000; fill-opacity:1; font-family:Arial,Helvetica Neue,Helvetica,sans-serif; font-size:66px; text-anchor:middle;\\\" transform=\\\"rotate(0, 773.362, 790.4)\\\" x=\\\"773.362\\\" y=\\\"790.4\\\">Cost of G1<\\/text>\\n<\\/g>\\n<g clip-path=\\\"url(#clip4001)\\\">\\n<text style=\\\"fill:#000000; fill-opacity:1; font-family:Arial,Helvetica Neue,Helvetica,sans-serif; font-size:66px; text-anchor:middle;\\\" transform=\\\"rotate(-90, 57.6, 343.863)\\\" x=\\\"57.6\\\" y=\\\"343.863\\\">Total cost<\\/text>\\n<\\/g>\\n<polyline clip-path=\\\"url(#clip4003)\\\" style=\\\"stroke:#009af9; stroke-width:4; stroke-opacity:1; fill:none\\\" points=\\\"\\n  394.549,600.201 424.854,580.426 455.159,560.652 485.464,540.877 515.769,521.103 546.074,501.328 576.379,481.553 606.684,461.779 636.989,442.004 667.294,422.229 \\n  697.6,402.455 727.905,382.68 758.21,362.906 788.515,343.131 818.82,323.356 849.125,303.582 879.43,287.11 909.735,271.561 940.04,256.98 970.345,243.408 \\n  1000.65,230.892 1030.96,219.474 1061.26,209.198 1091.57,200.109 1121.87,192.251 1152.18,185.666 \\n  \\\"\\/>\\n<polygon clip-path=\\\"url(#clip4001)\\\" points=\\\"\\n1518.17,640.483 2321.26,640.483 2321.26,47.2441 1518.17,47.2441 \\n  \\\" fill=\\\"#ffffff\\\" fill-rule=\\\"evenodd\\\" fill-opacity=\\\"1\\\"\\/>\\n<defs>\\n  <clipPath id=\\\"clip4004\\\">\\n    <rect x=\\\"1518\\\" y=\\\"47\\\" width=\\\"804\\\" height=\\\"594\\\"\\/>\\n  <\\/clipPath>\\n<\\/defs>\\n<polyline clip-path=\\\"url(#clip4004)\\\" style=\\\"stroke:#000000; stroke-width:2; stroke-opacity:0.1; fill:none\\\" points=\\\"\\n  1631.82,640.483 1631.82,47.2441 \\n  \\\"\\/>\\n<polyline clip-path=\\\"url(#clip4004)\\\" style=\\\"stroke:#000000; stroke-width:2; stroke-opacity:0.1; fill:none\\\" points=\\\"\\n  1753.04,640.483 1753.04,47.2441 \\n  \\\"\\/>\\n<polyline clip-path=\\\"url(#clip4004)\\\" style=\\\"stroke:#000000; stroke-width:2; stroke-opacity:0.1; fill:none\\\" points=\\\"\\n  1874.26,640.483 1874.26,47.2441 \\n  \\\"\\/>\\n<polyline clip-path=\\\"url(#clip4004)\\\" style=\\\"stroke:#000000; stroke-width:2; stroke-opacity:0.1; fill:none\\\" points=\\\"\\n  1995.48,640.483 1995.48,47.2441 \\n  \\\"\\/>\\n<polyline clip-path=\\\"url(#clip4004)\\\" style=\\\"stroke:#000000; stroke-width:2; stroke-opacity:0.1; fill:none\\\" points=\\\"\\n  2116.7,640.483 2116.7,47.2441 \\n  \\\"\\/>\\n<polyline clip-path=\\\"url(#clip4004)\\\" style=\\\"stroke:#000000; stroke-width:2; stroke-opacity:0.1; fill:none\\\" points=\\\"\\n  2237.92,640.483 2237.92,47.2441 \\n  \\\"\\/>\\n<polyline clip-path=\\\"url(#clip4004)\\\" style=\\\"stroke:#000000; stroke-width:2; stroke-opacity:0.1; fill:none\\\" points=\\\"\\n  1518.17,640.483 2321.26,640.483 \\n  \\\"\\/>\\n<polyline clip-path=\\\"url(#clip4004)\\\" style=\\\"stroke:#000000; stroke-width:2; stroke-opacity:0.1; fill:none\\\" points=\\\"\\n  1518.17,505.656 2321.26,505.656 \\n  \\\"\\/>\\n<polyline clip-path=\\\"url(#clip4004)\\\" style=\\\"stroke:#000000; stroke-width:2; stroke-opacity:0.1; fill:none\\\" points=\\\"\\n  1518.17,370.829 2321.26,370.829 \\n  \\\"\\/>\\n<polyline clip-path=\\\"url(#clip4004)\\\" style=\\\"stroke:#000000; stroke-width:2; stroke-opacity:0.1; fill:none\\\" points=\\\"\\n  1518.17,236.002 2321.26,236.002 \\n  \\\"\\/>\\n<polyline clip-path=\\\"url(#clip4004)\\\" style=\\\"stroke:#000000; stroke-width:2; stroke-opacity:0.1; fill:none\\\" points=\\\"\\n  1518.17,101.175 2321.26,101.175 \\n  \\\"\\/>\\n<polyline clip-path=\\\"url(#clip4001)\\\" style=\\\"stroke:#000000; stroke-width:4; stroke-opacity:1; fill:none\\\" points=\\\"\\n  1518.17,640.483 2321.26,640.483 \\n  \\\"\\/>\\n<polyline clip-path=\\\"url(#clip4001)\\\" style=\\\"stroke:#000000; stroke-width:4; stroke-opacity:1; fill:none\\\" points=\\\"\\n  1518.17,640.483 1518.17,47.2441 \\n  \\\"\\/>\\n<polyline clip-path=\\\"url(#clip4001)\\\" style=\\\"stroke:#000000; stroke-width:4; stroke-opacity:1; fill:none\\\" points=\\\"\\n  1631.82,640.483 1631.82,631.584 \\n  \\\"\\/>\\n<polyline clip-path=\\\"url(#clip4001)\\\" style=\\\"stroke:#000000; stroke-width:4; stroke-opacity:1; fill:none\\\" points=\\\"\\n  1753.04,640.483 1753.04,631.584 \\n  \\\"\\/>\\n<polyline clip-path=\\\"url(#clip4001)\\\" style=\\\"stroke:#000000; stroke-width:4; stroke-opacity:1; fill:none\\\" points=\\\"\\n  1874.26,640.483 1874.26,631.584 \\n  \\\"\\/>\\n<polyline clip-path=\\\"url(#clip4001)\\\" style=\\\"stroke:#000000; stroke-width:4; stroke-opacity:1; fill:none\\\" points=\\\"\\n  1995.48,640.483 1995.48,631.584 \\n  \\\"\\/>\\n<polyline clip-path=\\\"url(#clip4001)\\\" style=\\\"stroke:#000000; stroke-width:4; stroke-opacity:1; fill:none\\\" points=\\\"\\n  2116.7,640.483 2116.7,631.584 \\n  \\\"\\/>\\n<polyline clip-path=\\\"url(#clip4001)\\\" style=\\\"stroke:#000000; stroke-width:4; stroke-opacity:1; fill:none\\\" points=\\\"\\n  2237.92,640.483 2237.92,631.584 \\n  \\\"\\/>\\n<polyline clip-path=\\\"url(#clip4001)\\\" style=\\\"stroke:#000000; stroke-width:4; stroke-opacity:1; fill:none\\\" points=\\\"\\n  1518.17,640.483 1530.22,640.483 \\n  \\\"\\/>\\n<polyline clip-path=\\\"url(#clip4001)\\\" style=\\\"stroke:#000000; stroke-width:4; stroke-opacity:1; fill:none\\\" points=\\\"\\n  1518.17,505.656 1530.22,505.656 \\n  \\\"\\/>\\n<polyline clip-path=\\\"url(#clip4001)\\\" style=\\\"stroke:#000000; stroke-width:4; stroke-opacity:1; fill:none\\\" points=\\\"\\n  1518.17,370.829 1530.22,370.829 \\n  \\\"\\/>\\n<polyline clip-path=\\\"url(#clip4001)\\\" style=\\\"stroke:#000000; stroke-width:4; stroke-opacity:1; fill:none\\\" points=\\\"\\n  1518.17,236.002 1530.22,236.002 \\n  \\\"\\/>\\n<polyline clip-path=\\\"url(#clip4001)\\\" style=\\\"stroke:#000000; stroke-width:4; stroke-opacity:1; fill:none\\\" points=\\\"\\n  1518.17,101.175 1530.22,101.175 \\n  \\\"\\/>\\n<g clip-path=\\\"url(#clip4001)\\\">\\n<text style=\\\"fill:#000000; fill-opacity:1; font-family:Arial,Helvetica Neue,Helvetica,sans-serif; font-size:48px; text-anchor:middle;\\\" transform=\\\"rotate(0, 1631.82, 694.483)\\\" x=\\\"1631.82\\\" y=\\\"694.483\\\">40<\\/text>\\n<\\/g>\\n<g clip-path=\\\"url(#clip4001)\\\">\\n<text style=\\\"fill:#000000; fill-opacity:1; font-family:Arial,Helvetica Neue,Helvetica,sans-serif; font-size:48px; text-anchor:middle;\\\" transform=\\\"rotate(0, 1753.04, 694.483)\\\" x=\\\"1753.04\\\" y=\\\"694.483\\\">60<\\/text>\\n<\\/g>\\n<g clip-path=\\\"url(#clip4001)\\\">\\n<text style=\\\"fill:#000000; fill-opacity:1; font-family:Arial,Helvetica Neue,Helvetica,sans-serif; font-size:48px; text-anchor:middle;\\\" transform=\\\"rotate(0, 1874.26, 694.483)\\\" x=\\\"1874.26\\\" y=\\\"694.483\\\">80<\\/text>\\n<\\/g>\\n<g clip-path=\\\"url(#clip4001)\\\">\\n<text style=\\\"fill:#000000; fill-opacity:1; font-family:Arial,Helvetica Neue,Helvetica,sans-serif; font-size:48px; text-anchor:middle;\\\" transform=\\\"rotate(0, 1995.48, 694.483)\\\" x=\\\"1995.48\\\" y=\\\"694.483\\\">100<\\/text>\\n<\\/g>\\n<g clip-path=\\\"url(#clip4001)\\\">\\n<text style=\\\"fill:#000000; fill-opacity:1; font-family:Arial,Helvetica Neue,Helvetica,sans-serif; font-size:48px; text-anchor:middle;\\\" transform=\\\"rotate(0, 2116.7, 694.483)\\\" x=\\\"2116.7\\\" y=\\\"694.483\\\">120<\\/text>\\n<\\/g>\\n<g clip-path=\\\"url(#clip4001)\\\">\\n<text style=\\\"fill:#000000; fill-opacity:1; font-family:Arial,Helvetica Neue,Helvetica,sans-serif; font-size:48px; text-anchor:middle;\\\" transform=\\\"rotate(0, 2237.92, 694.483)\\\" x=\\\"2237.92\\\" y=\\\"694.483\\\">140<\\/text>\\n<\\/g>\\n<g clip-path=\\\"url(#clip4001)\\\">\\n<text style=\\\"fill:#000000; fill-opacity:1; font-family:Arial,Helvetica Neue,Helvetica,sans-serif; font-size:48px; text-anchor:end;\\\" transform=\\\"rotate(0, 1494.17, 657.983)\\\" x=\\\"1494.17\\\" y=\\\"657.983\\\">0<\\/text>\\n<\\/g>\\n<g clip-path=\\\"url(#clip4001)\\\">\\n<text style=\\\"fill:#000000; fill-opacity:1; font-family:Arial,Helvetica Neue,Helvetica,sans-serif; font-size:48px; text-anchor:end;\\\" transform=\\\"rotate(0, 1494.17, 523.156)\\\" x=\\\"1494.17\\\" y=\\\"523.156\\\">250<\\/text>\\n<\\/g>\\n<g clip-path=\\\"url(#clip4001)\\\">\\n<text style=\\\"fill:#000000; fill-opacity:1; font-family:Arial,Helvetica Neue,Helvetica,sans-serif; font-size:48px; text-anchor:end;\\\" transform=\\\"rotate(0, 1494.17, 388.329)\\\" x=\\\"1494.17\\\" y=\\\"388.329\\\">500<\\/text>\\n<\\/g>\\n<g clip-path=\\\"url(#clip4001)\\\">\\n<text style=\\\"fill:#000000; fill-opacity:1; font-family:Arial,Helvetica Neue,Helvetica,sans-serif; font-size:48px; text-anchor:end;\\\" transform=\\\"rotate(0, 1494.17, 253.502)\\\" x=\\\"1494.17\\\" y=\\\"253.502\\\">750<\\/text>\\n<\\/g>\\n<g clip-path=\\\"url(#clip4001)\\\">\\n<text style=\\\"fill:#000000; fill-opacity:1; font-family:Arial,Helvetica Neue,Helvetica,sans-serif; font-size:48px; text-anchor:end;\\\" transform=\\\"rotate(0, 1494.17, 118.675)\\\" x=\\\"1494.17\\\" y=\\\"118.675\\\">1000<\\/text>\\n<\\/g>\\n<g clip-path=\\\"url(#clip4001)\\\">\\n<text style=\\\"fill:#000000; fill-opacity:1; font-family:Arial,Helvetica Neue,Helvetica,sans-serif; font-size:66px; text-anchor:middle;\\\" transform=\\\"rotate(0, 1919.72, 790.4)\\\" x=\\\"1919.72\\\" y=\\\"790.4\\\">Cost of G1<\\/text>\\n<\\/g>\\n<g clip-path=\\\"url(#clip4001)\\\">\\n<text style=\\\"fill:#000000; fill-opacity:1; font-family:Arial,Helvetica Neue,Helvetica,sans-serif; font-size:66px; text-anchor:middle;\\\" transform=\\\"rotate(-90, 1311.25, 343.863)\\\" x=\\\"1311.25\\\" y=\\\"343.863\\\">Dispatch: G1<\\/text>\\n<\\/g>\\n<polyline clip-path=\\\"url(#clip4004)\\\" style=\\\"stroke:#009af9; stroke-width:4; stroke-opacity:1; fill:none\\\" points=\\\"\\n  1540.9,101.175 1571.21,101.175 1601.51,101.175 1631.82,101.175 1662.12,101.175 1692.43,101.175 1722.73,101.175 1753.04,101.175 1783.34,101.175 1813.65,101.175 \\n  1843.95,101.175 1874.26,101.175 1904.56,101.175 1934.87,101.175 1965.17,101.175 1995.48,137.491 2025.79,203.643 2056.09,229.41 2086.4,256.376 2116.7,284.539 \\n  2147.01,313.902 2177.31,344.463 2207.62,376.222 2237.92,409.18 2268.23,443.336 2298.53,478.69 \\n  \\\"\\/>\\n<polygon clip-path=\\\"url(#clip4001)\\\" points=\\\"\\n371.82,1440.48 1174.9,1440.48 1174.9,847.244 371.82,847.244 \\n  \\\" fill=\\\"#ffffff\\\" fill-rule=\\\"evenodd\\\" fill-opacity=\\\"1\\\"\\/>\\n<defs>\\n  <clipPath id=\\\"clip4005\\\">\\n    <rect x=\\\"371\\\" y=\\\"847\\\" width=\\\"804\\\" height=\\\"594\\\"\\/>\\n  <\\/clipPath>\\n<\\/defs>\\n<polyline clip-path=\\\"url(#clip4005)\\\" style=\\\"stroke:#000000; stroke-width:2; stroke-opacity:0.1; fill:none\\\" points=\\\"\\n  485.464,1440.48 485.464,847.244 \\n  \\\"\\/>\\n<polyline clip-path=\\\"url(#clip4005)\\\" style=\\\"stroke:#000000; stroke-width:2; stroke-opacity:0.1; fill:none\\\" points=\\\"\\n  606.684,1440.48 606.684,847.244 \\n  \\\"\\/>\\n<polyline clip-path=\\\"url(#clip4005)\\\" style=\\\"stroke:#000000; stroke-width:2; stroke-opacity:0.1; fill:none\\\" points=\\\"\\n  727.905,1440.48 727.905,847.244 \\n  \\\"\\/>\\n<polyline clip-path=\\\"url(#clip4005)\\\" style=\\\"stroke:#000000; stroke-width:2; stroke-opacity:0.1; fill:none\\\" points=\\\"\\n  849.125,1440.48 849.125,847.244 \\n  \\\"\\/>\\n<polyline clip-path=\\\"url(#clip4005)\\\" style=\\\"stroke:#000000; stroke-width:2; stroke-opacity:0.1; fill:none\\\" points=\\\"\\n  970.345,1440.48 970.345,847.244 \\n  \\\"\\/>\\n<polyline clip-path=\\\"url(#clip4005)\\\" style=\\\"stroke:#000000; stroke-width:2; stroke-opacity:0.1; fill:none\\\" points=\\\"\\n  1091.57,1440.48 1091.57,847.244 \\n  \\\"\\/>\\n<polyline clip-path=\\\"url(#clip4005)\\\" style=\\\"stroke:#000000; stroke-width:2; stroke-opacity:0.1; fill:none\\\" points=\\\"\\n  371.82,1440.48 1174.9,1440.48 \\n  \\\"\\/>\\n<polyline clip-path=\\\"url(#clip4005)\\\" style=\\\"stroke:#000000; stroke-width:2; stroke-opacity:0.1; fill:none\\\" points=\\\"\\n  371.82,1255.1 1174.9,1255.1 \\n  \\\"\\/>\\n<polyline clip-path=\\\"url(#clip4005)\\\" style=\\\"stroke:#000000; stroke-width:2; stroke-opacity:0.1; fill:none\\\" points=\\\"\\n  371.82,1069.71 1174.9,1069.71 \\n  \\\"\\/>\\n<polyline clip-path=\\\"url(#clip4005)\\\" style=\\\"stroke:#000000; stroke-width:2; stroke-opacity:0.1; fill:none\\\" points=\\\"\\n  371.82,884.322 1174.9,884.322 \\n  \\\"\\/>\\n<polyline clip-path=\\\"url(#clip4001)\\\" style=\\\"stroke:#000000; stroke-width:4; stroke-opacity:1; fill:none\\\" points=\\\"\\n  371.82,1440.48 1174.9,1440.48 \\n  \\\"\\/>\\n<polyline clip-path=\\\"url(#clip4001)\\\" style=\\\"stroke:#000000; stroke-width:4; stroke-opacity:1; fill:none\\\" points=\\\"\\n  371.82,1440.48 371.82,847.244 \\n  \\\"\\/>\\n<polyline clip-path=\\\"url(#clip4001)\\\" style=\\\"stroke:#000000; stroke-width:4; stroke-opacity:1; fill:none\\\" points=\\\"\\n  485.464,1440.48 485.464,1431.58 \\n  \\\"\\/>\\n<polyline clip-path=\\\"url(#clip4001)\\\" style=\\\"stroke:#000000; stroke-width:4; stroke-opacity:1; fill:none\\\" points=\\\"\\n  606.684,1440.48 606.684,1431.58 \\n  \\\"\\/>\\n<polyline clip-path=\\\"url(#clip4001)\\\" style=\\\"stroke:#000000; stroke-width:4; stroke-opacity:1; fill:none\\\" points=\\\"\\n  727.905,1440.48 727.905,1431.58 \\n  \\\"\\/>\\n<polyline clip-path=\\\"url(#clip4001)\\\" style=\\\"stroke:#000000; stroke-width:4; stroke-opacity:1; fill:none\\\" points=\\\"\\n  849.125,1440.48 849.125,1431.58 \\n  \\\"\\/>\\n<polyline clip-path=\\\"url(#clip4001)\\\" style=\\\"stroke:#000000; stroke-width:4; stroke-opacity:1; fill:none\\\" points=\\\"\\n  970.345,1440.48 970.345,1431.58 \\n  \\\"\\/>\\n<polyline clip-path=\\\"url(#clip4001)\\\" style=\\\"stroke:#000000; stroke-width:4; stroke-opacity:1; fill:none\\\" points=\\\"\\n  1091.57,1440.48 1091.57,1431.58 \\n  \\\"\\/>\\n<polyline clip-path=\\\"url(#clip4001)\\\" style=\\\"stroke:#000000; stroke-width:4; stroke-opacity:1; fill:none\\\" points=\\\"\\n  371.82,1440.48 383.866,1440.48 \\n  \\\"\\/>\\n<polyline clip-path=\\\"url(#clip4001)\\\" style=\\\"stroke:#000000; stroke-width:4; stroke-opacity:1; fill:none\\\" points=\\\"\\n  371.82,1255.1 383.866,1255.1 \\n  \\\"\\/>\\n<polyline clip-path=\\\"url(#clip4001)\\\" style=\\\"stroke:#000000; stroke-width:4; stroke-opacity:1; fill:none\\\" points=\\\"\\n  371.82,1069.71 383.866,1069.71 \\n  \\\"\\/>\\n<polyline clip-path=\\\"url(#clip4001)\\\" style=\\\"stroke:#000000; stroke-width:4; stroke-opacity:1; fill:none\\\" points=\\\"\\n  371.82,884.322 383.866,884.322 \\n  \\\"\\/>\\n<g clip-path=\\\"url(#clip4001)\\\">\\n<text style=\\\"fill:#000000; fill-opacity:1; font-family:Arial,Helvetica Neue,Helvetica,sans-serif; font-size:48px; text-anchor:middle;\\\" transform=\\\"rotate(0, 485.464, 1494.48)\\\" x=\\\"485.464\\\" y=\\\"1494.48\\\">40<\\/text>\\n<\\/g>\\n<g clip-path=\\\"url(#clip4001)\\\">\\n<text style=\\\"fill:#000000; fill-opacity:1; font-family:Arial,Helvetica Neue,Helvetica,sans-serif; font-size:48px; text-anchor:middle;\\\" transform=\\\"rotate(0, 606.684, 1494.48)\\\" x=\\\"606.684\\\" y=\\\"1494.48\\\">60<\\/text>\\n<\\/g>\\n<g clip-path=\\\"url(#clip4001)\\\">\\n<text style=\\\"fill:#000000; fill-opacity:1; font-family:Arial,Helvetica Neue,Helvetica,sans-serif; font-size:48px; text-anchor:middle;\\\" transform=\\\"rotate(0, 727.905, 1494.48)\\\" x=\\\"727.905\\\" y=\\\"1494.48\\\">80<\\/text>\\n<\\/g>\\n<g clip-path=\\\"url(#clip4001)\\\">\\n<text style=\\\"fill:#000000; fill-opacity:1; font-family:Arial,Helvetica Neue,Helvetica,sans-serif; font-size:48px; text-anchor:middle;\\\" transform=\\\"rotate(0, 849.125, 1494.48)\\\" x=\\\"849.125\\\" y=\\\"1494.48\\\">100<\\/text>\\n<\\/g>\\n<g clip-path=\\\"url(#clip4001)\\\">\\n<text style=\\\"fill:#000000; fill-opacity:1; font-family:Arial,Helvetica Neue,Helvetica,sans-serif; font-size:48px; text-anchor:middle;\\\" transform=\\\"rotate(0, 970.345, 1494.48)\\\" x=\\\"970.345\\\" y=\\\"1494.48\\\">120<\\/text>\\n<\\/g>\\n<g clip-path=\\\"url(#clip4001)\\\">\\n<text style=\\\"fill:#000000; fill-opacity:1; font-family:Arial,Helvetica Neue,Helvetica,sans-serif; font-size:48px; text-anchor:middle;\\\" transform=\\\"rotate(0, 1091.57, 1494.48)\\\" x=\\\"1091.57\\\" y=\\\"1494.48\\\">140<\\/text>\\n<\\/g>\\n<g clip-path=\\\"url(#clip4001)\\\">\\n<text style=\\\"fill:#000000; fill-opacity:1; font-family:Arial,Helvetica Neue,Helvetica,sans-serif; font-size:48px; text-anchor:end;\\\" transform=\\\"rotate(0, 347.82, 1457.98)\\\" x=\\\"347.82\\\" y=\\\"1457.98\\\">0<\\/text>\\n<\\/g>\\n<g clip-path=\\\"url(#clip4001)\\\">\\n<text style=\\\"fill:#000000; fill-opacity:1; font-family:Arial,Helvetica Neue,Helvetica,sans-serif; font-size:48px; text-anchor:end;\\\" transform=\\\"rotate(0, 347.82, 1272.6)\\\" x=\\\"347.82\\\" y=\\\"1272.6\\\">500<\\/text>\\n<\\/g>\\n<g clip-path=\\\"url(#clip4001)\\\">\\n<text style=\\\"fill:#000000; fill-opacity:1; font-family:Arial,Helvetica Neue,Helvetica,sans-serif; font-size:48px; text-anchor:end;\\\" transform=\\\"rotate(0, 347.82, 1087.21)\\\" x=\\\"347.82\\\" y=\\\"1087.21\\\">1000<\\/text>\\n<\\/g>\\n<g clip-path=\\\"url(#clip4001)\\\">\\n<text style=\\\"fill:#000000; fill-opacity:1; font-family:Arial,Helvetica Neue,Helvetica,sans-serif; font-size:48px; text-anchor:end;\\\" transform=\\\"rotate(0, 347.82, 901.822)\\\" x=\\\"347.82\\\" y=\\\"901.822\\\">1500<\\/text>\\n<\\/g>\\n<g clip-path=\\\"url(#clip4001)\\\">\\n<text style=\\\"fill:#000000; fill-opacity:1; font-family:Arial,Helvetica Neue,Helvetica,sans-serif; font-size:66px; text-anchor:middle;\\\" transform=\\\"rotate(0, 773.362, 1590.4)\\\" x=\\\"773.362\\\" y=\\\"1590.4\\\">Cost of G1<\\/text>\\n<\\/g>\\n<g clip-path=\\\"url(#clip4001)\\\">\\n<text style=\\\"fill:#000000; fill-opacity:1; font-family:Arial,Helvetica Neue,Helvetica,sans-serif; font-size:66px; text-anchor:middle;\\\" transform=\\\"rotate(-90, 57.6, 1143.86)\\\" x=\\\"57.6\\\" y=\\\"1143.86\\\">Dispatch: G2<\\/text>\\n<\\/g>\\n<polyline clip-path=\\\"url(#clip4005)\\\" style=\\\"stroke:#009af9; stroke-width:4; stroke-opacity:1; fill:none\\\" points=\\\"\\n  394.549,1275.69 424.854,1275.69 455.159,1275.69 485.464,1275.69 515.769,1275.69 546.074,1275.69 576.379,1275.69 606.684,1275.69 636.989,1275.69 667.294,1275.69 \\n  697.6,1275.69 727.905,1275.69 758.21,1275.69 788.515,1275.69 818.82,1275.69 849.125,1275.69 879.43,1258.8 909.735,1241.09 940.04,1222.55 970.345,1203.19 \\n  1000.65,1183 1030.96,1161.99 1061.26,1140.16 1091.57,1117.5 1121.87,1094.01 1152.18,1069.71 \\n  \\\"\\/>\\n<polygon clip-path=\\\"url(#clip4001)\\\" points=\\\"\\n1491.41,1440.48 2321.26,1440.48 2321.26,847.244 1491.41,847.244 \\n  \\\" fill=\\\"#ffffff\\\" fill-rule=\\\"evenodd\\\" fill-opacity=\\\"1\\\"\\/>\\n<defs>\\n  <clipPath id=\\\"clip4006\\\">\\n    <rect x=\\\"1491\\\" y=\\\"847\\\" width=\\\"831\\\" height=\\\"594\\\"\\/>\\n  <\\/clipPath>\\n<\\/defs>\\n<polyline clip-path=\\\"url(#clip4006)\\\" style=\\\"stroke:#000000; stroke-width:2; stroke-opacity:0.1; fill:none\\\" points=\\\"\\n  1608.84,1440.48 1608.84,847.244 \\n  \\\"\\/>\\n<polyline clip-path=\\\"url(#clip4006)\\\" style=\\\"stroke:#000000; stroke-width:2; stroke-opacity:0.1; fill:none\\\" points=\\\"\\n  1734.1,1440.48 1734.1,847.244 \\n  \\\"\\/>\\n<polyline clip-path=\\\"url(#clip4006)\\\" style=\\\"stroke:#000000; stroke-width:2; stroke-opacity:0.1; fill:none\\\" points=\\\"\\n  1859.36,1440.48 1859.36,847.244 \\n  \\\"\\/>\\n<polyline clip-path=\\\"url(#clip4006)\\\" style=\\\"stroke:#000000; stroke-width:2; stroke-opacity:0.1; fill:none\\\" points=\\\"\\n  1984.62,1440.48 1984.62,847.244 \\n  \\\"\\/>\\n<polyline clip-path=\\\"url(#clip4006)\\\" style=\\\"stroke:#000000; stroke-width:2; stroke-opacity:0.1; fill:none\\\" points=\\\"\\n  2109.88,1440.48 2109.88,847.244 \\n  \\\"\\/>\\n<polyline clip-path=\\\"url(#clip4006)\\\" style=\\\"stroke:#000000; stroke-width:2; stroke-opacity:0.1; fill:none\\\" points=\\\"\\n  2235.14,1440.48 2235.14,847.244 \\n  \\\"\\/>\\n<polyline clip-path=\\\"url(#clip4006)\\\" style=\\\"stroke:#000000; stroke-width:2; stroke-opacity:0.1; fill:none\\\" points=\\\"\\n  1491.41,1440.48 2321.26,1440.48 \\n  \\\"\\/>\\n<polyline clip-path=\\\"url(#clip4006)\\\" style=\\\"stroke:#000000; stroke-width:2; stroke-opacity:0.1; fill:none\\\" points=\\\"\\n  1491.41,1321.83 2321.26,1321.83 \\n  \\\"\\/>\\n<polyline clip-path=\\\"url(#clip4006)\\\" style=\\\"stroke:#000000; stroke-width:2; stroke-opacity:0.1; fill:none\\\" points=\\\"\\n  1491.41,1203.19 2321.26,1203.19 \\n  \\\"\\/>\\n<polyline clip-path=\\\"url(#clip4006)\\\" style=\\\"stroke:#000000; stroke-width:2; stroke-opacity:0.1; fill:none\\\" points=\\\"\\n  1491.41,1084.54 2321.26,1084.54 \\n  \\\"\\/>\\n<polyline clip-path=\\\"url(#clip4006)\\\" style=\\\"stroke:#000000; stroke-width:2; stroke-opacity:0.1; fill:none\\\" points=\\\"\\n  1491.41,965.892 2321.26,965.892 \\n  \\\"\\/>\\n<polyline clip-path=\\\"url(#clip4006)\\\" style=\\\"stroke:#000000; stroke-width:2; stroke-opacity:0.1; fill:none\\\" points=\\\"\\n  1491.41,847.244 2321.26,847.244 \\n  \\\"\\/>\\n<polyline clip-path=\\\"url(#clip4001)\\\" style=\\\"stroke:#000000; stroke-width:4; stroke-opacity:1; fill:none\\\" points=\\\"\\n  1491.41,1440.48 2321.26,1440.48 \\n  \\\"\\/>\\n<polyline clip-path=\\\"url(#clip4001)\\\" style=\\\"stroke:#000000; stroke-width:4; stroke-opacity:1; fill:none\\\" points=\\\"\\n  1491.41,1440.48 1491.41,847.244 \\n  \\\"\\/>\\n<polyline clip-path=\\\"url(#clip4001)\\\" style=\\\"stroke:#000000; stroke-width:4; stroke-opacity:1; fill:none\\\" points=\\\"\\n  1608.84,1440.48 1608.84,1431.58 \\n  \\\"\\/>\\n<polyline clip-path=\\\"url(#clip4001)\\\" style=\\\"stroke:#000000; stroke-width:4; stroke-opacity:1; fill:none\\\" points=\\\"\\n  1734.1,1440.48 1734.1,1431.58 \\n  \\\"\\/>\\n<polyline clip-path=\\\"url(#clip4001)\\\" style=\\\"stroke:#000000; stroke-width:4; stroke-opacity:1; fill:none\\\" points=\\\"\\n  1859.36,1440.48 1859.36,1431.58 \\n  \\\"\\/>\\n<polyline clip-path=\\\"url(#clip4001)\\\" style=\\\"stroke:#000000; stroke-width:4; stroke-opacity:1; fill:none\\\" points=\\\"\\n  1984.62,1440.48 1984.62,1431.58 \\n  \\\"\\/>\\n<polyline clip-path=\\\"url(#clip4001)\\\" style=\\\"stroke:#000000; stroke-width:4; stroke-opacity:1; fill:none\\\" points=\\\"\\n  2109.88,1440.48 2109.88,1431.58 \\n  \\\"\\/>\\n<polyline clip-path=\\\"url(#clip4001)\\\" style=\\\"stroke:#000000; stroke-width:4; stroke-opacity:1; fill:none\\\" points=\\\"\\n  2235.14,1440.48 2235.14,1431.58 \\n  \\\"\\/>\\n<polyline clip-path=\\\"url(#clip4001)\\\" style=\\\"stroke:#000000; stroke-width:4; stroke-opacity:1; fill:none\\\" points=\\\"\\n  1491.41,1440.48 1503.86,1440.48 \\n  \\\"\\/>\\n<polyline clip-path=\\\"url(#clip4001)\\\" style=\\\"stroke:#000000; stroke-width:4; stroke-opacity:1; fill:none\\\" points=\\\"\\n  1491.41,1321.83 1503.86,1321.83 \\n  \\\"\\/>\\n<polyline clip-path=\\\"url(#clip4001)\\\" style=\\\"stroke:#000000; stroke-width:4; stroke-opacity:1; fill:none\\\" points=\\\"\\n  1491.41,1203.19 1503.86,1203.19 \\n  \\\"\\/>\\n<polyline clip-path=\\\"url(#clip4001)\\\" style=\\\"stroke:#000000; stroke-width:4; stroke-opacity:1; fill:none\\\" points=\\\"\\n  1491.41,1084.54 1503.86,1084.54 \\n  \\\"\\/>\\n<polyline clip-path=\\\"url(#clip4001)\\\" style=\\\"stroke:#000000; stroke-width:4; stroke-opacity:1; fill:none\\\" points=\\\"\\n  1491.41,965.892 1503.86,965.892 \\n  \\\"\\/>\\n<polyline clip-path=\\\"url(#clip4001)\\\" style=\\\"stroke:#000000; stroke-width:4; stroke-opacity:1; fill:none\\\" points=\\\"\\n  1491.41,847.244 1503.86,847.244 \\n  \\\"\\/>\\n<g clip-path=\\\"url(#clip4001)\\\">\\n<text style=\\\"fill:#000000; fill-opacity:1; font-family:Arial,Helvetica Neue,Helvetica,sans-serif; font-size:48px; text-anchor:middle;\\\" transform=\\\"rotate(0, 1608.84, 1494.48)\\\" x=\\\"1608.84\\\" y=\\\"1494.48\\\">40<\\/text>\\n<\\/g>\\n<g clip-path=\\\"url(#clip4001)\\\">\\n<text style=\\\"fill:#000000; fill-opacity:1; font-family:Arial,Helvetica Neue,Helvetica,sans-serif; font-size:48px; text-anchor:middle;\\\" transform=\\\"rotate(0, 1734.1, 1494.48)\\\" x=\\\"1734.1\\\" y=\\\"1494.48\\\">60<\\/text>\\n<\\/g>\\n<g clip-path=\\\"url(#clip4001)\\\">\\n<text style=\\\"fill:#000000; fill-opacity:1; font-family:Arial,Helvetica Neue,Helvetica,sans-serif; font-size:48px; text-anchor:middle;\\\" transform=\\\"rotate(0, 1859.36, 1494.48)\\\" x=\\\"1859.36\\\" y=\\\"1494.48\\\">80<\\/text>\\n<\\/g>\\n<g clip-path=\\\"url(#clip4001)\\\">\\n<text style=\\\"fill:#000000; fill-opacity:1; font-family:Arial,Helvetica Neue,Helvetica,sans-serif; font-size:48px; text-anchor:middle;\\\" transform=\\\"rotate(0, 1984.62, 1494.48)\\\" x=\\\"1984.62\\\" y=\\\"1494.48\\\">100<\\/text>\\n<\\/g>\\n<g clip-path=\\\"url(#clip4001)\\\">\\n<text style=\\\"fill:#000000; fill-opacity:1; font-family:Arial,Helvetica Neue,Helvetica,sans-serif; font-size:48px; text-anchor:middle;\\\" transform=\\\"rotate(0, 2109.88, 1494.48)\\\" x=\\\"2109.88\\\" y=\\\"1494.48\\\">120<\\/text>\\n<\\/g>\\n<g clip-path=\\\"url(#clip4001)\\\">\\n<text style=\\\"fill:#000000; fill-opacity:1; font-family:Arial,Helvetica Neue,Helvetica,sans-serif; font-size:48px; text-anchor:middle;\\\" transform=\\\"rotate(0, 2235.14, 1494.48)\\\" x=\\\"2235.14\\\" y=\\\"1494.48\\\">140<\\/text>\\n<\\/g>\\n<g clip-path=\\\"url(#clip4001)\\\">\\n<text style=\\\"fill:#000000; fill-opacity:1; font-family:Arial,Helvetica Neue,Helvetica,sans-serif; font-size:48px; text-anchor:end;\\\" transform=\\\"rotate(0, 1467.41, 1457.98)\\\" x=\\\"1467.41\\\" y=\\\"1457.98\\\">0<\\/text>\\n<\\/g>\\n<g clip-path=\\\"url(#clip4001)\\\">\\n<text style=\\\"fill:#000000; fill-opacity:1; font-family:Arial,Helvetica Neue,Helvetica,sans-serif; font-size:48px; text-anchor:end;\\\" transform=\\\"rotate(0, 1467.41, 1339.33)\\\" x=\\\"1467.41\\\" y=\\\"1339.33\\\">50<\\/text>\\n<\\/g>\\n<g clip-path=\\\"url(#clip4001)\\\">\\n<text style=\\\"fill:#000000; fill-opacity:1; font-family:Arial,Helvetica Neue,Helvetica,sans-serif; font-size:48px; text-anchor:end;\\\" transform=\\\"rotate(0, 1467.41, 1220.69)\\\" x=\\\"1467.41\\\" y=\\\"1220.69\\\">100<\\/text>\\n<\\/g>\\n<g clip-path=\\\"url(#clip4001)\\\">\\n<text style=\\\"fill:#000000; fill-opacity:1; font-family:Arial,Helvetica Neue,Helvetica,sans-serif; font-size:48px; text-anchor:end;\\\" transform=\\\"rotate(0, 1467.41, 1102.04)\\\" x=\\\"1467.41\\\" y=\\\"1102.04\\\">150<\\/text>\\n<\\/g>\\n<g clip-path=\\\"url(#clip4001)\\\">\\n<text style=\\\"fill:#000000; fill-opacity:1; font-family:Arial,Helvetica Neue,Helvetica,sans-serif; font-size:48px; text-anchor:end;\\\" transform=\\\"rotate(0, 1467.41, 983.392)\\\" x=\\\"1467.41\\\" y=\\\"983.392\\\">200<\\/text>\\n<\\/g>\\n<g clip-path=\\\"url(#clip4001)\\\">\\n<text style=\\\"fill:#000000; fill-opacity:1; font-family:Arial,Helvetica Neue,Helvetica,sans-serif; font-size:48px; text-anchor:end;\\\" transform=\\\"rotate(0, 1467.41, 864.744)\\\" x=\\\"1467.41\\\" y=\\\"864.744\\\">250<\\/text>\\n<\\/g>\\n<g clip-path=\\\"url(#clip4001)\\\">\\n<text style=\\\"fill:#000000; fill-opacity:1; font-family:Arial,Helvetica Neue,Helvetica,sans-serif; font-size:66px; text-anchor:middle;\\\" transform=\\\"rotate(0, 1906.34, 1590.4)\\\" x=\\\"1906.34\\\" y=\\\"1590.4\\\">Cost of G1<\\/text>\\n<\\/g>\\n<g clip-path=\\\"url(#clip4001)\\\">\\n<text style=\\\"fill:#000000; fill-opacity:1; font-family:Arial,Helvetica Neue,Helvetica,sans-serif; font-size:66px; text-anchor:middle;\\\" transform=\\\"rotate(-90, 1311.25, 1143.86)\\\" x=\\\"1311.25\\\" y=\\\"1143.86\\\">Dispatch: Wind<\\/text>\\n<\\/g>\\n<polyline clip-path=\\\"url(#clip4006)\\\" style=\\\"stroke:#009af9; stroke-width:4; stroke-opacity:1; fill:none\\\" points=\\\"\\n  1514.9,1308.65 1546.21,1308.65 1577.53,1308.65 1608.84,1308.65 1640.16,1308.65 1671.47,1308.65 1702.79,1308.65 1734.1,1308.65 1765.42,1308.65 1796.73,1308.65 \\n  1828.05,1308.65 1859.36,1308.65 1890.68,1308.65 1921.99,1308.65 1953.31,1308.65 1984.62,1148.86 2015.94,965.892 2047.25,965.892 2078.57,965.892 2109.88,965.892 \\n  2141.2,965.892 2172.51,965.892 2203.83,965.892 2235.14,965.892 2266.46,965.892 2297.77,965.892 \\n  \\\"\\/>\\n<\\/svg>\\n\"},\"nodeType\":\"DOM\",\"type\":\"node\",\"instanceArgs\":{\"namespace\":\"html\",\"tag\":\"div\"},\"children\":[]}]}}}},\"children\":[{\"props\":{},\"nodeType\":\"ObservableNode\",\"type\":\"node\",\"instanceArgs\":{\"id\":\"ob_68\",\"name\":\"obs-node\"},\"children\":[]}]}]},\n",
       "        );\n",
       "    } else {\n",
       "        document\n",
       "            .querySelector('[data-webio-mountpoint=\"16290156869776738312\"]')\n",
       "            .innerHTML = '<strong>WebIO not detected.</strong>';\n",
       "    }\n",
       "    </script>\n",
       "</div>\n"
      ],
      "text/plain": [
       "Widget{:manipulate,Any}(OrderedDict{Symbol,Any}(:cost_of_wind=>Widget{:slider,Float64}(OrderedDict{Symbol,Any}(:changes=>Observable{Int64} with 1 listeners. Value:\n",
       "0,:index=>Observable{Any} with 2 listeners. Value:\n",
       "11,:formatted_vals=>Observable{Any} with 1 listeners. Value:\n",
       "[\"50.0\", \"55.0\", \"60.0\", \"65.0\", \"70.0\", \"75.0\", \"80.0\", \"85.0\", \"90.0\", \"95.0\"  …  \"105.0\", \"110.0\", \"115.0\", \"120.0\", \"125.0\", \"130.0\", \"135.0\", \"140.0\", \"145.0\", \"150.0\"],:formatted_value=>Observable{String} with 1 listeners. Value:\n",
       "\"100.0\",:value=>Observable{Float64} with 2 listeners. Value:\n",
       "100.0), Observable{Float64} with 2 listeners. Value:\n",
       "100.0, Scope(\"knockout-component-f67fed6a-0f0c-45ca-91f7-cef1fff56aa8\", Node{DOM}(DOM(:html, :div), Any[Node{DOM}(DOM(:html, :div), Any[Node{DOM}(DOM(:html, :label), Any[\"cost_of_wind\"], Dict{Symbol,Any}(:className=>\"interact \",:style=>Dict{Any,Any}(:padding=>\"5px 10px 0px 10px\")), 1)], Dict{Symbol,Any}(:attributes=>Dict(\"style\"=>\"text-align:right;width:18%\")), 2), Node{DOM}(DOM(:html, :div), Any[Node{DOM}(DOM(:html, :input), Any[], Dict{Symbol,Any}(:max=>21,:min=>1,:attributes=>Dict{Any,Any}(:type=>\"range\",Symbol(\"data-bind\")=>\"numericValue: index, valueUpdate: 'input', event: {change : function () {this.changes(this.changes()+1)}}\",\"orient\"=>\"horizontal\"),:step=>1,:className=>\"slider slider is-fullwidth\",:style=>Dict{Any,Any}()), 0)], Dict{Symbol,Any}(:attributes=>Dict(\"style\"=>\"flex-grow:1; margin: 0 2%\")), 1), Node{DOM}(DOM(:html, :div), Any[Node{DOM}(DOM(:html, :p), Any[], Dict{Symbol,Any}(:attributes=>Dict(\"data-bind\"=>\"text: formatted_value\")), 0)], Dict{Symbol,Any}(:attributes=>Dict(\"style\"=>\"width:18%\")), 1)], Dict{Symbol,Any}(:attributes=>Dict(\"style\"=>\"display:flex; justify-content:center; align-items:center;\")), 7), Dict{String,Tuple{Observables.AbstractObservable,Union{Nothing, Bool}}}(\"formatted_vals\"=>(Observable{Any} with 1 listeners. Value:\n",
       "[\"50.0\", \"55.0\", \"60.0\", \"65.0\", \"70.0\", \"75.0\", \"80.0\", \"85.0\", \"90.0\", \"95.0\"  …  \"105.0\", \"110.0\", \"115.0\", \"120.0\", \"125.0\", \"130.0\", \"135.0\", \"140.0\", \"145.0\", \"150.0\"], nothing),\"changes\"=>(Observable{Int64} with 1 listeners. Value:\n",
       "0, nothing),\"formatted_value\"=>(Observable{String} with 1 listeners. Value:\n",
       "\"100.0\", nothing),\"index\"=>(Observable{Any} with 2 listeners. Value:\n",
       "11, nothing)), Set(String[]), nothing, Any[\"knockout\"=>\"C:\\\\Users\\\\Oscar\\\\.julia\\\\packages\\\\Knockout\\\\JIqpG\\\\src\\\\..\\\\assets\\\\knockout.js\", \"knockout_punches\"=>\"C:\\\\Users\\\\Oscar\\\\.julia\\\\packages\\\\Knockout\\\\JIqpG\\\\src\\\\..\\\\assets\\\\knockout_punches.js\", \"C:\\\\Users\\\\Oscar\\\\.julia\\\\packages\\\\InteractBase\\\\Q4IkI\\\\src\\\\..\\\\assets\\\\all.js\", \"C:\\\\Users\\\\Oscar\\\\.julia\\\\packages\\\\InteractBase\\\\Q4IkI\\\\src\\\\..\\\\assets\\\\style.css\", \"C:\\\\Users\\\\Oscar\\\\.julia\\\\packages\\\\InteractBulma\\\\Ohu5Y\\\\src\\\\..\\\\assets\\\\main.css\"], Dict{Any,Any}(\"formatted_vals\"=>Any[JSString(\"(function (val){return (val!=this.model[\\\"formatted_vals\\\"]()) ? (this.valueFromJulia[\\\"formatted_vals\\\"]=true, this.model[\\\"formatted_vals\\\"](val)) : undefined})\")],\"_promises\"=>Dict{Any,Any}(\"importsLoaded\"=>Any[JSString(\"function (ko, koPunches) {\\n    ko.punches.enableAll();\\n    ko.bindingHandlers.numericValue = {\\n        init : function(element, valueAccessor, allBindings, data, context) {\\n            var stringified = ko.observable(ko.unwrap(valueAccessor()));\\n            stringified.subscribe(function(value) {\\n                var val = parseFloat(value);\\n                if (!isNaN(val)) {\\n                    valueAccessor()(val);\\n                }\\n            })\\n            valueAccessor().subscribe(function(value) {\\n                var str = JSON.stringify(value);\\n                if ((str == \\\"0\\\") && ([\\\"-0\\\", \\\"-0.\\\"].indexOf(stringified()) >= 0))\\n                     return;\\n                 if ([\\\"null\\\", \\\"\\\"].indexOf(str) >= 0)\\n                     return;\\n                stringified(str);\\n            })\\n            ko.applyBindingsToNode(element, { value: stringified, valueUpdate: allBindings.get('valueUpdate')}, context);\\n        }\\n    };\\n    var json_data = JSON.parse(\\\"{\\\\\\\"formatted_vals\\\\\\\":[\\\\\\\"50.0\\\\\\\",\\\\\\\"55.0\\\\\\\",\\\\\\\"60.0\\\\\\\",\\\\\\\"65.0\\\\\\\",\\\\\\\"70.0\\\\\\\",\\\\\\\"75.0\\\\\\\",\\\\\\\"80.0\\\\\\\",\\\\\\\"85.0\\\\\\\",\\\\\\\"90.0\\\\\\\",\\\\\\\"95.0\\\\\\\",\\\\\\\"100.0\\\\\\\",\\\\\\\"105.0\\\\\\\",\\\\\\\"110.0\\\\\\\",\\\\\\\"115.0\\\\\\\",\\\\\\\"120.0\\\\\\\",\\\\\\\"125.0\\\\\\\",\\\\\\\"130.0\\\\\\\",\\\\\\\"135.0\\\\\\\",\\\\\\\"140.0\\\\\\\",\\\\\\\"145.0\\\\\\\",\\\\\\\"150.0\\\\\\\"],\\\\\\\"changes\\\\\\\":0,\\\\\\\"formatted_value\\\\\\\":\\\\\\\"100.0\\\\\\\",\\\\\\\"index\\\\\\\":11}\\\");\\n    var self = this;\\n    function AppViewModel() {\\n        for (var key in json_data) {\\n            var el = json_data[key];\\n            this[key] = Array.isArray(el) ? ko.observableArray(el) : ko.observable(el);\\n        }\\n        \\n        \\n        [this[\\\"formatted_vals\\\"].subscribe((function (val){!(this.valueFromJulia[\\\"formatted_vals\\\"]) ? (_webIOScope.setObservableValue({\\\"name\\\":\\\"formatted_vals\\\",\\\"scope\\\":\\\"knockout-component-f67fed6a-0f0c-45ca-91f7-cef1fff56aa8\\\",\\\"id\\\":\\\"ob_63\\\",\\\"type\\\":\\\"observable\\\"},val)) : undefined; return this.valueFromJulia[\\\"formatted_vals\\\"]=false}),self),this[\\\"changes\\\"].subscribe((function (val){!(this.valueFromJulia[\\\"changes\\\"]) ? (_webIOScope.setObservableValue({\\\"name\\\":\\\"changes\\\",\\\"scope\\\":\\\"knockout-component-f67fed6a-0f0c-45ca-91f7-cef1fff56aa8\\\",\\\"id\\\":\\\"ob_65\\\",\\\"type\\\":\\\"observable\\\"},val)) : undefined; return this.valueFromJulia[\\\"changes\\\"]=false}),self),this[\\\"formatted_value\\\"].subscribe((function (val){!(this.valueFromJulia[\\\"formatted_value\\\"]) ? (_webIOScope.setObservableValue({\\\"name\\\":\\\"formatted_value\\\",\\\"scope\\\":\\\"knockout-component-f67fed6a-0f0c-45ca-91f7-cef1fff56aa8\\\",\\\"id\\\":\\\"ob_64\\\",\\\"type\\\":\\\"observable\\\"},val)) : undefined; return this.valueFromJulia[\\\"formatted_value\\\"]=false}),self),this[\\\"index\\\"].subscribe((function (val){!(this.valueFromJulia[\\\"index\\\"]) ? (_webIOScope.setObservableValue({\\\"name\\\":\\\"index\\\",\\\"scope\\\":\\\"knockout-component-f67fed6a-0f0c-45ca-91f7-cef1fff56aa8\\\",\\\"id\\\":\\\"ob_62\\\",\\\"type\\\":\\\"observable\\\"},val)) : undefined; return this.valueFromJulia[\\\"index\\\"]=false}),self)]\\n        \\n    }\\n    self.model = new AppViewModel();\\n    self.valueFromJulia = {};\\n    for (var key in json_data) {\\n        self.valueFromJulia[key] = false;\\n    }\\n    ko.applyBindings(self.model, self.dom);\\n}\\n\")]),\"changes\"=>Any[JSString(\"(function (val){return (val!=this.model[\\\"changes\\\"]()) ? (this.valueFromJulia[\\\"changes\\\"]=true, this.model[\\\"changes\\\"](val)) : undefined})\")],\"formatted_value\"=>Any[JSString(\"(function (val){return (val!=this.model[\\\"formatted_value\\\"]()) ? (this.valueFromJulia[\\\"formatted_value\\\"]=true, this.model[\\\"formatted_value\\\"](val)) : undefined})\")],\"index\"=>Any[JSString(\"(function (val){return (val!=this.model[\\\"index\\\"]()) ? (this.valueFromJulia[\\\"index\\\"]=true, this.model[\\\"index\\\"](val)) : undefined})\"), JSString(\"(function (val){return _webIOScope.setObservableValue({\\\"name\\\":\\\"formatted_value\\\",\\\"scope\\\":\\\"knockout-component-f67fed6a-0f0c-45ca-91f7-cef1fff56aa8\\\",\\\"id\\\":\\\"ob_64\\\",\\\"type\\\":\\\"observable\\\"},_webIOScope.getObservableValue({\\\"name\\\":\\\"formatted_vals\\\",\\\"scope\\\":\\\"knockout-component-f67fed6a-0f0c-45ca-91f7-cef1fff56aa8\\\",\\\"id\\\":\\\"ob_63\\\",\\\"type\\\":\\\"observable\\\"})[(_webIOScope.getObservableValue({\\\"name\\\":\\\"index\\\",\\\"scope\\\":\\\"knockout-component-f67fed6a-0f0c-45ca-91f7-cef1fff56aa8\\\",\\\"id\\\":\\\"ob_62\\\",\\\"type\\\":\\\"observable\\\"})-1)])})\")]), ConnectionPool(Channel{Any}(sz_max:9223372036854775807,sz_curr:0), Set(AbstractConnection[]), Channel{AbstractConnection}(sz_max:32,sz_curr:0))), ##52#53{#dom#13{##dom#11#12{Dict{Any,Any},DOM}},typeof(scope)}(#dom#13{##dom#11#12{Dict{Any,Any},DOM}}(##dom#11#12{Dict{Any,Any},DOM}(Dict{Any,Any}(:className=>\"field\"), DOM(:html, :div))), scope))), Observable{Any} with 0 listeners. Value:\n",
       "Plot{Plots.GRBackend() n=4}, nothing, getfield(Main, Symbol(\"##36#38\")){Observable{Any}}(Observable{Any} with 0 listeners. Value:\n",
       "Plot{Plots.GRBackend() n=4}))"
      ]
     },
     "execution_count": 99,
     "metadata": {
      "application/vnd.webio.node+json": {
       "kernelId": "37e05cd7-ffa5-4437-af5f-166661ced89b"
      }
     },
     "output_type": "execute_result"
    }
   ],
   "source": [
    "@manipulate for cost_of_wind in COST_WIND .* (1:0.1:3)\n",
    "    # Define the vectors of outputs\n",
    "    objectives = Float64[] \n",
    "    wind_dispatch = Float64[]\n",
    "    G1_dispatch = Float64[]\n",
    "    G2_dispatch = Float64[]\n",
    "    \n",
    "    cost_of_g1 = COST_GENERATION[1] .* (0.5:0.1:3.0)\n",
    "    for c_g1 in cost_of_g1\n",
    "        # update the incremental cost of the first generator at every iteration\n",
    "        solution = solve_nonlinear_economic_dispatch(\n",
    "            cost_of_thermal = [c_g1, COST_GENERATION[2]],\n",
    "            cost_of_wind = cost_of_wind\n",
    "        )\n",
    "        # Add the solution of the economic dispatch problem to the respective vectors\n",
    "        push!(objectives, solution.cost)\n",
    "        push!(wind_dispatch, solution.wind_generation)\n",
    "        push!(G1_dispatch, solution.generation[1])\n",
    "        push!(G2_dispatch, solution.generation[2])\n",
    "    end\n",
    "    \n",
    "    # Plot the outputs\n",
    "    plot(\n",
    "        # Plot the total cost\n",
    "        plot(cost_of_g1, objectives,\n",
    "            ylabel = \"Total cost\",\n",
    "            ylims = (50000, 200000)\n",
    "        ),\n",
    "        # Plot the power output of Generator 1\n",
    "        plot(cost_of_g1, G1_dispatch,\n",
    "            ylabel = \"Dispatch: G1\",\n",
    "            ylims = (0, 1100)\n",
    "        ),\n",
    "        # Plot the power output of Generator 2    \n",
    "        plot(cost_of_g1, G2_dispatch,\n",
    "            ylabel = \"Dispatch: G2\",\n",
    "            ylims = (0, 1600)\n",
    "        ),\n",
    "        # Plot the wind power output\n",
    "        plot(cost_of_g1, wind_dispatch,\n",
    "            ylabel = \"Dispatch: Wind\",\n",
    "            ylims = (0, 250)\n",
    "        ),\n",
    "        legend = false,\n",
    "        xlabel = \"Cost of G1\"\n",
    "    )\n",
    "end"
   ]
  }
 ],
 "metadata": {
  "@webio": {
   "lastCommId": "dc0d786235fb44458e6987e96ed52742",
   "lastKernelId": "37e05cd7-ffa5-4437-af5f-166661ced89b"
  },
  "kernelspec": {
   "display_name": "Julia 1.0.2",
   "language": "julia",
   "name": "julia-1.0"
  },
  "language_info": {
   "file_extension": ".jl",
   "mimetype": "application/julia",
   "name": "julia",
   "version": "1.0.2"
  }
 },
 "nbformat": 4,
 "nbformat_minor": 2
}
